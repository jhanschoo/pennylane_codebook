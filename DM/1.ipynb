{
 "cells": [
  {
   "cell_type": "markdown",
   "metadata": {},
   "source": [
    "## D.1.1"
   ]
  },
  {
   "cell_type": "code",
   "execution_count": null,
   "metadata": {},
   "outputs": [],
   "source": [
    "def euclidean_distance(r, s):\n",
    "    \"\"\"Compute the Euclidean distance for two vectors of same size.\n",
    "    \n",
    "    Args:\n",
    "        r (np.array[float]): A real n-dimensional vector\n",
    "        s (np.array[float]): Another real n-dimensional vector\n",
    "        \n",
    "    Returns:\n",
    "        (float): A number that represents the Euclidean distance.\n",
    "    \"\"\"\n",
    "\n",
    "    ##################\n",
    "    # YOUR CODE HERE #\n",
    "    ##################\n",
    "    delta = r - s\n",
    "    distance = np.linalg.norm(delta)\n",
    "\n",
    "    # RETURN THE DISTANCE\n",
    "    return distance\n",
    "\n"
   ]
  },
  {
   "cell_type": "markdown",
   "metadata": {},
   "source": [
    "## D.1.2"
   ]
  },
  {
   "cell_type": "code",
   "execution_count": null,
   "metadata": {},
   "outputs": [],
   "source": [
    "\n",
    "def kolmogorov_distance(p, q):\n",
    "    \"\"\"Compute the total variation distance for two discrete probability distributions.\n",
    "    \n",
    "    Args:\n",
    "        p (np.array[float]): A vector of probability distribution\n",
    "        q (np.array[float]): A vector of probability distribution.\n",
    "        \n",
    "    Returns:\n",
    "        (float): A number that represents the trace distance\n",
    "        of the probability distributions.\n",
    "    \"\"\"\n",
    "\n",
    "    ##################\n",
    "    # YOUR CODE HERE #\n",
    "    ##################\n",
    "\n",
    "    # CREATE A VECTOR x BASED ON p - q\n",
    "    x = p - q\n",
    "\n",
    "    # RETURN THE L1-NORM OF x DIVIDED BY 2\n",
    "    return np.linalg.norm(x, ord=1) / 2\n",
    "\n"
   ]
  },
  {
   "cell_type": "markdown",
   "metadata": {},
   "source": [
    "## D.1.3"
   ]
  },
  {
   "cell_type": "code",
   "execution_count": null,
   "metadata": {},
   "outputs": [],
   "source": [
    "def kolmogorov_smirnov_cdf(cumulative_p, cumulative_q):\n",
    "    \"\"\"Compute the Komolgorov distance for two discrete \n",
    "       cumulative distributions.\n",
    "    \n",
    "    Args:\n",
    "        cumulative_p (np.array[float]): A cumulative distribution vector.\n",
    "        cumulative_q (np.array[float]): A cumulative distribution vector.\n",
    "        \n",
    "    Returns:\n",
    "        (float): A number that represents the Kolmogorov distance\n",
    "        between the probability distributions.\n",
    "    \"\"\"\n",
    "\n",
    "    ##################\n",
    "    # YOUR CODE HERE #\n",
    "    ##################\n",
    "    delta = cumulative_q - cumulative_p\n",
    "    distance = np.max(delta)\n",
    "\n",
    "    return distance # Return the distance between cumulative distributions\n"
   ]
  }
 ],
 "metadata": {
  "kernelspec": {
   "display_name": "pennylane",
   "language": "python",
   "name": "python3"
  },
  "language_info": {
   "name": "python",
   "version": "3.12.7"
  }
 },
 "nbformat": 4,
 "nbformat_minor": 2
}
