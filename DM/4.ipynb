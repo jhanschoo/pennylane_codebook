{
 "cells": [
  {
   "cell_type": "markdown",
   "metadata": {},
   "source": [
    "## D.4.1"
   ]
  },
  {
   "cell_type": "markdown",
   "metadata": {},
   "source": [
    "The fidelity turns out to be a quantum generalization of the Bhattacharyya coefficient."
   ]
  },
  {
   "cell_type": "code",
   "execution_count": null,
   "metadata": {},
   "outputs": [],
   "source": [
    "\n",
    "def pure_states_fidelity(psi,phi):\n",
    "    \"\"\"Compute the fidelity between two pure states of the same size.\n",
    "    \n",
    "    Args:\n",
    "        psi (tensor[complex]): The vector representation of a quantum state.\n",
    "        phi (tensor[complex]): The vector representation of a quantum state.\n",
    "        \n",
    "    Returns:\n",
    "        (float): A number that represents the fidelity.\n",
    "    \"\"\"\n",
    "\n",
    "    ##################\n",
    "    # YOUR CODE HERE #\n",
    "    ##################\n",
    "\n",
    "    # RETURN THE FIDELITY\n",
    "    return np.abs(np.vdot(psi, phi))\n",
    "\n"
   ]
  },
  {
   "cell_type": "markdown",
   "metadata": {},
   "source": [
    "## D.4.2"
   ]
  },
  {
   "cell_type": "code",
   "execution_count": null,
   "metadata": {},
   "outputs": [],
   "source": [
    "\n",
    "def pure_states_trace_distance(psi,phi):\n",
    "    \"\"\"Compute the trace distance between two pure states of the same size.\n",
    "    \n",
    "    Args:\n",
    "        psi (tensor[complex]): The vector representation of a quantum state.\n",
    "        phi (tensor[complex]): The vector representation of a quantum state.\n",
    "        \n",
    "    Returns:\n",
    "        (float): A number that represents the trace distance.\n",
    "    \"\"\"\n",
    "\n",
    "    ##################\n",
    "    # YOUR CODE HERE #\n",
    "    ##################\n",
    "\n",
    "    # RETURN THE TRACE DISTANCE\n",
    "    return np.sqrt(1 - pure_states_fidelity(psi, phi)**2)\n"
   ]
  },
  {
   "cell_type": "markdown",
   "metadata": {},
   "source": [
    "## D.4.3"
   ]
  },
  {
   "cell_type": "code",
   "execution_count": null,
   "metadata": {},
   "outputs": [],
   "source": [
    "dev = qml.device(\"default.mixed\", wires=1)\n",
    "\n",
    "# TARGET STATE\n",
    "target_state = np.array([1, 0])\n",
    "\n",
    "# DON'T EDIT THIS CIRCUIT\n",
    "@qml.qnode(dev)\n",
    "def circuit(target_state):\n",
    "    # STATE PREPARATION\n",
    "    qml.StatePrep(target_state, wires=0)\n",
    "    # APPLY SOME NOISE\n",
    "    qml.DepolarizingChannel(0.1, wires=0)\n",
    "    return qml.density_matrix(wires=0)\n",
    "\n",
    "density_matrix = circuit(target_state)\n",
    "\n",
    "def fidelity_target_circuit(target_state,density_matrix):\n",
    "    \"\"\"Compute the fidelity between a target state vector and a density matrix.\n",
    "    \n",
    "    Args:\n",
    "        target_state (tensor[complex]): The vector representation of a quantum state.\n",
    "        density_matrix (tensor[complex]): The density matrix representation of a quantum state.\n",
    "        \n",
    "    Returns:\n",
    "        (float): A number that represents the fidelity\n",
    "    \"\"\"\n",
    "    ##################\n",
    "    # YOUR CODE HERE #\n",
    "    ##################\n",
    "    \n",
    "    # COMPUTE THE DENSITY MATRIX REPRESENTATION OF THE TARGET STATE\n",
    "    target_dm = qml.math.dm_from_state_vector(target_state)\n",
    "\n",
    "    # RETURN THE FIDELITY\n",
    "    return qml.math.fidelity(target_dm, density_matrix)\n",
    "\n",
    "print(\"The fidelity between the target state and the density matrix is: \", \n",
    "      fidelity_target_circuit(target_state, density_matrix))\n"
   ]
  }
 ],
 "metadata": {
  "kernelspec": {
   "display_name": "pennylane",
   "language": "python",
   "name": "python3"
  },
  "language_info": {
   "name": "python",
   "version": "3.12.7"
  }
 },
 "nbformat": 4,
 "nbformat_minor": 2
}
