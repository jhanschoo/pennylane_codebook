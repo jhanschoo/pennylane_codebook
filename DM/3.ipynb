{
 "cells": [
  {
   "cell_type": "markdown",
   "metadata": {},
   "source": [
    "See https://en.wikipedia.org/wiki/Schatten_norm and note that it differs from the https://en.wikipedia.org/wiki/Matrix_norm . The trace distance is half the Schatten 1-norm on the difference matrix."
   ]
  },
  {
   "cell_type": "markdown",
   "metadata": {},
   "source": [
    "## D.3.1"
   ]
  },
  {
   "cell_type": "code",
   "execution_count": null,
   "metadata": {},
   "outputs": [],
   "source": [
    "def trace_distance(A,B):\n",
    "    \"\"\"Compute the trace distance of two operators with\n",
    "    same dimension.\n",
    "    \n",
    "    Args:\n",
    "        A (tensor[complex]): The matrix representation of a quantum operator.\n",
    "        B (tensor[complex]): The matrix representation of a quantum operator.\n",
    "        \n",
    "    Returns:\n",
    "        (float): A number that represents the trace distance.\n",
    "    \"\"\"\n",
    "\n",
    "    ##################\n",
    "    # YOUR CODE HERE #\n",
    "    ##################\n",
    "\n",
    "    delta = A - B\n",
    "    # RETURN THE TRACE DISTANCE\n",
    "    return np.linalg.norm(delta, ord='nuc') / 2\n"
   ]
  },
  {
   "cell_type": "markdown",
   "metadata": {},
   "source": [
    "## D.3.2"
   ]
  },
  {
   "cell_type": "code",
   "execution_count": null,
   "metadata": {},
   "outputs": [],
   "source": [
    "def get_best_sample(samples, rho):\n",
    "    \"\"\"Select a state from a list of states which is closest \n",
    "    to the density operator rho.\n",
    "\n",
    "    Args:\n",
    "        samples list(tensor[complex]): A list containing the density matrix representations of many sample states\n",
    "        rho (tensor[complex]): The matrix representation of Alex's quantum state.\n",
    "        \n",
    "    Returns:\n",
    "        tensor[complex]: The best sample density matrix.\n",
    "    \"\"\"\n",
    "\n",
    "    # Find out what the best state samples trace distance stays below 0.1\n",
    "   \n",
    "     ##################\n",
    "    # YOUR CODE HERE #\n",
    "    ##################\n",
    "\n",
    "    # RETURN THE BEST SAMPLE\n",
    "    min_ind = 0\n",
    "    min_dist = float('inf')\n",
    "    for i, sample in enumerate(samples):\n",
    "        dist = trace_distance(sample, rho)\n",
    "        if dist < min_dist:\n",
    "            min_dist = dist\n",
    "            min_ind = i\n",
    "    return samples[min_ind] \n"
   ]
  },
  {
   "cell_type": "markdown",
   "metadata": {},
   "source": [
    "## D.3.3a"
   ]
  },
  {
   "cell_type": "code",
   "execution_count": null,
   "metadata": {},
   "outputs": [],
   "source": [
    "dev = qml.device(\"default.qubit\", wires=1)\n",
    "\n",
    "# YOU CAN PLAY AROUND WITH DIFFERENT VALUES\n",
    "x = 0.0\n",
    "y = 0.1\n",
    "@qml.qnode(dev)\n",
    "def circuit(param):\n",
    "    qml.RX(param, wires=0)\n",
    "    return qml.density_matrix(wires=[0])\n",
    "\n",
    "state_1 = circuit(x)\n",
    "state_2 = circuit(y)\n",
    "\n",
    "qml.math.trace_distance(state_1, state_2)\n"
   ]
  },
  {
   "cell_type": "markdown",
   "metadata": {},
   "source": [
    "## D.3.3b"
   ]
  },
  {
   "cell_type": "code",
   "execution_count": null,
   "metadata": {},
   "outputs": [],
   "source": [
    "n_bits = 2\n",
    "dev = qml.device(\"default.qubit\", wires=n_bits)\n",
    "\n",
    "@qml.qnode(dev)\n",
    "def circuit1(wires_measured):\n",
    "    \"\"\"\n",
    "    Produces a density matrix for a full state\n",
    "    if wires_measured = [0,1], and the reduced\n",
    "    state if wires_measured = [0]\n",
    "    \"\"\"\n",
    "\n",
    "    # Write a circuit here\n",
    "\n",
    "    return qml.density_matrix(wires=wires_measured)\n",
    "\n",
    "@qml.qnode(dev)\n",
    "def circuit2(wires_measured):\n",
    "    \"\"\"\n",
    "    Produces a density matrix for a full state\n",
    "    if wires_measured = [0,1], and the reduced\n",
    "    state if wires_measured = [0]\n",
    "    \"\"\"\n",
    "\n",
    "    return qml.density_matrix(wires = wires_measured)\n",
    "\n",
    "def trace_distance_partial():\n",
    "\n",
    "    # Return the trace distance between the reduced states (wires_measured = 0)\n",
    "    return qml.math.trace_distance(circuit1([0]), circuit2([0]))\n",
    "    \n",
    "def trace_distance_full():\n",
    "\n",
    "    # Return the trace distance between the full quantum states (wires_measured = [0,1])\n",
    "    return qml.math.trace_distance(circuit1([0, 1]), circuit2([0, 1]))\n",
    "\n",
    "print(\"Subsystem distance: \", trace_distance_partial())\n",
    "print(\"Full distance: \", trace_distance_full())\n"
   ]
  }
 ],
 "metadata": {
  "kernelspec": {
   "display_name": "pennylane",
   "language": "python",
   "name": "python3"
  },
  "language_info": {
   "name": "python",
   "version": "3.12.7"
  }
 },
 "nbformat": 4,
 "nbformat_minor": 2
}
