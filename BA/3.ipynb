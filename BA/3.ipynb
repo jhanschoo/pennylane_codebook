{
 "cells": [
  {
   "cell_type": "code",
   "execution_count": 1,
   "metadata": {},
   "outputs": [],
   "source": [
    "import pennylane as qml\n",
    "from pennylane import numpy as np"
   ]
  },
  {
   "cell_type": "markdown",
   "metadata": {},
   "source": [
    "## A.3.1"
   ]
  },
  {
   "cell_type": "markdown",
   "metadata": {},
   "source": [
    "Concept: Consider $U_f\\ket{\\vec{x}+}$, where $\\vec{x}+$ has the same length as $\\vec{s}$. Paying attention to how $U_f$ transforms the state, we obtain $\\ket{\\vec{x}-}$ exactly when $\\vec{x}$ is a prefix of $\\vec{s}$; otherwise, we still have $\\ket{\\vec{x}+}$. If we should apply Hadamard again to the last wire, we read $\\ket{1}$ when $\\vec{x}$ is a prefix and $\\ket{0}$ otherwise.\n"
   ]
  },
  {
   "cell_type": "code",
   "execution_count": null,
   "metadata": {},
   "outputs": [],
   "source": [
    "n_bits = 4\n",
    "dev = qml.device(\"default.qubit\", wires=n_bits)\n",
    "\n",
    "@qml.qnode(dev)\n",
    "def pair_circuit(x_tilde, combo):\n",
    "    \"\"\"Test a pair labelled by x_tilde for the presence of a solution.\n",
    "    \n",
    "    Args:\n",
    "        x_tilde (list[int]): An (n_bits - 1)-string labelling the pair to test.\n",
    "        combo (list[int]): A secret combination of n_bits 0s and 1s.\n",
    "        \n",
    "    Returns:\n",
    "        array[float]: Probabilities on the last qubit.\n",
    "    \"\"\"\n",
    "    for i in range(n_bits-1): # Initialize x_tilde part of state\n",
    "        if x_tilde[i] == 1:\n",
    "            qml.PauliX(wires=i)\n",
    "\n",
    "    ##################\n",
    "    # YOUR CODE HERE #\n",
    "    ##################\n",
    "    qml.Hadamard(wires=n_bits-1)\n",
    "    qml.QubitUnitary(oracle_matrix(combo), wires=range(n_bits))\n",
    "    qml.Hadamard(wires=n_bits-1)\n",
    "    \n",
    "    return qml.probs(wires=n_bits-1)\n"
   ]
  },
  {
   "cell_type": "markdown",
   "metadata": {},
   "source": [
    "## A.3.2"
   ]
  },
  {
   "cell_type": "markdown",
   "metadata": {},
   "source": [
    "Concept: The significance of this is the preceding is that instead of making brute-force queries of $U_f$ against the $2^{|\\vec{s}|}$ permutations of an $|\\vec{s}|$-bit state (requiring $2^{|\\vec{s}|}-1$ queries in the worst case and $(L-1)/2+(L-1)/L$ queries on average, where $L=2^{|\\vec{s}|}$), we make queries against the $2^{|\\vec{s}|-1}$ permutations of the $(|\\vec{s}|-1)$-bit prefixes of $\\vec{s}$, requiring $(L-1)/2-1/L$ tests on average, where $L=2^{|\\vec{s}|-1}$.\n",
    "\n",
    "Note: we test each permutation in order except for the last, which we know automatically should it be the secret from every other permutation failing; when testing in pairs, we need to run an additional test once we have identified the pair, to determine which of the two it is."
   ]
  },
  {
   "cell_type": "code",
   "execution_count": null,
   "metadata": {},
   "outputs": [],
   "source": [
    "def pair_lock_picker(trials):\n",
    "    \"\"\"Create a combo, run pair_circuit until it succeeds, and tally success rate.\n",
    "    \n",
    "    Args:\n",
    "        trials (int): Number of times to test the lock picker.\n",
    "\n",
    "    Returns:\n",
    "        float: The average number of times the lock picker uses pair_circuit.\n",
    "    \"\"\"\n",
    "    x_tilde_strs = [np.binary_repr(n, n_bits-1) for n in range(2**(n_bits-1))]\n",
    "    x_tildes = [[int(s) for s in x_tilde_str] for x_tilde_str in x_tilde_strs] \n",
    "\n",
    "    test_numbers = []\n",
    "\n",
    "    for trial in range(trials):\n",
    "        combo = secret_combo(n_bits) # Random list of bits\n",
    "        counter = 0\n",
    "        for x_tilde in x_tildes:\n",
    "            counter += 1\n",
    "\n",
    "            ##################\n",
    "            # YOUR CODE HERE #\n",
    "            ##################\n",
    "            if np.isclose(pair_circuit(x_tilde, combo), np.array([0.+0.j, 1.+0.j])).all():\n",
    "                break\n",
    "        \n",
    "        test_numbers.append(counter)\n",
    "    return sum(test_numbers)/trials\n",
    "\n",
    "trials = 500\n",
    "output = pair_lock_picker(trials)\n",
    "\n",
    "print(f\"For {n_bits} bits, it takes\", output, \"pair tests on average.\")\n"
   ]
  }
 ],
 "metadata": {
  "kernelspec": {
   "display_name": "pennylane",
   "language": "python",
   "name": "python3"
  },
  "language_info": {
   "codemirror_mode": {
    "name": "ipython",
    "version": 3
   },
   "file_extension": ".py",
   "mimetype": "text/x-python",
   "name": "python",
   "nbconvert_exporter": "python",
   "pygments_lexer": "ipython3",
   "version": "3.12.7"
  }
 },
 "nbformat": 4,
 "nbformat_minor": 2
}
