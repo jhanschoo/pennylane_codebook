{
 "cells": [
  {
   "cell_type": "code",
   "execution_count": null,
   "metadata": {},
   "outputs": [],
   "source": [
    "import pennylane as qml\n",
    "from pennylane import numpy as np"
   ]
  },
  {
   "cell_type": "markdown",
   "metadata": {},
   "source": [
    "## A.4.1"
   ]
  },
  {
   "cell_type": "code",
   "execution_count": null,
   "metadata": {},
   "outputs": [],
   "source": [
    "n_bits = 4\n",
    "dev = qml.device(\"default.qubit\", wires=n_bits)\n",
    "\n",
    "def multisol_oracle_matrix(combos):\n",
    "    \"\"\"Return the oracle matrix for a set of solutions.\n",
    "\n",
    "    Args:\n",
    "        combos (list[list[int]]): A list of secret bit strings.\n",
    "\n",
    "    Returns:\n",
    "        array[float]: The matrix representation of the oracle.\n",
    "    \"\"\"\n",
    "    indices = [np.ravel_multi_index(combo, [2]*len(combo)) for combo in combos]\n",
    "    ##################\n",
    "    # YOUR CODE HERE #\n",
    "    ##################\n",
    "    my_array = np.identity(2**n_bits)\n",
    "    for i in indices:\n",
    "        my_array[i,i] = -1.\n",
    "    return my_array\n",
    "\n",
    "@qml.qnode(dev)\n",
    "def multisol_pair_circuit(x_tilde, combos):\n",
    "    \"\"\"Implements the circuit for testing a pair of combinations labelled by x_tilde.\n",
    "    \n",
    "    Args:\n",
    "        x_tilde (list[int]): An (n_bits - 1)-bit string labelling the pair to test.\n",
    "        combos (list[list[int]]): A list of secret bit strings.\n",
    "\n",
    "    Returns:\n",
    "        array[float]: Probabilities on the last qubit.\n",
    "    \"\"\"\n",
    "    for i in range(n_bits-1): # Initialize x_tilde part of state\n",
    "        if x_tilde[i] == 1:\n",
    "            qml.PauliX(wires=i)\n",
    "\n",
    "    ##################\n",
    "    # YOUR CODE HERE #\n",
    "    ##################\n",
    "    qml.Hadamard(wires=n_bits-1)\n",
    "    qml.QubitUnitary(multisol_oracle_matrix(combos), wires=range(n_bits))\n",
    "    qml.Hadamard(wires=n_bits-1)\n",
    "\n",
    "    return qml.probs(wires=n_bits-1)\n"
   ]
  },
  {
   "cell_type": "markdown",
   "metadata": {},
   "source": [
    "## A.4.2"
   ]
  },
  {
   "cell_type": "code",
   "execution_count": null,
   "metadata": {},
   "outputs": [],
   "source": [
    "def parity_checker(combos):\n",
    "    \"\"\"Use multisol_pair_circuit to determine the parity of a solution set.\n",
    "\n",
    "    Args:\n",
    "        combos (list[list[int]]): A list of secret combinations.\n",
    "\n",
    "    Returns: \n",
    "        int: The parity of the solution set.\n",
    "    \"\"\"\n",
    "    parity = 0\n",
    "    x_tilde_strs = [np.binary_repr(n, n_bits-1) for n in range(2**(n_bits-1))]\n",
    "    x_tildes = [[int(s) for s in x_tilde_str] for x_tilde_str in x_tilde_strs]\n",
    "    for x_tilde in x_tildes:\n",
    "\n",
    "        ##################\n",
    "        # YOUR CODE HERE #\n",
    "        ##################\n",
    "\n",
    "        # IMPLEMENT PARITY COUNTING ALGORITHM\n",
    "        if np.isclose(multisol_pair_circuit(x_tilde, combos), np.array([1.+0.j, 0.+0.j])).all():\n",
    "            parity = 1 - parity\n",
    "\n",
    "    return parity"
   ]
  }
 ],
 "metadata": {
  "language_info": {
   "name": "python"
  }
 },
 "nbformat": 4,
 "nbformat_minor": 2
}
