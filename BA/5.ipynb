{
 "cells": [
  {
   "cell_type": "code",
   "execution_count": null,
   "metadata": {},
   "outputs": [],
   "source": [
    "import pennylane as qml\n",
    "from pennylane import numpy as np"
   ]
  },
  {
   "cell_type": "markdown",
   "metadata": {},
   "source": [
    "## A.5.1"
   ]
  },
  {
   "cell_type": "markdown",
   "metadata": {},
   "source": [
    "Concept: on the other hand, we can apply the **Hadamard transform** (i.e. apply the Hadamard gate to all wires) before applying $U_f$, then Hadamard transform again. Before the latter Hadamard transform, we have inducec a phase change exactly in the component of the state that corresponds to the solution.\n",
    "\n",
    "Then, in the computational basis, the magnitude of each basis component $\\vec{y}$ is given by a summation over all permutations ($\\vec{x}$), where each term contributes $(-1)^{f(\\vec{x})+\\vec{x}\\cdot\\vec{y}}$, and $f$ is an indicator whether $\\vec{x}$ is a solution.\n",
    "\n",
    "Unfortunately, performing the compound transformation wrt distinct solutions results in state vectors whose dot products are $1-4/2^n$; this is their similarity according to cosine similarity, exceedingly so; and moreso the more qubits there are. For $n=1$ the distinct choices in fact result in the same state under different signs. We do indeed have orthogonality when $n=2$."
   ]
  },
  {
   "cell_type": "code",
   "execution_count": null,
   "metadata": {},
   "outputs": [],
   "source": [
    "n_bits = 4\n",
    "dev = qml.device(\"default.qubit\", wires=n_bits)\n",
    "\n",
    "@qml.qnode(dev)\n",
    "def hoh_circuit(combo):\n",
    "    \"\"\"A circuit which applies Hadamard-oracle-Hadamard and returns probabilities.\n",
    "    \n",
    "    Args:\n",
    "        combo (list[int]): A list of bits representing a secret combination.\n",
    "\n",
    "    Returns:\n",
    "        list[float]: Measurement outcome probabilities.\n",
    "    \"\"\"\n",
    "\n",
    "    ##################\n",
    "    # YOUR CODE HERE #\n",
    "    ##################\n",
    "    qml.broadcast(qml.Hadamard, wires=range(n_bits), pattern=\"single\")\n",
    "    qml.QubitUnitary(oracle_matrix(combo), wires=range(n_bits))\n",
    "    qml.broadcast(qml.Hadamard, wires=range(n_bits), pattern=\"single\")\n",
    "\n",
    "    return qml.probs(wires=range(n_bits))\n"
   ]
  }
 ],
 "metadata": {
  "language_info": {
   "name": "python"
  }
 },
 "nbformat": 4,
 "nbformat_minor": 2
}
