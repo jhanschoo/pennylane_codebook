{
 "cells": [
  {
   "cell_type": "code",
   "execution_count": null,
   "metadata": {},
   "outputs": [],
   "source": [
    "import pennylane as qml\n",
    "from pennylane import numpy as np"
   ]
  },
  {
   "cell_type": "markdown",
   "metadata": {},
   "source": [
    "## A.5.1"
   ]
  },
  {
   "cell_type": "code",
   "execution_count": null,
   "metadata": {},
   "outputs": [],
   "source": [
    "n_bits = 4\n",
    "dev = qml.device(\"default.qubit\", wires=n_bits)\n",
    "\n",
    "@qml.qnode(dev)\n",
    "def hoh_circuit(combo):\n",
    "    \"\"\"A circuit which applies Hadamard-oracle-Hadamard and returns probabilities.\n",
    "    \n",
    "    Args:\n",
    "        combo (list[int]): A list of bits representing a secret combination.\n",
    "\n",
    "    Returns:\n",
    "        list[float]: Measurement outcome probabilities.\n",
    "    \"\"\"\n",
    "\n",
    "    ##################\n",
    "    # YOUR CODE HERE #\n",
    "    ##################\n",
    "    qml.broadcast(qml.Hadamard, wires=range(n_bits), pattern=\"single\")\n",
    "    qml.QubitUnitary(oracle_matrix(combo), wires=range(n_bits))\n",
    "    qml.broadcast(qml.Hadamard, wires=range(n_bits), pattern=\"single\")\n",
    "\n",
    "    return qml.probs(wires=range(n_bits))\n"
   ]
  }
 ],
 "metadata": {
  "language_info": {
   "name": "python"
  }
 },
 "nbformat": 4,
 "nbformat_minor": 2
}
