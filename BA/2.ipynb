{
 "cells": [
  {
   "cell_type": "code",
   "execution_count": 1,
   "metadata": {},
   "outputs": [],
   "source": [
    "import pennylane as qml\n",
    "from pennylane import numpy as np"
   ]
  },
  {
   "cell_type": "markdown",
   "metadata": {},
   "source": [
    "## A.2.1"
   ]
  },
  {
   "cell_type": "markdown",
   "metadata": {},
   "source": [
    "Concept: the **oracle** is represented as a unitary operator $U_f=I-2\\ket{\\vec{s}}\\bra{\\vec{s}}$, that negates the state vector component in $\\ket{\\vec{s}}$.\n",
    "\n",
    "A **query** refers to applying $U_f$ to the state."
   ]
  },
  {
   "cell_type": "code",
   "execution_count": null,
   "metadata": {},
   "outputs": [],
   "source": [
    "def oracle_matrix(combo):\n",
    "    \"\"\"Return the oracle matrix for a secret combination.\n",
    "    \n",
    "    Args:\n",
    "        combo (list[int]): A list of bits representing a secret combination.\n",
    "         \n",
    "    Returns:\n",
    "        array[float]: The matrix representation of the oracle.\n",
    "    \"\"\"\n",
    "    index = np.ravel_multi_index(combo, [2]*len(combo)) # Index of solution\n",
    "    my_array = np.identity(2**len(combo)) # Create the identity matrix\n",
    "\n",
    "    ##################\n",
    "    # YOUR CODE HERE #\n",
    "    ##################\n",
    "\n",
    "    # MODIFY DIAGONAL ENTRY CORRESPONDING TO SOLUTION INDEX\n",
    "    my_array[index, index] = -1.\n",
    "\n",
    "    return my_array\n",
    "\n"
   ]
  },
  {
   "cell_type": "markdown",
   "metadata": {},
   "source": [
    "## A.2.2"
   ]
  },
  {
   "cell_type": "markdown",
   "metadata": {},
   "source": [
    "Applying $U_f$ to the uniform superposition does nothing to change the distribution of the bases states when measured, though it negates the phase of the distinguished component $\\ket{\\vec{s}}$."
   ]
  },
  {
   "cell_type": "code",
   "execution_count": 12,
   "metadata": {},
   "outputs": [],
   "source": [
    "n_bits = 4\n",
    "dev = qml.device(\"default.qubit\", wires=n_bits)\n",
    "\n",
    "@qml.qnode(dev)\n",
    "def oracle_circuit(combo):\n",
    "    \"\"\"Create a uniform superposition, apply the oracle, and return probabilities.\n",
    "    \n",
    "    Args:\n",
    "        combo (list[int]): A list of bits representing a secret combination.\n",
    "\n",
    "    Returns:\n",
    "        list[float]: The output probabilities.\n",
    "    \"\"\"\n",
    "\n",
    "    ##################\n",
    "    # YOUR CODE HERE #\n",
    "    ##################\n",
    "    for wire in range(n_bits):\n",
    "        qml.Hadamard(wires=wire)\n",
    "    qml.QubitUnitary(oracle_matrix(combo), wires=range(n_bits))\n",
    "\n",
    "    return qml.probs(wires=range(n_bits))\n"
   ]
  }
 ],
 "metadata": {
  "kernelspec": {
   "display_name": "pennylane",
   "language": "python",
   "name": "python3"
  },
  "language_info": {
   "codemirror_mode": {
    "name": "ipython",
    "version": 3
   },
   "file_extension": ".py",
   "mimetype": "text/x-python",
   "name": "python",
   "nbconvert_exporter": "python",
   "pygments_lexer": "ipython3",
   "version": "3.12.7"
  }
 },
 "nbformat": 4,
 "nbformat_minor": 2
}
