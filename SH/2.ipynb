{
 "cells": [
  {
   "cell_type": "code",
   "execution_count": 1,
   "metadata": {},
   "outputs": [],
   "source": [
    "import pennylane as qml\n",
    "from pennylane import numpy as np"
   ]
  },
  {
   "cell_type": "markdown",
   "metadata": {},
   "source": [
    "## S.2.1"
   ]
  },
  {
   "cell_type": "code",
   "execution_count": 2,
   "metadata": {},
   "outputs": [
    {
     "name": "stdout",
     "output_type": "stream",
     "text": [
      "137\n"
     ]
    }
   ],
   "source": [
    "def nontrivial_square_root(m):\n",
    "    \"\"\"Return the first nontrivial square root modulo m.\n",
    "\n",
    "    Args:\n",
    "        m (int): modulus for which want to find the nontrivial square root\n",
    "\n",
    "    Returns:\n",
    "        int: the first nontrivial square root of m\n",
    "    \"\"\"\n",
    "\n",
    "    ##################\n",
    "    # YOUR CODE HERE #\n",
    "    ##################\n",
    "    for x in range(2, m - 1):\n",
    "        if x ** 2 % m == 1:\n",
    "            return x\n",
    "\n",
    "print(nontrivial_square_root(391))\n"
   ]
  },
  {
   "cell_type": "markdown",
   "metadata": {},
   "source": [
    "## S.2.2"
   ]
  },
  {
   "cell_type": "code",
   "execution_count": 3,
   "metadata": {},
   "outputs": [
    {
     "name": "stdout",
     "output_type": "stream",
     "text": [
      "391 = 17 x 23\n"
     ]
    }
   ],
   "source": [
    "def factorization(N):\n",
    "    \"\"\"Return the factors of N.\n",
    "\n",
    "    Args:\n",
    "        N (int): number we want to factor.\n",
    "\n",
    "    Returns:\n",
    "        array[int]: [p,q] factors of N.\n",
    "    \"\"\"\n",
    "    ##################\n",
    "    # YOUR CODE HERE #\n",
    "    ##################\n",
    "    sr = nontrivial_square_root(N)\n",
    "    p = np.gcd(sr - 1, N)\n",
    "    q = np.gcd(sr + 1, N)\n",
    "    return p, q\n",
    "\n",
    "N = 391\n",
    "p, q = factorization(N)\n",
    "print(f\"{N} = {p} x {q}\")\n"
   ]
  }
 ],
 "metadata": {
  "kernelspec": {
   "display_name": "pennylane",
   "language": "python",
   "name": "python3"
  },
  "language_info": {
   "codemirror_mode": {
    "name": "ipython",
    "version": 3
   },
   "file_extension": ".py",
   "mimetype": "text/x-python",
   "name": "python",
   "nbconvert_exporter": "python",
   "pygments_lexer": "ipython3",
   "version": "3.12.7"
  }
 },
 "nbformat": 4,
 "nbformat_minor": 2
}
