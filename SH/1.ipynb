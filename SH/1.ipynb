{
 "cells": [
  {
   "cell_type": "code",
   "execution_count": 1,
   "metadata": {},
   "outputs": [],
   "source": [
    "import pennylane as qml\n",
    "from pennylane import numpy as np"
   ]
  },
  {
   "cell_type": "markdown",
   "metadata": {},
   "source": [
    "## S.1.1"
   ]
  },
  {
   "cell_type": "code",
   "execution_count": 2,
   "metadata": {},
   "outputs": [
    {
     "name": "stdout",
     "output_type": "stream",
     "text": [
      "13 = 8 (3) is False\n",
      "13 = 7 (6) is True\n"
     ]
    }
   ],
   "source": [
    "def is_equivalent(a, b, m):\n",
    "    \"\"\"Return a boolean indicating whether the equivalence is satisfied.\n",
    "\n",
    "    Args:\n",
    "        a (int): First number to check the equivalence.\n",
    "        b (int): Second number to check the equivalence.\n",
    "        m (int): Modulus of the equivalence.\n",
    "\n",
    "    Returns:\n",
    "        bool: True if a = b (m), False otherwise.\n",
    "    \"\"\"\n",
    "\n",
    "    ##################\n",
    "    # YOUR CODE HERE #\n",
    "    ##################\n",
    "    return (a - b) % m == 0\n",
    "\n",
    "\n",
    "print(f\"13 = 8 (3) is {is_equivalent(13, 8, 3)}\")\n",
    "print(f\"13 = 7 (6) is {is_equivalent(13, 7, 6)}\")\n"
   ]
  },
  {
   "cell_type": "markdown",
   "metadata": {},
   "source": [
    "## P.1.2"
   ]
  },
  {
   "cell_type": "code",
   "execution_count": null,
   "metadata": {},
   "outputs": [],
   "source": [
    "dev = qml.device(\"default.qubit\", wires=2)\n",
    "        \n",
    "@qml.qnode(dev)\n",
    "def phase_kickback_X(eigenvector):\n",
    "    \"\"\" Given an eigenvector of X, \n",
    "    apply the phase kickback circuit to observe \n",
    "    the probabilities on the control wire\n",
    "    \n",
    "    Args: \n",
    "        eigenvector(String): A string \"plus\" or \"minus\" depicting \n",
    "        the eigenvector of X\n",
    "    \n",
    "    Returns:\n",
    "        array[int]: Measurement outcome on the first qubit using qml.probs()\n",
    "    \"\"\"\n",
    "    # Prepare |ψ>\n",
    "    ##################\n",
    "    # YOUR CODE HERE #\n",
    "    ##################\n",
    "    if eigenvector == \"minus\":\n",
    "        qml.PauliX(wires=0)\n",
    "    qml.Hadamard(wires=1)\n",
    "    \n",
    "    \n",
    "    # Phase kickback\n",
    "    ##################\n",
    "    # YOUR CODE HERE #\n",
    "    ##################\n",
    "    qml.Hadamard(wires=0)\n",
    "    qml.CNOT(wires=[0, 1])\n",
    "    qml.Hadamard(wires=0)\n",
    " \n",
    "    return qml.probs(wires=[0])   \n",
    "\n",
    "print(phase_kickback_X(\"plus\"))\n",
    "print(phase_kickback_X(\"minus\"))\n",
    "\n",
    "# MODIFY EIGENVALUES BELOW \n",
    "eigenvalue_of_X_plus = 1\n",
    "eigenvalue_of_X_minus = -1\n"
   ]
  },
  {
   "cell_type": "markdown",
   "metadata": {},
   "source": [
    "## S.1.2\n"
   ]
  },
  {
   "cell_type": "code",
   "execution_count": null,
   "metadata": {},
   "outputs": [],
   "source": [
    "def has_inverse(a, m):\n",
    "    \"\"\"Returns a boolean indicating whether a number has an inverse modulo m.\n",
    "\n",
    "    Args:\n",
    "        a (int): Number to find the inverse modulus m.\n",
    "        m (int): Modulus of the equivalence.\n",
    "\n",
    "    Returns:\n",
    "        bool: True if c exists (ac = 1 (m)), False otherwise\n",
    "    \"\"\"\n",
    "\n",
    "    ##################\n",
    "    # YOUR CODE HERE #\n",
    "    ##################\n",
    "    for c in range(m):\n",
    "        if (a * c) % m == 1:\n",
    "            return True\n",
    "    return False\n",
    "\n",
    "\n",
    "print(\"(5,15)\", has_inverse(5, 15))\n",
    "print(\"(7,15)\", has_inverse(7, 15))\n"
   ]
  }
 ],
 "metadata": {
  "kernelspec": {
   "display_name": "pennylane",
   "language": "python",
   "name": "python3"
  },
  "language_info": {
   "codemirror_mode": {
    "name": "ipython",
    "version": 3
   },
   "file_extension": ".py",
   "mimetype": "text/x-python",
   "name": "python",
   "nbconvert_exporter": "python",
   "pygments_lexer": "ipython3",
   "version": "3.12.7"
  }
 },
 "nbformat": 4,
 "nbformat_minor": 2
}
