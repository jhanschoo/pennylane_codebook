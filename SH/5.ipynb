{
 "cells": [
  {
   "cell_type": "code",
   "execution_count": 1,
   "metadata": {},
   "outputs": [],
   "source": [
    "import pennylane as qml\n",
    "from pennylane import numpy as np"
   ]
  },
  {
   "cell_type": "markdown",
   "metadata": {},
   "source": [
    "## S.5.1"
   ]
  },
  {
   "cell_type": "code",
   "execution_count": null,
   "metadata": {},
   "outputs": [
    {
     "name": "stdout",
     "output_type": "stream",
     "text": [
      "137\n"
     ]
    }
   ],
   "source": [
    "def create_keys(p, q):\n",
    "    \"\"\"Returns the characteristic e, d and N values of RSA\n",
    "\n",
    "    Args:\n",
    "        p (int): First prime number of the algorithm.\n",
    "        q (int): Second prime number of the algorithm.\n",
    "\n",
    "    Returns:\n",
    "        (int, int, int): a tuple consisting of the 'e' value of the RSA codification. 'd' value of the RSA codification.\n",
    "            and 'N', the product of p and q.\n",
    "    \"\"\"\n",
    "\n",
    "    ##################\n",
    "    # YOUR CODE HERE #\n",
    "    ##################\n",
    "    N = p * q\n",
    "    theta = (p - 1) * (q - 1)\n",
    "    e = theta\n",
    "    while int(np.gcd(e, theta)) != 1:\n",
    "        e = int(np.random.randint(theta // 4, theta))\n",
    "    d = pow(e, -1, theta)\n",
    "    return e, d, N\n",
    "\n",
    "\n",
    "print(create_keys(3, 53))\n"
   ]
  },
  {
   "cell_type": "markdown",
   "metadata": {},
   "source": [
    "## S.5.2"
   ]
  },
  {
   "cell_type": "code",
   "execution_count": null,
   "metadata": {},
   "outputs": [],
   "source": [
    "def decode(d, N, code):\n",
    "    \"\"\"Decode an encrypted message\n",
    "\n",
    "    Args:\n",
    "        d (int): Value of the RSA codification.\n",
    "        N (int): Product of p and q.\n",
    "        code list[int]: List of values to be decoded.\n",
    "\n",
    "    Returns:\n",
    "        string: Decoded message. (One character per list item)\n",
    "    \"\"\"\n",
    "\n",
    "    ##################\n",
    "    # YOUR CODE HERE #\n",
    "    ##################\n",
    "    message = \"\".join(chr(pow(c, d, N)) for c in code)\n",
    "\n",
    "    return message\n",
    "\n",
    "\n",
    "code = [\n",
    "    129827,\n",
    "    294117,\n",
    "    126201,\n",
    "    157316,\n",
    "    270984,\n",
    "    126201,\n",
    "    157316,\n",
    "    270984,\n",
    "    209269,\n",
    "    163084,\n",
    "    270984,\n",
    "    157316,\n",
    "    95353,\n",
    "    289896,\n",
    "    49377,\n",
    "    95353,\n",
    "    48004,\n",
    "    270984,\n",
    "    209269,\n",
    "    95353,\n",
    "    157316,\n",
    "    157316,\n",
    "    210673,\n",
    "    267093,\n",
    "    95353,\n",
    "]\n",
    "\n",
    "N = 378221\n",
    "d = 150797\n",
    "\n",
    "\n",
    "print(decode(d, N, code))\n"
   ]
  }
 ],
 "metadata": {
  "kernelspec": {
   "display_name": "pennylane",
   "language": "python",
   "name": "python3"
  },
  "language_info": {
   "codemirror_mode": {
    "name": "ipython",
    "version": 3
   },
   "file_extension": ".py",
   "mimetype": "text/x-python",
   "name": "python",
   "nbconvert_exporter": "python",
   "pygments_lexer": "ipython3",
   "version": "3.12.7"
  }
 },
 "nbformat": 4,
 "nbformat_minor": 2
}
