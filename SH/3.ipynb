{
 "cells": [
  {
   "cell_type": "code",
   "execution_count": 1,
   "metadata": {},
   "outputs": [],
   "source": [
    "import pennylane as qml\n",
    "from pennylane import numpy as np"
   ]
  },
  {
   "cell_type": "markdown",
   "metadata": {},
   "source": [
    "## S.3.1"
   ]
  },
  {
   "cell_type": "code",
   "execution_count": null,
   "metadata": {},
   "outputs": [
    {
     "name": "stdout",
     "output_type": "stream",
     "text": [
      "137\n"
     ]
    }
   ],
   "source": [
    "def U():\n",
    "    qml.SWAP(wires=[2, 3])\n",
    "    qml.SWAP(wires=[1, 2])\n",
    "    qml.SWAP(wires=[0, 1])\n",
    "    for i in range(4):\n",
    "        qml.PauliX(wires=i)\n",
    "\n",
    "\n",
    "matrix = qml.matrix(U, wire_order=range(4))()\n",
    "\n",
    "n_target_wires = 4\n",
    "target_wires = range(n_target_wires)\n",
    "n_estimation_wires = 3\n",
    "estimation_wires = range(4, 4 + n_estimation_wires)\n",
    "\n",
    "\n",
    "dev = qml.device(\"default.qubit\", shots=1, wires=n_target_wires + n_estimation_wires)\n",
    "\n",
    "\n",
    "@qml.qnode(dev)\n",
    "def circuit(matrix):\n",
    "    \"\"\"Return a sample after taking a shot at the estimation wires.\n",
    "\n",
    "    Args:\n",
    "        matrix (array[complex]): matrix representation of U.\n",
    "\n",
    "    Returns:\n",
    "        array[float]: a sample after taking a shot at the estimation wires.\n",
    "    \"\"\"\n",
    "\n",
    "    ##################\n",
    "    # YOUR CODE HERE #\n",
    "    ##################\n",
    "\n",
    "    # CREATE THE INITIAL STATE |0001> ON TARGET WIRES\n",
    "    qml.X(3)\n",
    "\n",
    "    # USE THE SUBROUTINE QUANTUM PHASE ESTIMATION\n",
    "    qml.QuantumPhaseEstimation(matrix, target_wires, estimation_wires)\n",
    "\n",
    "    return qml.sample(wires=estimation_wires)\n",
    "\n",
    "\n",
    "def get_phase(matrix):\n",
    "    binary = \"\".join([str(b) for b in circuit(matrix)])\n",
    "    return int(binary, 2) / 2**n_estimation_wires\n",
    "\n",
    "\n",
    "for i in range(5):\n",
    "    print(circuit(matrix))\n",
    "    print(f\"shot {i+1}, phase:\", get_phase(matrix))\n"
   ]
  },
  {
   "cell_type": "markdown",
   "metadata": {},
   "source": [
    "## S.3.2"
   ]
  },
  {
   "cell_type": "code",
   "execution_count": null,
   "metadata": {},
   "outputs": [],
   "source": [
    "def U():\n",
    "    qml.SWAP(wires=[2, 3])\n",
    "    qml.SWAP(wires=[1, 2])\n",
    "    qml.SWAP(wires=[0, 1])\n",
    "    for i in range(4):\n",
    "        qml.PauliX(wires=i)\n",
    "\n",
    "\n",
    "matrix = qml.matrix(U, wire_order=range(4))()\n",
    "\n",
    "target_wires = range(4)\n",
    "n_estimation_wires = 3\n",
    "estimation_wires = range(4, 4 + n_estimation_wires)\n",
    "\n",
    "\n",
    "def get_period(matrix):\n",
    "    \"\"\"Return the period of the state using the already-defined\n",
    "    get_phase function.\n",
    "\n",
    "    Args:\n",
    "        matrix (array[complex]): matrix associated with the operator U\n",
    "\n",
    "    Returns:\n",
    "        int: Obtained period of the state.\n",
    "    \"\"\"\n",
    "\n",
    "    shots = 10\n",
    "\n",
    "    ##################\n",
    "    # YOUR CODE HERE #\n",
    "    ##################\n",
    "    return max(fractions.Fraction(get_phase(matrix)).denominator for _ in range(shots))\n",
    "\n",
    "print(get_period(matrix))\n"
   ]
  },
  {
   "cell_type": "markdown",
   "metadata": {},
   "source": [
    "## S.3.3"
   ]
  },
  {
   "cell_type": "code",
   "execution_count": null,
   "metadata": {},
   "outputs": [],
   "source": [
    "def U():\n",
    "    qml.SWAP(wires=[2, 3])\n",
    "    qml.SWAP(wires=[1, 2])\n",
    "    qml.SWAP(wires=[0, 1])\n",
    "    for i in range(4):\n",
    "        qml.PauliX(wires=i)\n",
    "\n",
    "\n",
    "dev = qml.device(\"default.qubit\", wires=4)\n",
    "\n",
    "\n",
    "@qml.qnode(dev)\n",
    "def circuit():\n",
    "    \"\"\"Apply U four times to |0001> to verify this is the period.\n",
    "\n",
    "    Returns:\n",
    "        array[float]: probabilities of each basis state.\n",
    "    \"\"\"\n",
    "\n",
    "    ##################\n",
    "    # YOUR CODE HERE #\n",
    "    ##################\n",
    "    qml.X(3)\n",
    "    qml.layer(U, 4)\n",
    "\n",
    "    return qml.probs(wires=range(4))\n",
    "\n",
    "\n",
    "print(circuit())\n"
   ]
  }
 ],
 "metadata": {
  "kernelspec": {
   "display_name": "pennylane",
   "language": "python",
   "name": "python3"
  },
  "language_info": {
   "codemirror_mode": {
    "name": "ipython",
    "version": 3
   },
   "file_extension": ".py",
   "mimetype": "text/x-python",
   "name": "python",
   "nbconvert_exporter": "python",
   "pygments_lexer": "ipython3",
   "version": "3.12.7"
  }
 },
 "nbformat": 4,
 "nbformat_minor": 2
}
