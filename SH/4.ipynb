{
 "cells": [
  {
   "cell_type": "code",
   "execution_count": 1,
   "metadata": {},
   "outputs": [],
   "source": [
    "import pennylane as qml\n",
    "from pennylane import numpy as np"
   ]
  },
  {
   "cell_type": "markdown",
   "metadata": {},
   "source": [
    "## S.4.1"
   ]
  },
  {
   "cell_type": "code",
   "execution_count": null,
   "metadata": {},
   "outputs": [
    {
     "name": "stdout",
     "output_type": "stream",
     "text": [
      "137\n"
     ]
    }
   ],
   "source": [
    "def is_coprime(a, N):\n",
    "    \"\"\"Determine if two numbers are coprime.\n",
    "\n",
    "    Args:\n",
    "        a (int): First number to check if is coprime with the other.\n",
    "        N (int): Second number to check if is coprime with the other.\n",
    "\n",
    "    Returns:\n",
    "        bool: True if they are coprime numbers, False otherwise.\n",
    "    \"\"\"\n",
    "\n",
    "    ##################\n",
    "    # YOUR CODE HERE #\n",
    "    ##################\n",
    "    return int(np.gcd(a, N)) == 1\n",
    "\n",
    "\n",
    "def is_odd(r):\n",
    "    \"\"\"Determine if a number is odd.\n",
    "\n",
    "    Args:\n",
    "        r (int): Integer to check if is an odd number.\n",
    "\n",
    "    Returns:\n",
    "        bool: True if it is odd, False otherwise.\n",
    "    \"\"\"\n",
    "\n",
    "    ##################\n",
    "    # YOUR CODE HERE #\n",
    "    ##################\n",
    "    return r % 2 != 0\n",
    "\n",
    "\n",
    "def is_not_one(x, N):\n",
    "    \"\"\"Determine if x is not +- 1 modulo N.\n",
    "\n",
    "    Args:\n",
    "        N (int): Modulus of the equivalence.\n",
    "        x (int): Integer to check if it is different from +-1 modulo N.\n",
    "\n",
    "    Returns:\n",
    "        bool: True if it is different, False otherwise.\n",
    "    \"\"\"\n",
    "\n",
    "    ##################\n",
    "    # YOUR CODE HERE #\n",
    "    ##################\n",
    "    xmN = x % N\n",
    "    return xmN != 1 and xmN != N - 1\n",
    "\n",
    "\n",
    "print(\"3 and 12 are coprime numbers: \", is_coprime(3, 12))\n",
    "print(\"5 is odd: \", is_odd(5))\n",
    "print(\"4 is not one mod 5: \", is_not_one(4, 5))\n"
   ]
  },
  {
   "cell_type": "markdown",
   "metadata": {},
   "source": [
    "## S.4.2"
   ]
  },
  {
   "cell_type": "code",
   "execution_count": null,
   "metadata": {},
   "outputs": [],
   "source": [
    "def shor(N):\n",
    "    \"\"\"Return the factorization of a given integer.\n",
    "\n",
    "    Args:\n",
    "       N (int): integer we want to factorize.\n",
    "\n",
    "    Returns:\n",
    "        array[int]: [p,q], the prime factors of N.\n",
    "    \"\"\"\n",
    "\n",
    "    ##################\n",
    "    # YOUR CODE HERE #\n",
    "    ##################\n",
    "    while True:\n",
    "        a = np.random.randint(2, N - 1)\n",
    "        p = int(np.gcd(a, N))\n",
    "        if p != 1:\n",
    "            return [p, N / p]\n",
    "        U_N_a = get_matrix_a_mod_N(a, N)\n",
    "        r = get_period(U_N_a, N)\n",
    "        if is_odd(r):\n",
    "            continue\n",
    "        x = int(a ** (r / 2) % N)\n",
    "        if is_not_one(x, N):\n",
    "            return int(np.gcd(x - 1, N)), int(np.gcd(x + 1, N))\n",
    "\n",
    "print(shor(21))\n"
   ]
  }
 ],
 "metadata": {
  "kernelspec": {
   "display_name": "pennylane",
   "language": "python",
   "name": "python3"
  },
  "language_info": {
   "codemirror_mode": {
    "name": "ipython",
    "version": 3
   },
   "file_extension": ".py",
   "mimetype": "text/x-python",
   "name": "python",
   "nbconvert_exporter": "python",
   "pygments_lexer": "ipython3",
   "version": "3.12.7"
  }
 },
 "nbformat": 4,
 "nbformat_minor": 2
}
