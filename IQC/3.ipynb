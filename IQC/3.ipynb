{
 "cells": [
  {
   "cell_type": "code",
   "execution_count": 1,
   "metadata": {},
   "outputs": [],
   "source": [
    "import pennylane as qml\n",
    "from pennylane import numpy as np"
   ]
  },
  {
   "cell_type": "markdown",
   "metadata": {},
   "source": [
    "## I.3.1"
   ]
  },
  {
   "cell_type": "markdown",
   "metadata": {},
   "source": [
    "Concept: gate representing an arbitrary unitary operation is specified with `qml.QubitUnitary(U, wires=w)`, where `U` is a unitary matrix that is compatible with the size of `w`."
   ]
  },
  {
   "cell_type": "code",
   "execution_count": 2,
   "metadata": {},
   "outputs": [],
   "source": [
    "dev = qml.device(\"default.qubit\", wires=1)\n",
    "\n",
    "U = np.array([[1, 1], [1, -1]]) / np.sqrt(2)\n",
    "\n",
    "\n",
    "@qml.qnode(dev)\n",
    "def apply_u():\n",
    "\n",
    "    ##################\n",
    "    # YOUR CODE HERE #\n",
    "    ##################\n",
    "\n",
    "    # USE QubitUnitary TO APPLY U TO THE QUBIT\n",
    "    qml.QubitUnitary(U, wires=0)\n",
    "\n",
    "    # Return the state\n",
    "    return qml.state()\n"
   ]
  },
  {
   "cell_type": "markdown",
   "metadata": {},
   "source": [
    "## I.3.2"
   ]
  },
  {
   "cell_type": "markdown",
   "metadata": {},
   "source": [
    "Recall that a unitary matrix on one wire can be specified in terms of three real numbers in $[0, 4\\pi)$ as $R(\\phi, \\theta, \\omega)=R_z(\\omega)R_y(\\theta)R_z(\\phi)$. This gate is specified as `qml.Rot(phi, theta, omega, wires=w)`. (Modulo global phase, real numbers in $[0, 2\\pi)$ suffice.)\n",
    "\n",
    "- Concept: `qml.state()`"
   ]
  },
  {
   "cell_type": "code",
   "execution_count": 3,
   "metadata": {},
   "outputs": [],
   "source": [
    "dev = qml.device(\"default.qubit\", wires=1)\n",
    "\n",
    "\n",
    "@qml.qnode(dev)\n",
    "def apply_u_as_rot(phi, theta, omega):\n",
    "\n",
    "    ##################\n",
    "    # YOUR CODE HERE #\n",
    "    ##################\n",
    "\n",
    "    # APPLY A ROT GATE USING THE PROVIDED INPUT PARAMETERS\n",
    "    qml.Rot(phi, theta, omega, wires=0)\n",
    "\n",
    "    # RETURN THE QUANTUM STATE VECTOR\n",
    "    return qml.state()\n"
   ]
  }
 ],
 "metadata": {
  "kernelspec": {
   "display_name": "pennylane",
   "language": "python",
   "name": "python3"
  },
  "language_info": {
   "codemirror_mode": {
    "name": "ipython",
    "version": 3
   },
   "file_extension": ".py",
   "mimetype": "text/x-python",
   "name": "python",
   "nbconvert_exporter": "python",
   "pygments_lexer": "ipython3",
   "version": "3.12.7"
  }
 },
 "nbformat": 4,
 "nbformat_minor": 2
}
