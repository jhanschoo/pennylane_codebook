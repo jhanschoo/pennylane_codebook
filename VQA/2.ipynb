{
 "cells": [
  {
   "cell_type": "code",
   "execution_count": 1,
   "metadata": {},
   "outputs": [],
   "source": [
    "import pennylane as qml\n",
    "from pennylane import numpy as np"
   ]
  },
  {
   "cell_type": "markdown",
   "metadata": {},
   "source": [
    "## V.2.1"
   ]
  },
  {
   "cell_type": "code",
   "execution_count": null,
   "metadata": {},
   "outputs": [],
   "source": [
    "n_bits = 2\n",
    "dev = qml.device(\"default.qubit\", wires=n_bits, shots=None)\n",
    "np.random.seed(41)\n",
    "def build_hamiltonian():\n",
    "    \"\"\"Build the Hamiltonian.\n",
    "\n",
    "    Returns:\n",
    "        (qml.Hamiltonian): Hamiltonian operator.\n",
    "    \"\"\"\n",
    "    ##################\n",
    "    # YOUR CODE HERE #\n",
    "    ##################\n",
    "    return qml.dot([1., -1.], [qml.Z(0) @ qml.Z(1), qml.X(0) @ qml.X(1)])\n",
    "\n",
    "def run_vqe():\n",
    "    \"\"\"Run VQE algorithm with initial parameters defined by the user.\n",
    "\n",
    "    Returns:\n",
    "        array(float): Ground state energy of the Hamiltonian.\n",
    "    \"\"\"\n",
    "    ##################\n",
    "    # YOUR CODE HERE #\n",
    "    ##################\n",
    "    shape = qml.StronglyEntanglingLayers.shape(n_layers=1, n_wires=n_bits)\n",
    "    weights = np.random.random(size=shape)\n",
    "    observable = build_hamiltonian()\n",
    "    weights = optimizer(observable, weights)\n",
    "    ground_state_energy = cost_function(observable, weights)\n",
    "    return ground_state_energy\n"
   ]
  },
  {
   "cell_type": "markdown",
   "metadata": {},
   "source": [
    "## V.2.2a"
   ]
  },
  {
   "cell_type": "code",
   "execution_count": 2,
   "metadata": {},
   "outputs": [
    {
     "name": "stdout",
     "output_type": "stream",
     "text": [
      "3\n"
     ]
    }
   ],
   "source": [
    "# Import the H2 molecule dataset\n",
    "dataset = qml.data.load('qchem', folder_path=\"/tmp\", molname=\"H2\")[0]\n",
    "# Define Hamiltonian and qubits\n",
    "H, qubits = dataset.hamiltonian, len(dataset.hamiltonian.wires)\n",
    "# The Hartree-Fock State\n",
    "hf = dataset.hf_state\n",
    "# Define the single and double excitations\n",
    "singles, doubles = qml.qchem.excitations(electrons=2, orbitals=qubits)\n",
    "num_params = len(singles) + len(doubles)\n",
    "\n",
    "print(num_params)"
   ]
  },
  {
   "cell_type": "code",
   "execution_count": 3,
   "metadata": {},
   "outputs": [
    {
     "name": "stdout",
     "output_type": "stream",
     "text": [
      "[[0, 2], [1, 3]] [[0, 1, 2, 3]]\n"
     ]
    }
   ],
   "source": [
    "print(singles, doubles)"
   ]
  },
  {
   "cell_type": "code",
   "execution_count": 4,
   "metadata": {},
   "outputs": [],
   "source": [
    "# Import the H2 molecule dataset\n",
    "dataset = qml.data.load('qchem', folder_path=\"/tmp\", molname=\"H2\")[0]\n",
    "# Define Hamiltonian and qubits\n",
    "H, qubits = dataset.hamiltonian, len(dataset.hamiltonian.wires)\n",
    "# The Hartree-Fock State\n",
    "hf = dataset.hf_state\n",
    "# Define the single and double excitations\n",
    "singles, doubles = qml.qchem.excitations(electrons=2, orbitals=qubits)\n",
    "num_params = len(singles) + len(doubles)\n",
    "\n",
    "def hf_ansatz(params):\n",
    "    \"\"\"Build the Hartree-Fock ansatz.\n",
    "    \n",
    "    Args:\n",
    "        params (np.array): An array with the angles of the single and double excitations.\n",
    "    \"\"\"\n",
    "    ##################\n",
    "    # YOUR CODE HERE #\n",
    "    ##################\n",
    "    qml.AllSinglesDoubles(params, wires=range(qubits), hf_state=hf, singles=singles, doubles=doubles)\n",
    "\n",
    "dev = qml.device(\"default.qubit\", wires=qubits)\n",
    "@qml.qnode(dev, interface=\"autograd\")\n",
    "def cost_hf(params):\n",
    "    \"\"\"Build the cost function using the Hartree-Fock ansatz.\n",
    "    Args:\n",
    "        params (np.array): An array with the angles of the single and double excitations.\n",
    "\n",
    "    Returns:\n",
    "        (np.tensor): Energy of the Hamiltonian.\n",
    "    \"\"\"\n",
    "    ##################\n",
    "    # YOUR CODE HERE #\n",
    "    ##################\n",
    "    hf_ansatz(params)\n",
    "    return qml.expval(H)"
   ]
  },
  {
   "cell_type": "markdown",
   "metadata": {},
   "source": [
    "## V2.2b"
   ]
  },
  {
   "cell_type": "code",
   "execution_count": 7,
   "metadata": {},
   "outputs": [
    {
     "data": {
      "text/plain": [
       "tensor([1.45990979e-07, 1.96591299e-08, 2.26381722e-01], requires_grad=True)"
      ]
     },
     "execution_count": 7,
     "metadata": {},
     "output_type": "execute_result"
    }
   ],
   "source": [
    "# Import the H2 molecule dataset\n",
    "dataset = qml.data.load('qchem', folder_path=\"/tmp\", molname=\"H2\")[0]\n",
    "# Define Hamiltonian and qubits\n",
    "H, qubits = dataset.hamiltonian, len(dataset.hamiltonian.wires)\n",
    "# The Hartree-Fock State\n",
    "hf = dataset.hf_state\n",
    "# Define the single and double excitations\n",
    "singles, doubles = qml.qchem.excitations(electrons=2, orbitals=qubits)\n",
    "num_params = len(singles) + len(doubles)\n",
    "\n",
    "def run_VQE_hf():\n",
    "    \"\"\"Executes the VQE optimizing the parameters of the Hartree-Fock ansatz.\n",
    "\n",
    "    Returns:\n",
    "        (np.array): an array with the optimized trainable parameters.\n",
    "        (float): the ground state energy\n",
    "    \"\"\"\n",
    "    ##################\n",
    "    # YOUR CODE HERE #\n",
    "    ##################\n",
    "    params = np.random.random(size=(num_params,))\n",
    "    optimizer = qml.AdamOptimizer()\n",
    "    prev, params = params, optimizer.step(cost_hf, params)\n",
    "    while not np.allclose(prev, params):\n",
    "        prev, params = params, optimizer.step(cost_hf, params)\n",
    "    return params, cost_hf(params)\n",
    "\n",
    "run_VQE_hf()"
   ]
  }
 ],
 "metadata": {
  "kernelspec": {
   "display_name": "pennylane",
   "language": "python",
   "name": "python3"
  },
  "language_info": {
   "codemirror_mode": {
    "name": "ipython",
    "version": 3
   },
   "file_extension": ".py",
   "mimetype": "text/x-python",
   "name": "python",
   "nbconvert_exporter": "python",
   "pygments_lexer": "ipython3",
   "version": "3.12.7"
  }
 },
 "nbformat": 4,
 "nbformat_minor": 2
}
