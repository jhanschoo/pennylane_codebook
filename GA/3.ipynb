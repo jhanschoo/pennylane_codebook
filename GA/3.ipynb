{
 "cells": [
  {
   "cell_type": "code",
   "execution_count": 1,
   "metadata": {},
   "outputs": [],
   "source": [
    "import pennylane as qml\n",
    "from pennylane import numpy as np"
   ]
  },
  {
   "cell_type": "markdown",
   "metadata": {},
   "source": [
    "## G.3.1"
   ]
  },
  {
   "cell_type": "markdown",
   "metadata": {},
   "source": [
    "Concept: The **phase kickback trick**. The state $\\ket{-}$ is an eigenstate of $X$, such that $X\\ket{-}=-\\ket{-}$. We exploit this property to construct a slightly modified $U_f$, with the assistance of an auxillary bit in state $\\ket{-}$. For the simple case that $\\vec{s}=\\vec{1}$, we have $\\mathrm{CNOT}_{1:n-1,n}\\ket{\\vec{1}-}=-\\ket{\\vec{1}-}$ and $\\mathrm{CNOT}_{1:n-1,n}\\ket{\\vec{x}-}=\\ket{\\vec{x}-}$ for $\\vec{x}\\neq\\vec{1}$. Then, to adapt this oracle into one for some fixed $\\vec{s}$, sandwich the $\\mathrm{CNOT}$ with a gate that performs the necessary $X$ transforms in the qubits where $\\vec{s}$ is $\\ket{0}$.\n",
    "\n",
    "The nomenclature comes from conceptually separating the state into a **query register** of the first $n-1$ bits and the **auxillary bit**, the $n$-th bit. The $U_f$ changes the phase of the aux bit just in case our query register is the desired state, then conceptually we may reassociate (\"kick back\") this phase change into the query register by properties of phase with the tensor product."
   ]
  },
  {
   "cell_type": "code",
   "execution_count": 3,
   "metadata": {},
   "outputs": [],
   "source": [
    "n_bits = 5\n",
    "query_register = list(range(n_bits))\n",
    "aux = [n_bits]\n",
    "all_wires = query_register + aux\n",
    "dev = qml.device(\"default.qubit\", wires=all_wires)\n",
    "\n",
    "\n",
    "def oracle(combo):\n",
    "    \"\"\"Implement an oracle using a multi-controlled X gate.\n",
    "\n",
    "    Args:\n",
    "        combo (list): A list of bits representing the secret combination.\n",
    "    \"\"\"\n",
    "    combo_str = \"\".join(str(j) for j in combo)\n",
    "    ##################\n",
    "    # YOUR CODE HERE #\n",
    "    ##################\n",
    "    qml.MultiControlledX(query_register, aux, combo_str)\n"
   ]
  },
  {
   "cell_type": "markdown",
   "metadata": {},
   "source": [
    "## G.3.2"
   ]
  },
  {
   "cell_type": "markdown",
   "metadata": {},
   "source": [
    "The **diffusion operator** can also be implemented utilizing the phase kickback trick, by defining $D=H_{1:n-1}\\mathrm{CNOT}_{1:n-1,n}H_{1:n-1}$; the Hadamard transform converts the uniform superposition $\\ket{\\psi}$ to the $\\ket{\\vec{1}}$ vector, and any orthogonal component to $\\ket{\\psi}$ into some linear combination of the other basis vectors; and recall that $H$ is its own inverse."
   ]
  },
  {
   "cell_type": "code",
   "execution_count": null,
   "metadata": {},
   "outputs": [],
   "source": [
    "def hadamard_transform(my_wires):\n",
    "    \"\"\"Apply the Hadamard transform on a given set of wires.\n",
    "\n",
    "    Args:\n",
    "        my_wires (list[int]): A list of wires on which the Hadamard transform will act.\n",
    "    \"\"\"\n",
    "    for wire in my_wires:\n",
    "        qml.Hadamard(wires=wire)\n",
    "\n",
    "\n",
    "def diffusion():\n",
    "    \"\"\"Implement the diffusion operator using the Hadamard transform and\n",
    "    multi-controlled X.\"\"\"\n",
    "\n",
    "    ##################\n",
    "    # YOUR CODE HERE #\n",
    "    ##################\n",
    "    hadamard_transform(query_register)\n",
    "    qml.MultiControlledX(query_register, aux, \"0\" * len(query_register))\n",
    "    hadamard_transform(query_register)\n"
   ]
  },
  {
   "cell_type": "markdown",
   "metadata": {},
   "source": [
    "## G.3.3"
   ]
  },
  {
   "cell_type": "code",
   "execution_count": null,
   "metadata": {},
   "outputs": [],
   "source": [
    "@qml.qnode(dev)\n",
    "def grover_circuit(combo):\n",
    "    \"\"\"Apply the MultiControlledX Grover operator and return probabilities on\n",
    "    query register.\n",
    "\n",
    "    Args:\n",
    "        combo (list[int]): A list of bits representing the secret combination.\n",
    "\n",
    "    Returns:\n",
    "        array[float]: Measurement outcome probabilities.\n",
    "    \"\"\"\n",
    "    ##################\n",
    "    # YOUR CODE HERE #\n",
    "    ##################\n",
    "    # PREPARE QUERY AND AUXILIARY SYSTEM\n",
    "    qml.PauliX(aux)\n",
    "    hadamard_transform(all_wires)\n",
    "    # APPLY GROVER ITERATION\n",
    "    oracle(combo)\n",
    "    diffusion()\n",
    "    return qml.probs(wires=query_register)\n"
   ]
  }
 ],
 "metadata": {
  "kernelspec": {
   "display_name": "pennylane",
   "language": "python",
   "name": "python3"
  },
  "language_info": {
   "codemirror_mode": {
    "name": "ipython",
    "version": 3
   },
   "file_extension": ".py",
   "mimetype": "text/x-python",
   "name": "python",
   "nbconvert_exporter": "python",
   "pygments_lexer": "ipython3",
   "version": "3.12.7"
  }
 },
 "nbformat": 4,
 "nbformat_minor": 2
}
