{
 "cells": [
  {
   "cell_type": "code",
   "execution_count": 1,
   "metadata": {},
   "outputs": [],
   "source": [
    "import pennylane as qml\n",
    "from pennylane import numpy as np"
   ]
  },
  {
   "cell_type": "markdown",
   "metadata": {},
   "source": [
    "## G.3.1"
   ]
  },
  {
   "cell_type": "code",
   "execution_count": 3,
   "metadata": {},
   "outputs": [],
   "source": [
    "n_bits = 5\n",
    "query_register = list(range(n_bits))\n",
    "aux = [n_bits]\n",
    "all_wires = query_register + aux\n",
    "dev = qml.device(\"default.qubit\", wires=all_wires)\n",
    "\n",
    "\n",
    "def oracle(combo):\n",
    "    \"\"\"Implement an oracle using a multi-controlled X gate.\n",
    "\n",
    "    Args:\n",
    "        combo (list): A list of bits representing the secret combination.\n",
    "    \"\"\"\n",
    "    combo_str = \"\".join(str(j) for j in combo)\n",
    "    ##################\n",
    "    # YOUR CODE HERE #\n",
    "    ##################\n",
    "    qml.MultiControlledX(query_register, aux, combo_str)\n"
   ]
  },
  {
   "cell_type": "markdown",
   "metadata": {},
   "source": [
    "## G.3.2"
   ]
  },
  {
   "cell_type": "code",
   "execution_count": null,
   "metadata": {},
   "outputs": [],
   "source": [
    "def hadamard_transform(my_wires):\n",
    "    \"\"\"Apply the Hadamard transform on a given set of wires.\n",
    "\n",
    "    Args:\n",
    "        my_wires (list[int]): A list of wires on which the Hadamard transform will act.\n",
    "    \"\"\"\n",
    "    for wire in my_wires:\n",
    "        qml.Hadamard(wires=wire)\n",
    "\n",
    "\n",
    "def diffusion():\n",
    "    \"\"\"Implement the diffusion operator using the Hadamard transform and\n",
    "    multi-controlled X.\"\"\"\n",
    "\n",
    "    ##################\n",
    "    # YOUR CODE HERE #\n",
    "    ##################\n",
    "    hadamard_transform(query_register)\n",
    "    qml.MultiControlledX(query_register, aux, \"0\" * len(query_register))\n",
    "    hadamard_transform(query_register)\n"
   ]
  },
  {
   "cell_type": "markdown",
   "metadata": {},
   "source": [
    "## G.3.3"
   ]
  },
  {
   "cell_type": "code",
   "execution_count": null,
   "metadata": {},
   "outputs": [],
   "source": [
    "@qml.qnode(dev)\n",
    "def grover_circuit(combo):\n",
    "    \"\"\"Apply the MultiControlledX Grover operator and return probabilities on\n",
    "    query register.\n",
    "\n",
    "    Args:\n",
    "        combo (list[int]): A list of bits representing the secret combination.\n",
    "\n",
    "    Returns:\n",
    "        array[float]: Measurement outcome probabilities.\n",
    "    \"\"\"\n",
    "    ##################\n",
    "    # YOUR CODE HERE #\n",
    "    ##################\n",
    "    # PREPARE QUERY AND AUXILIARY SYSTEM\n",
    "    qml.PauliX(aux)\n",
    "    hadamard_transform(all_wires)\n",
    "    # APPLY GROVER ITERATION\n",
    "    oracle(combo)\n",
    "    diffusion()\n",
    "    return qml.probs(wires=query_register)\n"
   ]
  }
 ],
 "metadata": {
  "kernelspec": {
   "display_name": "pennylane",
   "language": "python",
   "name": "python3"
  },
  "language_info": {
   "codemirror_mode": {
    "name": "ipython",
    "version": 3
   },
   "file_extension": ".py",
   "mimetype": "text/x-python",
   "name": "python",
   "nbconvert_exporter": "python",
   "pygments_lexer": "ipython3",
   "version": "3.12.7"
  }
 },
 "nbformat": 4,
 "nbformat_minor": 2
}
