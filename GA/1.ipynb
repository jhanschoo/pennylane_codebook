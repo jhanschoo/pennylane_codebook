{
 "cells": [
  {
   "cell_type": "code",
   "execution_count": 1,
   "metadata": {},
   "outputs": [],
   "source": [
    "import pennylane as qml\n",
    "from pennylane import numpy as np"
   ]
  },
  {
   "cell_type": "markdown",
   "metadata": {},
   "source": [
    "## G.1.1"
   ]
  },
  {
   "cell_type": "markdown",
   "metadata": {},
   "source": [
    "Concept: `qml.broadcast(one_wire_gate, wires=ws, pattern=\"single\")`"
   ]
  },
  {
   "cell_type": "code",
   "execution_count": 3,
   "metadata": {},
   "outputs": [],
   "source": [
    "n_bits = 4\n",
    "dev = qml.device(\"default.qubit\", wires=n_bits)\n",
    "\n",
    "\n",
    "def oracle_matrix(combo):\n",
    "    \"\"\"Return the oracle matrix for a secret combination.\n",
    "\n",
    "    Args:\n",
    "        combo (list[int]): A list of bits representing a secret combination.\n",
    "\n",
    "    Returns:\n",
    "        array[float]: The matrix representation of the oracle.\n",
    "    \"\"\"\n",
    "    index = np.ravel_multi_index(combo, [2] * len(combo))  # Index of solution\n",
    "    my_array = np.identity(2 ** len(combo))  # Create the identity matrix\n",
    "    my_array[index, index] = -1\n",
    "    return my_array\n",
    "\n",
    "\n",
    "@qml.qnode(dev)\n",
    "def oracle_amp(combo):\n",
    "    \"\"\"Prepare the uniform superposition and apply the oracle.\n",
    "\n",
    "    Args:\n",
    "        combo (list[int]): A list of bits representing the secret combination.\n",
    "\n",
    "    Returns:\n",
    "        array[complex]: The quantum state (amplitudes) after applying the oracle.\n",
    "    \"\"\"\n",
    "    ##################\n",
    "    # YOUR CODE HERE #\n",
    "    ##################\n",
    "    qml.broadcast(qml.Hadamard, wires=range(n_bits), pattern=\"single\")\n",
    "    qml.QubitUnitary(oracle_matrix(combo), wires=range(n_bits))\n",
    "    return qml.state()\n"
   ]
  },
  {
   "cell_type": "markdown",
   "metadata": {},
   "source": [
    "## G.1.2a"
   ]
  },
  {
   "cell_type": "code",
   "execution_count": null,
   "metadata": {},
   "outputs": [],
   "source": [
    "n_bits = 4\n",
    "\n",
    "\n",
    "def diffusion_matrix():\n",
    "    \"\"\"Return the diffusion matrix.\n",
    "\n",
    "    Returns:\n",
    "        array[float]: The matrix representation of the diffusion operator.\n",
    "    \"\"\"\n",
    "    ##################\n",
    "    # YOUR CODE HERE #\n",
    "    ##################\n",
    "    l = 2 ** n_bits\n",
    "    my_array = 2 ** (1-n_bits) * np.ones(l) - np.identity(l)\n",
    "    return my_array\n",
    "\n",
    "\n",
    "@qml.qnode(dev)\n",
    "def difforacle_amp(combo):\n",
    "    \"\"\"Apply the oracle and diffusion matrix to the uniform superposition.\n",
    "\n",
    "    Args:\n",
    "        combo (list[int]): A list of bits representing the secret combination.\n",
    "\n",
    "    Returns:\n",
    "        array[complex]: The quantum state (amplitudes) after applying the oracle\n",
    "        and diffusion.\n",
    "    \"\"\"\n",
    "    ##################\n",
    "    # YOUR CODE HERE #\n",
    "    ##################\n",
    "    qml.broadcast(qml.Hadamard, wires=range(n_bits), pattern=\"single\")\n",
    "    qml.QubitUnitary(oracle_matrix(combo), wires=range(n_bits))\n",
    "    qml.QubitUnitary(diffusion_matrix(), wires=range(n_bits))\n",
    "    return qml.state()\n"
   ]
  },
  {
   "cell_type": "markdown",
   "metadata": {},
   "source": [
    "## G.1.2b"
   ]
  },
  {
   "cell_type": "code",
   "execution_count": null,
   "metadata": {},
   "outputs": [],
   "source": [
    "@qml.qnode(dev)\n",
    "def two_difforacle_amp(combo):\n",
    "    \"\"\"Apply the Grover operator twice to the uniform superposition.\n",
    "\n",
    "    Args:\n",
    "        combo (list[int]): A list of bits representing the secret combination.\n",
    "\n",
    "    Returns:\n",
    "        array[complex]: The resulting quantum state.\n",
    "    \"\"\"\n",
    "    ##################\n",
    "    # YOUR CODE HERE #\n",
    "    ##################\n",
    "    qml.broadcast(qml.Hadamard, wires=range(n_bits), pattern=\"single\")\n",
    "    qml.QubitUnitary(oracle_matrix(combo), wires=range(n_bits))\n",
    "    qml.QubitUnitary(diffusion_matrix(), wires=range(n_bits))\n",
    "    qml.QubitUnitary(oracle_matrix(combo), wires=range(n_bits))\n",
    "    qml.QubitUnitary(diffusion_matrix(), wires=range(n_bits))\n",
    "    return qml.state()\n"
   ]
  },
  {
   "cell_type": "code",
   "execution_count": null,
   "metadata": {},
   "outputs": [],
   "source": []
  }
 ],
 "metadata": {
  "kernelspec": {
   "display_name": "pennylane",
   "language": "python",
   "name": "python3"
  },
  "language_info": {
   "codemirror_mode": {
    "name": "ipython",
    "version": 3
   },
   "file_extension": ".py",
   "mimetype": "text/x-python",
   "name": "python",
   "nbconvert_exporter": "python",
   "pygments_lexer": "ipython3",
   "version": "3.12.7"
  }
 },
 "nbformat": 4,
 "nbformat_minor": 2
}
