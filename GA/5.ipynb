{
 "cells": [
  {
   "cell_type": "code",
   "execution_count": 1,
   "metadata": {},
   "outputs": [],
   "source": [
    "import pennylane as qml\n",
    "from pennylane import numpy as np"
   ]
  },
  {
   "cell_type": "markdown",
   "metadata": {},
   "source": [
    "## G.5.1"
   ]
  },
  {
   "cell_type": "code",
   "execution_count": 3,
   "metadata": {},
   "outputs": [],
   "source": [
    "n_bits = 5\n",
    "query_register = list(range(n_bits))\n",
    "aux = [n_bits]\n",
    "all_wires = query_register + aux\n",
    "dev = qml.device(\"default.qubit\", wires=all_wires)\n",
    "\n",
    "\n",
    "def oracle_multi(combos):\n",
    "    \"\"\"Implement multi-solution oracle using sequence of multi-controlled X gates.\n",
    "\n",
    "    Args:\n",
    "        combos (list[list[int]]): A list of solutions.\n",
    "    \"\"\"\n",
    "    for combo in combos:\n",
    "        combo_str = \"\".join(str(j) for j in combo)\n",
    "        ##################\n",
    "        # YOUR CODE HERE #\n",
    "        ##################\n",
    "        qml.MultiControlledX(query_register, aux, combo_str)\n"
   ]
  },
  {
   "cell_type": "markdown",
   "metadata": {},
   "source": [
    "## G.5.2a"
   ]
  },
  {
   "cell_type": "code",
   "execution_count": null,
   "metadata": {},
   "outputs": [],
   "source": [
    "n_bits = 5\n",
    "query_register = list(range(n_bits))\n",
    "aux = [n_bits]\n",
    "all_wires = query_register + aux\n",
    "dev = qml.device(\"default.qubit\", wires=all_wires, shots=None)\n",
    "\n",
    "\n",
    "def grover_iter_multi(combos, num_steps):\n",
    "    \"\"\"Run Grover search for multiple secret combinations and a number\n",
    "    of Grover steps.\n",
    "\n",
    "    Args:\n",
    "        combos (list[list[int]]): The secret combination, represented as a list of bits.\n",
    "        num_steps (int): The number of Grover iterations to perform.\n",
    "\n",
    "    Returns:\n",
    "        array[float]: Probability for observing different outcomes.\n",
    "    \"\"\"\n",
    "\n",
    "    @qml.qnode(dev)\n",
    "    def inner_circuit():\n",
    "        qml.PauliX(wires=n_bits)\n",
    "        qml.Hadamard(wires=n_bits)\n",
    "        hadamard_transform(query_register)\n",
    "\n",
    "        for _ in range(num_steps):\n",
    "            ##################\n",
    "            # YOUR CODE HERE #\n",
    "            ##################\n",
    "            oracle_multi(combos)\n",
    "            diffusion(n_bits)\n",
    "        return qml.probs(wires=query_register)\n",
    "\n",
    "    return inner_circuit()\n"
   ]
  },
  {
   "cell_type": "markdown",
   "metadata": {},
   "source": [
    "## G.5.2b"
   ]
  },
  {
   "cell_type": "code",
   "execution_count": null,
   "metadata": {},
   "outputs": [],
   "source": [
    "m_list = range(3)\n",
    "opt_steps = []\n",
    "\n",
    "for m_bits in m_list:\n",
    "    combos = [[int(s) for s in np.binary_repr(j, n_bits)] for j in range(2**m_bits)]\n",
    "    step_list = range(1, 10)\n",
    "    ##################\n",
    "    # YOUR CODE HERE #\n",
    "    ##################\n",
    "    probs = [grover_iter_multi(combos, num_steps)[:len(combos)].sum() for num_steps in step_list]\n",
    "    max_ind = local_max_arg(probs)\n",
    "    opt_steps.append(step_list[max_ind-1])\n",
    "\n",
    "print(\"The optimal number of Grover steps for the number of solutions in\", [1, 2, 4], \"is\", opt_steps, \".\")\n"
   ]
  },
  {
   "cell_type": "markdown",
   "metadata": {},
   "source": [
    "## G.5.3 (unindexed)"
   ]
  },
  {
   "cell_type": "code",
   "execution_count": null,
   "metadata": {},
   "outputs": [],
   "source": [
    "grad = -.5\n",
    "intercept = 2.03\n",
    "# SUBMIT TO PLOT GRAPH\n"
   ]
  }
 ],
 "metadata": {
  "kernelspec": {
   "display_name": "pennylane",
   "language": "python",
   "name": "python3"
  },
  "language_info": {
   "codemirror_mode": {
    "name": "ipython",
    "version": 3
   },
   "file_extension": ".py",
   "mimetype": "text/x-python",
   "name": "python",
   "nbconvert_exporter": "python",
   "pygments_lexer": "ipython3",
   "version": "3.12.7"
  }
 },
 "nbformat": 4,
 "nbformat_minor": 2
}
