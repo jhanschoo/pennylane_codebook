{
 "cells": [
  {
   "cell_type": "code",
   "execution_count": 1,
   "metadata": {},
   "outputs": [],
   "source": [
    "import pennylane as qml\n",
    "from pennylane import numpy as np"
   ]
  },
  {
   "cell_type": "markdown",
   "metadata": {},
   "source": [
    "## G.4.1a"
   ]
  },
  {
   "cell_type": "markdown",
   "metadata": {},
   "source": [
    "Concept: the optimal number of steps when there is only one solution is $S\\approx \\frac{\\pi}{4}\\sqrt{N}$. TODO: derivation"
   ]
  },
  {
   "cell_type": "code",
   "execution_count": 3,
   "metadata": {},
   "outputs": [],
   "source": [
    "def grover_iter(combo, num_steps):\n",
    "    \"\"\"Run Grover search for a given secret combination and a number of iterations.\n",
    "\n",
    "    Args:\n",
    "        combo (list[int]): The secret combination, represented as a list of bits.\n",
    "        num_steps (int): The number of Grover iterations to perform.\n",
    "\n",
    "    Returns:\n",
    "        array[float]: Probability for observing different outcomes.\n",
    "    \"\"\"\n",
    "    n_bits = len(combo)\n",
    "    query_register = list(range(n_bits))\n",
    "    aux = [n_bits]\n",
    "    all_wires = query_register + aux\n",
    "    dev = qml.device(\"default.qubit\", wires=all_wires)\n",
    "\n",
    "    @qml.qnode(dev)\n",
    "    def inner_circuit():\n",
    "        ##################\n",
    "        # YOUR CODE HERE #\n",
    "        ##################\n",
    "        # IMPLEMENT THE GROVER CIRCUIT\n",
    "        qml.PauliX(aux)\n",
    "        hadamard_transform(all_wires)\n",
    "        for _ in range(num_steps):\n",
    "            oracle(combo)\n",
    "            diffusion(n_bits)\n",
    "        return qml.probs(wires=query_register)\n",
    "\n",
    "    return inner_circuit()\n"
   ]
  },
  {
   "cell_type": "markdown",
   "metadata": {},
   "source": [
    "## G.4.1b"
   ]
  },
  {
   "cell_type": "code",
   "execution_count": null,
   "metadata": {},
   "outputs": [],
   "source": [
    "n_list = range(3, 7)\n",
    "opt_steps = []\n",
    "\n",
    "for n_bits in n_list:\n",
    "    combo = \"0\" * n_bits  # A simple combination\n",
    "    step_list = range(1, 10)  # Try out some large number of steps\n",
    "    ##################\n",
    "    # YOUR CODE HERE #\n",
    "    ##################\n",
    "    probs = [grover_iter(combo, num_steps)[0] for num_steps in step_list]\n",
    "    max_ind = local_max_arg(probs)\n",
    "    opt_steps.append(step_list[max_ind-1])\n",
    "\n",
    "print(\"The optimal number of Grover steps for qubits in\", [3, 4, 5, 6], \"is\", opt_steps, \".\")\n"
   ]
  },
  {
   "cell_type": "markdown",
   "metadata": {},
   "source": [
    "## G.4.2"
   ]
  },
  {
   "cell_type": "code",
   "execution_count": null,
   "metadata": {},
   "outputs": [],
   "source": [
    "grad = .5\n",
    "intercept = -.47\n",
    "# SUBMIT TO PLOT GRAPH\n"
   ]
  }
 ],
 "metadata": {
  "kernelspec": {
   "display_name": "pennylane",
   "language": "python",
   "name": "python3"
  },
  "language_info": {
   "codemirror_mode": {
    "name": "ipython",
    "version": 3
   },
   "file_extension": ".py",
   "mimetype": "text/x-python",
   "name": "python",
   "nbconvert_exporter": "python",
   "pygments_lexer": "ipython3",
   "version": "3.12.7"
  }
 },
 "nbformat": 4,
 "nbformat_minor": 2
}
