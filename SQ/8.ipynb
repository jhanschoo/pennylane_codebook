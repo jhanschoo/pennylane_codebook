{
 "cells": [
  {
   "cell_type": "code",
   "execution_count": 1,
   "metadata": {},
   "outputs": [],
   "source": [
    "import pennylane as qml\n",
    "from pennylane import numpy as np"
   ]
  },
  {
   "cell_type": "markdown",
   "metadata": {},
   "source": [
    "## I.8.1"
   ]
  },
  {
   "cell_type": "markdown",
   "metadata": {},
   "source": [
    "Concept: state preparation"
   ]
  },
  {
   "cell_type": "code",
   "execution_count": 2,
   "metadata": {},
   "outputs": [],
   "source": [
    "dev = qml.device(\"default.qubit\", wires=1)\n",
    "\n",
    "\n",
    "@qml.qnode(dev)\n",
    "def prepare_state():\n",
    "    ##################\n",
    "    # YOUR CODE HERE #\n",
    "    ##################\n",
    "\n",
    "    # APPLY OPERATIONS TO PREPARE THE TARGET STATE\n",
    "    qml.Hadamard(wires=0)\n",
    "    qml.PauliZ(wires=0)\n",
    "    qml.T(wires=0)\n",
    "\n",
    "    return qml.state()\n"
   ]
  },
  {
   "cell_type": "markdown",
   "metadata": {},
   "source": [
    "## I.8.2"
   ]
  },
  {
   "cell_type": "code",
   "execution_count": 3,
   "metadata": {},
   "outputs": [],
   "source": [
    "dev = qml.device(\"default.qubit\", wires=1)\n",
    "\n",
    "\n",
    "@qml.qnode(dev)\n",
    "def prepare_state():\n",
    "    ##################\n",
    "    # YOUR CODE HERE #\n",
    "    ##################\n",
    "\n",
    "    # APPLY OPERATIONS TO PREPARE THE TARGET STATE\n",
    "    qml.RX(np.pi/3, wires=0)\n",
    "\n",
    "    return qml.state()\n"
   ]
  },
  {
   "cell_type": "markdown",
   "metadata": {},
   "source": [
    "## I.8.3"
   ]
  },
  {
   "cell_type": "markdown",
   "metadata": {},
   "source": [
    "Concept: Möttönen's method for state preparation: provided as `qml.MottonenStatePreparation(state_vector=state, wires=ws)`"
   ]
  },
  {
   "cell_type": "code",
   "execution_count": null,
   "metadata": {},
   "outputs": [],
   "source": [
    "v = np.array([0.52889389 - 0.14956775j, 0.67262317 + 0.49545818j])\n",
    "\n",
    "##################\n",
    "# YOUR CODE HERE #\n",
    "##################\n",
    "\n",
    "# CREATE A DEVICE\n",
    "dev = qml.device(\"default.qubit\", wires=1)\n",
    "\n",
    "# CONSTRUCT A QNODE THAT USES qml.MottonenStatePreparation\n",
    "# TO PREPARE A QUBIT IN STATE V, AND RETURN THE STATE\n",
    "\n",
    "\n",
    "@qml.qnode(dev)\n",
    "def prepare_state(state=v):\n",
    "    qml.MottonenStatePreparation(state, wires=0)\n",
    "    return qml.state()\n",
    "\n",
    "# This will draw the quantum circuit and allow you to inspect the output gates\n",
    "print(prepare_state(v))\n",
    "print()\n",
    "print(qml.draw(prepare_state, expansion_strategy=\"device\")(v))\n"
   ]
  }
 ],
 "metadata": {
  "kernelspec": {
   "display_name": "pennylane",
   "language": "python",
   "name": "python3"
  },
  "language_info": {
   "codemirror_mode": {
    "name": "ipython",
    "version": 3
   },
   "file_extension": ".py",
   "mimetype": "text/x-python",
   "name": "python",
   "nbconvert_exporter": "python",
   "pygments_lexer": "ipython3",
   "version": "3.12.7"
  }
 },
 "nbformat": 4,
 "nbformat_minor": 2
}
