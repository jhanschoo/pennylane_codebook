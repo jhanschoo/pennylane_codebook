{
 "cells": [
  {
   "cell_type": "code",
   "execution_count": 1,
   "metadata": {},
   "outputs": [],
   "source": [
    "import pennylane as qml\n",
    "from pennylane import numpy as np"
   ]
  },
  {
   "cell_type": "markdown",
   "metadata": {},
   "source": [
    "## PT.2.1"
   ]
  },
  {
   "cell_type": "code",
   "execution_count": 2,
   "metadata": {},
   "outputs": [
    {
     "ename": "TypeError",
     "evalue": "StatePrep.__init__() got an unexpected keyword argument 'normalize'",
     "output_type": "error",
     "traceback": [
      "\u001b[0;31m---------------------------------------------------------------------------\u001b[0m",
      "\u001b[0;31mTypeError\u001b[0m                                 Traceback (most recent call last)",
      "Cell \u001b[0;32mIn[2], line 23\u001b[0m\n\u001b[1;32m     19\u001b[0m     \u001b[38;5;28;01mreturn\u001b[39;00m qml\u001b[38;5;241m.\u001b[39mstate()\n\u001b[1;32m     21\u001b[0m alpha, beta, gamma \u001b[38;5;241m=\u001b[39m \u001b[38;5;241m1\u001b[39m\u001b[38;5;241m/\u001b[39mnp\u001b[38;5;241m.\u001b[39msqrt(\u001b[38;5;241m3\u001b[39m), \u001b[38;5;241m1\u001b[39m\u001b[38;5;241m/\u001b[39mnp\u001b[38;5;241m.\u001b[39msqrt(\u001b[38;5;241m3\u001b[39m), \u001b[38;5;241m1\u001b[39m\u001b[38;5;241m/\u001b[39mnp\u001b[38;5;241m.\u001b[39msqrt(\u001b[38;5;241m3\u001b[39m),\n\u001b[0;32m---> 23\u001b[0m \u001b[38;5;28mprint\u001b[39m(\u001b[38;5;124m\"\u001b[39m\u001b[38;5;124mThe prepared state is\u001b[39m\u001b[38;5;124m\"\u001b[39m, \u001b[43mprep_circuit\u001b[49m\u001b[43m(\u001b[49m\u001b[43malpha\u001b[49m\u001b[43m,\u001b[49m\u001b[43m \u001b[49m\u001b[43mbeta\u001b[49m\u001b[43m,\u001b[49m\u001b[43m \u001b[49m\u001b[43mgamma\u001b[49m\u001b[43m)\u001b[49m)\n",
      "File \u001b[0;32m~/miniconda3/envs/pennylane/lib/python3.12/site-packages/pennylane/workflow/qnode.py:1164\u001b[0m, in \u001b[0;36mQNode.__call__\u001b[0;34m(self, *args, **kwargs)\u001b[0m\n\u001b[1;32m   1162\u001b[0m \u001b[38;5;28;01mif\u001b[39;00m qml\u001b[38;5;241m.\u001b[39mcapture\u001b[38;5;241m.\u001b[39menabled():\n\u001b[1;32m   1163\u001b[0m     \u001b[38;5;28;01mreturn\u001b[39;00m qml\u001b[38;5;241m.\u001b[39mcapture\u001b[38;5;241m.\u001b[39mqnode_call(\u001b[38;5;28mself\u001b[39m, \u001b[38;5;241m*\u001b[39margs, \u001b[38;5;241m*\u001b[39m\u001b[38;5;241m*\u001b[39mkwargs)\n\u001b[0;32m-> 1164\u001b[0m \u001b[38;5;28;01mreturn\u001b[39;00m \u001b[38;5;28;43mself\u001b[39;49m\u001b[38;5;241;43m.\u001b[39;49m\u001b[43m_impl_call\u001b[49m\u001b[43m(\u001b[49m\u001b[38;5;241;43m*\u001b[39;49m\u001b[43margs\u001b[49m\u001b[43m,\u001b[49m\u001b[43m \u001b[49m\u001b[38;5;241;43m*\u001b[39;49m\u001b[38;5;241;43m*\u001b[39;49m\u001b[43mkwargs\u001b[49m\u001b[43m)\u001b[49m\n",
      "File \u001b[0;32m~/miniconda3/envs/pennylane/lib/python3.12/site-packages/pennylane/workflow/qnode.py:1144\u001b[0m, in \u001b[0;36mQNode._impl_call\u001b[0;34m(self, *args, **kwargs)\u001b[0m\n\u001b[1;32m   1141\u001b[0m     override_shots \u001b[38;5;241m=\u001b[39m kwargs[\u001b[38;5;124m\"\u001b[39m\u001b[38;5;124mshots\u001b[39m\u001b[38;5;124m\"\u001b[39m]\n\u001b[1;32m   1143\u001b[0m \u001b[38;5;66;03m# construct the tape\u001b[39;00m\n\u001b[0;32m-> 1144\u001b[0m \u001b[38;5;28;43mself\u001b[39;49m\u001b[38;5;241;43m.\u001b[39;49m\u001b[43mconstruct\u001b[49m\u001b[43m(\u001b[49m\u001b[43margs\u001b[49m\u001b[43m,\u001b[49m\u001b[43m \u001b[49m\u001b[43mkwargs\u001b[49m\u001b[43m)\u001b[49m\n\u001b[1;32m   1146\u001b[0m original_grad_fn \u001b[38;5;241m=\u001b[39m [\u001b[38;5;28mself\u001b[39m\u001b[38;5;241m.\u001b[39mgradient_fn, \u001b[38;5;28mself\u001b[39m\u001b[38;5;241m.\u001b[39mgradient_kwargs, \u001b[38;5;28mself\u001b[39m\u001b[38;5;241m.\u001b[39mdevice]\n\u001b[1;32m   1147\u001b[0m \u001b[38;5;28mself\u001b[39m\u001b[38;5;241m.\u001b[39m_update_gradient_fn(shots\u001b[38;5;241m=\u001b[39moverride_shots, tape\u001b[38;5;241m=\u001b[39m\u001b[38;5;28mself\u001b[39m\u001b[38;5;241m.\u001b[39m_tape)\n",
      "File \u001b[0;32m~/miniconda3/envs/pennylane/lib/python3.12/site-packages/pennylane/logging/decorators.py:61\u001b[0m, in \u001b[0;36mlog_string_debug_func.<locals>.wrapper_entry\u001b[0;34m(*args, **kwargs)\u001b[0m\n\u001b[1;32m     54\u001b[0m     s_caller \u001b[38;5;241m=\u001b[39m \u001b[38;5;124m\"\u001b[39m\u001b[38;5;124m::L\u001b[39m\u001b[38;5;124m\"\u001b[39m\u001b[38;5;241m.\u001b[39mjoin(\n\u001b[1;32m     55\u001b[0m         [\u001b[38;5;28mstr\u001b[39m(i) \u001b[38;5;28;01mfor\u001b[39;00m i \u001b[38;5;129;01min\u001b[39;00m inspect\u001b[38;5;241m.\u001b[39mgetouterframes(inspect\u001b[38;5;241m.\u001b[39mcurrentframe(), \u001b[38;5;241m2\u001b[39m)[\u001b[38;5;241m1\u001b[39m][\u001b[38;5;241m1\u001b[39m:\u001b[38;5;241m3\u001b[39m]]\n\u001b[1;32m     56\u001b[0m     )\n\u001b[1;32m     57\u001b[0m     lgr\u001b[38;5;241m.\u001b[39mdebug(\n\u001b[1;32m     58\u001b[0m         \u001b[38;5;124mf\u001b[39m\u001b[38;5;124m\"\u001b[39m\u001b[38;5;124mCalling \u001b[39m\u001b[38;5;132;01m{\u001b[39;00mf_string\u001b[38;5;132;01m}\u001b[39;00m\u001b[38;5;124m from \u001b[39m\u001b[38;5;132;01m{\u001b[39;00ms_caller\u001b[38;5;132;01m}\u001b[39;00m\u001b[38;5;124m\"\u001b[39m,\n\u001b[1;32m     59\u001b[0m         \u001b[38;5;241m*\u001b[39m\u001b[38;5;241m*\u001b[39m_debug_log_kwargs,\n\u001b[1;32m     60\u001b[0m     )\n\u001b[0;32m---> 61\u001b[0m \u001b[38;5;28;01mreturn\u001b[39;00m \u001b[43mfunc\u001b[49m\u001b[43m(\u001b[49m\u001b[38;5;241;43m*\u001b[39;49m\u001b[43margs\u001b[49m\u001b[43m,\u001b[49m\u001b[43m \u001b[49m\u001b[38;5;241;43m*\u001b[39;49m\u001b[38;5;241;43m*\u001b[39;49m\u001b[43mkwargs\u001b[49m\u001b[43m)\u001b[49m\n",
      "File \u001b[0;32m~/miniconda3/envs/pennylane/lib/python3.12/site-packages/pennylane/workflow/qnode.py:966\u001b[0m, in \u001b[0;36mQNode.construct\u001b[0;34m(self, args, kwargs)\u001b[0m\n\u001b[1;32m    964\u001b[0m \u001b[38;5;28;01mwith\u001b[39;00m pldb_device_manager(\u001b[38;5;28mself\u001b[39m\u001b[38;5;241m.\u001b[39mdevice):\n\u001b[1;32m    965\u001b[0m     \u001b[38;5;28;01mwith\u001b[39;00m qml\u001b[38;5;241m.\u001b[39mqueuing\u001b[38;5;241m.\u001b[39mAnnotatedQueue() \u001b[38;5;28;01mas\u001b[39;00m q:\n\u001b[0;32m--> 966\u001b[0m         \u001b[38;5;28mself\u001b[39m\u001b[38;5;241m.\u001b[39m_qfunc_output \u001b[38;5;241m=\u001b[39m \u001b[38;5;28;43mself\u001b[39;49m\u001b[38;5;241;43m.\u001b[39;49m\u001b[43mfunc\u001b[49m\u001b[43m(\u001b[49m\u001b[38;5;241;43m*\u001b[39;49m\u001b[43margs\u001b[49m\u001b[43m,\u001b[49m\u001b[43m \u001b[49m\u001b[38;5;241;43m*\u001b[39;49m\u001b[38;5;241;43m*\u001b[39;49m\u001b[43mkwargs\u001b[49m\u001b[43m)\u001b[49m\n\u001b[1;32m    968\u001b[0m \u001b[38;5;28mself\u001b[39m\u001b[38;5;241m.\u001b[39m_tape \u001b[38;5;241m=\u001b[39m QuantumScript\u001b[38;5;241m.\u001b[39mfrom_queue(q, shots)\n\u001b[1;32m    970\u001b[0m params \u001b[38;5;241m=\u001b[39m \u001b[38;5;28mself\u001b[39m\u001b[38;5;241m.\u001b[39mtape\u001b[38;5;241m.\u001b[39mget_parameters(trainable_only\u001b[38;5;241m=\u001b[39m\u001b[38;5;28;01mFalse\u001b[39;00m)\n",
      "Cell \u001b[0;32mIn[2], line 17\u001b[0m, in \u001b[0;36mprep_circuit\u001b[0;34m(alpha, beta, gamma)\u001b[0m\n\u001b[1;32m      5\u001b[0m \u001b[38;5;250m\u001b[39m\u001b[38;5;124;03m\"\"\"\u001b[39;00m\n\u001b[1;32m      6\u001b[0m \u001b[38;5;124;03mPrepares the state alpha|000> + beta|010> + gamma|100>.\u001b[39;00m\n\u001b[1;32m      7\u001b[0m \u001b[38;5;124;03mArgs:\u001b[39;00m\n\u001b[0;32m   (...)\u001b[0m\n\u001b[1;32m     11\u001b[0m \u001b[38;5;124;03m(np.array): The quantum state\u001b[39;00m\n\u001b[1;32m     12\u001b[0m \u001b[38;5;124;03m\"\"\"\u001b[39;00m\n\u001b[1;32m     14\u001b[0m \u001b[38;5;66;03m####################\u001b[39;00m\n\u001b[1;32m     15\u001b[0m \u001b[38;5;66;03m###YOUR CODE HERE###\u001b[39;00m\n\u001b[1;32m     16\u001b[0m \u001b[38;5;66;03m####################\u001b[39;00m\n\u001b[0;32m---> 17\u001b[0m \u001b[43mqml\u001b[49m\u001b[38;5;241;43m.\u001b[39;49m\u001b[43mStatePrep\u001b[49m\u001b[43m(\u001b[49m\u001b[43m[\u001b[49m\u001b[38;5;241;43m0\u001b[39;49m\u001b[43m,\u001b[49m\u001b[43m \u001b[49m\u001b[43malpha\u001b[49m\u001b[43m,\u001b[49m\u001b[43m \u001b[49m\u001b[43mbeta\u001b[49m\u001b[43m,\u001b[49m\u001b[43m \u001b[49m\u001b[38;5;241;43m0\u001b[39;49m\u001b[43m,\u001b[49m\u001b[43m \u001b[49m\u001b[43mgamma\u001b[49m\u001b[43m,\u001b[49m\u001b[43m \u001b[49m\u001b[38;5;241;43m0\u001b[39;49m\u001b[43m,\u001b[49m\u001b[43m \u001b[49m\u001b[38;5;241;43m0\u001b[39;49m\u001b[43m,\u001b[49m\u001b[43m \u001b[49m\u001b[38;5;241;43m0\u001b[39;49m\u001b[43m]\u001b[49m\u001b[43m,\u001b[49m\u001b[43m \u001b[49m\u001b[43mwires\u001b[49m\u001b[38;5;241;43m=\u001b[39;49m\u001b[43m[\u001b[49m\u001b[38;5;241;43m0\u001b[39;49m\u001b[43m,\u001b[49m\u001b[43m \u001b[49m\u001b[38;5;241;43m1\u001b[39;49m\u001b[43m,\u001b[49m\u001b[43m \u001b[49m\u001b[38;5;241;43m2\u001b[39;49m\u001b[43m]\u001b[49m\u001b[43m,\u001b[49m\u001b[43m \u001b[49m\u001b[43mnormalize\u001b[49m\u001b[38;5;241;43m=\u001b[39;49m\u001b[38;5;28;43;01mTrue\u001b[39;49;00m\u001b[43m)\u001b[49m\n\u001b[1;32m     19\u001b[0m \u001b[38;5;28;01mreturn\u001b[39;00m qml\u001b[38;5;241m.\u001b[39mstate()\n",
      "File \u001b[0;32m~/miniconda3/envs/pennylane/lib/python3.12/site-packages/pennylane/capture/capture_meta.py:89\u001b[0m, in \u001b[0;36mCaptureMeta.__call__\u001b[0;34m(cls, *args, **kwargs)\u001b[0m\n\u001b[1;32m     85\u001b[0m \u001b[38;5;28;01mif\u001b[39;00m enabled():\n\u001b[1;32m     86\u001b[0m     \u001b[38;5;66;03m# when tracing is enabled, we want to\u001b[39;00m\n\u001b[1;32m     87\u001b[0m     \u001b[38;5;66;03m# use bind to construct the class if we want class construction to add it to the jaxpr\u001b[39;00m\n\u001b[1;32m     88\u001b[0m     \u001b[38;5;28;01mreturn\u001b[39;00m \u001b[38;5;28mcls\u001b[39m\u001b[38;5;241m.\u001b[39m_primitive_bind_call(\u001b[38;5;241m*\u001b[39margs, \u001b[38;5;241m*\u001b[39m\u001b[38;5;241m*\u001b[39mkwargs)\n\u001b[0;32m---> 89\u001b[0m \u001b[38;5;28;01mreturn\u001b[39;00m \u001b[38;5;28;43mtype\u001b[39;49m\u001b[38;5;241;43m.\u001b[39;49m\u001b[38;5;21;43m__call__\u001b[39;49m\u001b[43m(\u001b[49m\u001b[38;5;28;43mcls\u001b[39;49m\u001b[43m,\u001b[49m\u001b[43m \u001b[49m\u001b[38;5;241;43m*\u001b[39;49m\u001b[43margs\u001b[49m\u001b[43m,\u001b[49m\u001b[43m \u001b[49m\u001b[38;5;241;43m*\u001b[39;49m\u001b[38;5;241;43m*\u001b[39;49m\u001b[43mkwargs\u001b[49m\u001b[43m)\u001b[49m\n",
      "\u001b[0;31mTypeError\u001b[0m: StatePrep.__init__() got an unexpected keyword argument 'normalize'"
     ]
    }
   ],
   "source": [
    "dev = qml.device(\"default.qubit\", wires = 3)\n",
    "\n",
    "@qml.qnode(dev)\n",
    "def prep_circuit(alpha, beta, gamma):\n",
    "    \"\"\"\n",
    "    Prepares the state alpha|000> + beta|010> + gamma|100>.\n",
    "    Args:\n",
    "    alpha, beta, gamma (np.complex): The coefficients of the quantum state\n",
    "    to prepare.\n",
    "    Returns:\n",
    "    (np.array): The quantum state\n",
    "    \"\"\"\n",
    "\n",
    "    ####################\n",
    "    ###YOUR CODE HERE###\n",
    "    ####################\n",
    "    qml.StatePrep([0, alpha, beta, 0, gamma, 0, 0, 0], wires=[0, 1, 2], normalize=True)\n",
    "    \n",
    "    return qml.state()\n",
    "\n",
    "alpha, beta, gamma = 1/np.sqrt(3), 1/np.sqrt(3), 1/np.sqrt(3),\n",
    "\n",
    "print(\"The prepared state is\", prep_circuit(alpha, beta, gamma))"
   ]
  },
  {
   "cell_type": "markdown",
   "metadata": {},
   "source": [
    "## PT.2.2"
   ]
  },
  {
   "cell_type": "code",
   "execution_count": 5,
   "metadata": {},
   "outputs": [
    {
     "name": "stdout",
     "output_type": "stream",
     "text": [
      "The output state of the circuit is:  [ 0.49572243-0.39667667j -0.07003593+0.63102146j  0.30438071-0.0652631j\n",
      " -0.16908169+0.26137765j]\n"
     ]
    }
   ],
   "source": [
    "dev = qml.device(\"default.qubit\", wires = 2)\n",
    "\n",
    "@qml.qnode(dev)\n",
    "def single_qubit_gates(theta, phi):\n",
    "    \"\"\"\n",
    "    Implements the quantum circuit shown in the statement\n",
    "    Args:\n",
    "    - theta, phi (float): The arguments for the RX and RY gates, respectively\n",
    "    Returns:\n",
    "    - (np.array): The output quantum state.\n",
    "    \n",
    "    \"\"\"\n",
    "\n",
    "    ####################\n",
    "    ###YOUR CODE HERE###\n",
    "    ####################\n",
    "    qml.Hadamard(wires=0)\n",
    "    qml.Hadamard(wires=1)\n",
    "    qml.T(wires=0)\n",
    "    qml.S(wires=1)\n",
    "    qml.RX(theta, wires=0)\n",
    "    qml.RZ(phi, wires=1)\n",
    "    \n",
    "    return qml.state()\n",
    "\n",
    "theta, phi = np.pi/3, np.pi/4\n",
    "print(\"The output state of the circuit is: \", single_qubit_gates(theta, phi))"
   ]
  },
  {
   "cell_type": "markdown",
   "metadata": {},
   "source": [
    "## PT.2.3"
   ]
  },
  {
   "cell_type": "code",
   "execution_count": null,
   "metadata": {},
   "outputs": [],
   "source": [
    "dev = qml.device(\"default.qubit\", wires = 3)\n",
    "\n",
    "@qml.qnode(dev)\n",
    "def multi_qubit_gates(theta, phi):\n",
    "    \"\"\"\n",
    "    Applies the circuit shown the figure above\n",
    "    Args:\n",
    "    theta, phi (float): parameters of the CRX and CRY gates, in that order.\n",
    "    Returns:\n",
    "    - (np.array): the quantum state\n",
    "    \"\"\"\n",
    "    \n",
    "    #####################\n",
    "    ###YOUR CODE HERE####\n",
    "    #####################\n",
    "    qml.Hadamard(wires=0)\n",
    "    qml.CRY(phi, wires=[0, 1])\n",
    "    qml.CRX(theta, wires=[1, 2])\n",
    "    qml.S(wires=1)\n",
    "    qml.T(wires=2)\n",
    "    qml.Toffoli(wires=[0, 1, 2])\n",
    "    qml.SWAP(wires=[0, 2])\n",
    "\n",
    "    return qml.state()\n",
    "\n",
    "theta, phi = np.pi/3, np.pi/4\n",
    "print(\"The output state is: \\n\", multi_qubit_gates(theta, phi))"
   ]
  },
  {
   "cell_type": "markdown",
   "metadata": {},
   "source": [
    "## PT.2.4"
   ]
  },
  {
   "cell_type": "code",
   "execution_count": null,
   "metadata": {},
   "outputs": [],
   "source": [
    "dev = qml.device(\"default.qubit\", wires = 3)\n",
    "\n",
    "@qml.qnode(dev)\n",
    "def ctrl_circuit(theta, phi):\n",
    "    \"\"\"Implements the circuit shown in the Codercise statement\n",
    "    Args:\n",
    "        theta (float): Rotation angle for RX\n",
    "        phi (float): Rotation angle for RY\n",
    "    Returns:\n",
    "        (numpy.array): The output state of the QNode\n",
    "    \"\"\"\n",
    "\n",
    "    ####################\n",
    "    ###YOUR CODE HERE###\n",
    "    ####################\n",
    "    qml.RY(phi, wires=0)\n",
    "    qml.Hadamard(wires=1)\n",
    "    qml.RX(theta, wires=2)\n",
    "    qml.ctrl(qml.S, control=0)(wires=1)\n",
    "    qml.ctrl(qml.T, control=1, control_values=0)(wires=2)\n",
    "    qml.ctrl(qml.Hadamard, control=2)(wires=0)\n",
    "    \n",
    "    return qml.state()"
   ]
  },
  {
   "cell_type": "markdown",
   "metadata": {},
   "source": [
    "## PT.2.5"
   ]
  },
  {
   "cell_type": "code",
   "execution_count": null,
   "metadata": {},
   "outputs": [],
   "source": [
    "dev = qml.device(\"default.qubit\", wires = 2)\n",
    "\n",
    "@qml.qnode(dev)\n",
    "def phase_kickback(matrix):\n",
    "    \"\"\"Applies phase kickback to a single-qubit operator whose matrix is known\n",
    "    Args:S\n",
    "    - matrix (numpy.array): A 2x2 matrix\n",
    "    Returns:\n",
    "    - (numpy.array): The output state after applying phase kickback\n",
    "    \"\"\"\n",
    "\n",
    "    ####################\n",
    "    ###YOUR CODE HERE###\n",
    "    ####################\n",
    "    qml.Hadamard(wires=0)\n",
    "    qml.ControlledQubitUnitary(matrix, control_wires=0, wires=1)\n",
    "    qml.Hadamard(wires=0)\n",
    "\n",
    "    return qml.state()\n",
    "\n",
    "matrix = np.array([[-0.69165024-0.50339329j,  0.28335369-0.43350413j],\n",
    "    [ 0.1525734 -0.4949106j , -0.82910055-0.2106588j ]])\n",
    "\n",
    "print(\"The state after phase kickback is: \\n\" , phase_kickback(matrix))"
   ]
  },
  {
   "cell_type": "markdown",
   "metadata": {},
   "source": [
    "## PT.2.6"
   ]
  },
  {
   "cell_type": "code",
   "execution_count": null,
   "metadata": {},
   "outputs": [],
   "source": [
    "dev = qml.device(\"default.qubit\")\n",
    "\n",
    "def do(k):\n",
    "\n",
    "    qml.StatePrep([1,k], wires = [0], normalize = True)\n",
    "\n",
    "def apply(theta):\n",
    "\n",
    "    qml.IsingXX(theta, wires = [1,2])\n",
    "\n",
    "@qml.qnode(dev)\n",
    "def do_apply_undo(k,theta):\n",
    "    \"\"\"\n",
    "    Applies V, controlled-U, and the inverse of V\n",
    "    Args: \n",
    "    - k, theta: The parameters for do and apply (V and U) respectively\n",
    "    Returns:\n",
    "    - (np.array): The output state of the routine\n",
    "    \"\"\"\n",
    "\n",
    "    ####################\n",
    "    ###YOUR CODE HERE###\n",
    "    ####################\n",
    "    do(k)\n",
    "    qml.ctrl(apply, control=0)(theta)\n",
    "    qml.adjoint(do)(k)\n",
    "\n",
    "    return qml.state()\n",
    "\n",
    "k, theta = 0.5, 0.8\n",
    "\n",
    "print(\"The output state is: \\n\", do_apply_undo(k, theta))"
   ]
  }
 ],
 "metadata": {
  "kernelspec": {
   "display_name": "pennylane",
   "language": "python",
   "name": "python3"
  },
  "language_info": {
   "codemirror_mode": {
    "name": "ipython",
    "version": 3
   },
   "file_extension": ".py",
   "mimetype": "text/x-python",
   "name": "python",
   "nbconvert_exporter": "python",
   "pygments_lexer": "ipython3",
   "version": "3.12.7"
  }
 },
 "nbformat": 4,
 "nbformat_minor": 2
}
