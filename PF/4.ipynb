{
 "cells": [
  {
   "cell_type": "code",
   "execution_count": 4,
   "metadata": {},
   "outputs": [],
   "source": [
    "import pennylane as qml\n",
    "from pennylane import numpy as np"
   ]
  },
  {
   "cell_type": "markdown",
   "metadata": {},
   "source": [
    "## PF.4.1"
   ]
  },
  {
   "cell_type": "code",
   "execution_count": 5,
   "metadata": {},
   "outputs": [],
   "source": [
    "dev = qml.device(\"default.qubit\", wires = 3)\n",
    "\n",
    "@qml.qnode(dev)\n",
    "def circuit_as_function(params):\n",
    "    \"\"\"\n",
    "    Implements the circuit shown in the codercise statement.\n",
    "    Args:\n",
    "    - params (np.ndarray): [theta_0, theta_1, theta_2, theta_3]\n",
    "    Returns:\n",
    "    - (np.tensor): <Z0>\n",
    "    \"\"\"\n",
    "\n",
    "    ####################\n",
    "    ###YOUR CODE HERE###\n",
    "    ####################\n",
    "    qml.RX(params[0], wires=0)\n",
    "    qml.CNOT(wires=(0, 1))\n",
    "    qml.CNOT(wires=(1, 2))\n",
    "    qml.CNOT(wires=(2, 0))\n",
    "    qml.RY(params[1], wires=0)\n",
    "    qml.RY(params[2], wires=1)\n",
    "    qml.RY(params[3], wires=2)\n",
    "\n",
    "    return qml.expval(qml.Z(wires=0)) # Return the expectation value\n",
    "\n",
    "angles = np.linspace(0, 4 * np.pi, 200)\n",
    "output_values = np.array([circuit_as_function([0.5, t, 0.5, 0.5]) for t in angles])"
   ]
  },
  {
   "cell_type": "markdown",
   "metadata": {},
   "source": [
    "## PF.4.2"
   ]
  },
  {
   "cell_type": "code",
   "execution_count": 11,
   "metadata": {},
   "outputs": [
    {
     "name": "stdout",
     "output_type": "stream",
     "text": [
      "The output of your circuit with these weights is:  0.7143314713276365\n"
     ]
    }
   ],
   "source": [
    "dev = qml.device(\"default.qubit\", wires = 3)\n",
    "\n",
    "@qml.qnode(dev)\n",
    "def strong_entangler(params):\n",
    "    \"\"\"\n",
    "    Applies Strongly Entangling Layers to the default initial state\n",
    "    Args:\n",
    "    - weights (np.ndarray): The weights argument for qml.StronglyEntanglingLayers\n",
    "    Returns:\n",
    "    - (np.tensor): <Z0>\n",
    "    \"\"\"\n",
    "\n",
    "    ####################\n",
    "    ###YOUR CODE HERE###\n",
    "    ####################\n",
    "    qml.StronglyEntanglingLayers(params, wires = range(3))\n",
    "    \n",
    "    return qml.expval(qml.PauliZ(0))\n",
    "\n",
    "test_weights = [[[0.1,0.2,0.3],[0.4,0.5,0.6],[0.7, 0.8, 0.9]],[[0.1,0.1,0.1],[0.3,0.3,0.3],[0.4,0.4,0.4]]] # Write some valid weights here.\n",
    "\n",
    "print(\"The output of your circuit with these weights is: \", strong_entangler(test_weights))"
   ]
  },
  {
   "cell_type": "markdown",
   "metadata": {},
   "source": [
    "## PF.4.3"
   ]
  },
  {
   "cell_type": "code",
   "execution_count": null,
   "metadata": {},
   "outputs": [],
   "source": [
    "dev = qml.device(\"default.qubit\", wires = 3)\n",
    "\n",
    "@qml.qnode(dev)\n",
    "def embedding_and_circuit(features, params):\n",
    "    \"\"\"\n",
    "    A QNode that depends on trainable and non-trainable parameters\n",
    "    Args:\n",
    "    - features (np.ndarray): Non-trainable parameters in the AngleEmbedding routine\n",
    "    - params (np.ndarray): Trainable parameters for the rest of the circuit\n",
    "    Returns:\n",
    "    - (np.tensor): <Z0>\n",
    "    \"\"\"\n",
    "\n",
    "    ####################\n",
    "    ###YOUR CODE HERE###\n",
    "    ####################\n",
    "    qml.AngleEmbedding(features, wires=range(3))\n",
    "    qml.CNOT(wires=(0, 1))\n",
    "    qml.CNOT(wires=(1, 2))\n",
    "    qml.CNOT(wires=(2, 0))\n",
    "    qml.RY(params[0], wires=0)\n",
    "    qml.RY(params[1], wires=1)\n",
    "    qml.RY(params[2], wires=2)\n",
    "    \n",
    "    return qml.expval(qml.PauliZ(0))\n",
    "\n",
    "features = np.array([0.3,0.4,0.6], requires_grad = False)\n",
    "params = np.array([0.4,0.7,0.9], requires_grad = True)\n",
    "print(\"The gradient of the circuit is:\", qml.jacobian(embedding_and_circuit)(features, params))\n"
   ]
  },
  {
   "cell_type": "markdown",
   "metadata": {},
   "source": [
    "## PF.4.4"
   ]
  },
  {
   "cell_type": "code",
   "execution_count": null,
   "metadata": {},
   "outputs": [],
   "source": [
    "dev = qml.device(\"default.qubit\", wires = 2)\n",
    "\n",
    "@qml.qnode(dev, diff_method = \"parameter-shift\", max_diff = 2)\n",
    "def circuit_for_hessian(params):\n",
    "    \"\"\"\n",
    "    Implements the circuit shown in the codercise statement\n",
    "    Args:\n",
    "    - params (np.ndarray): [theta_0, theta_1, theta_2, theta_3]\n",
    "    Returns:\n",
    "    - np.tensor: <Z0xZ1>\n",
    "    \"\"\"\n",
    "\n",
    "    ####################\n",
    "    ###YOUR CODE HERE###\n",
    "    ####################\n",
    "    qml.RY(params[0], wires=0)\n",
    "    qml.IsingXX(params[1], wires=(0, 1))\n",
    "    qml.RX(params[2], wires=0)\n",
    "    qml.RX(params[3], wires=1)\n",
    "\n",
    "    return qml.expval(qml.PauliZ(wires=0) @ qml.PauliZ(wires=1)) # Return the expectation value required\n",
    "\n",
    "test_params = np.array([0.1,0.2,0.3,0.4], requires_grad = True)\n",
    "# Don't change test_params! \n",
    "\n",
    "hessian = qml.jacobian(qml.jacobian(circuit_for_hessian))(test_params) # Compute the Hessian\n",
    "print(\"The hessian of the circuit is: \\n\", hessian)\n"
   ]
  },
  {
   "cell_type": "markdown",
   "metadata": {},
   "source": [
    "## PF.4.5a"
   ]
  },
  {
   "cell_type": "code",
   "execution_count": null,
   "metadata": {},
   "outputs": [],
   "source": [
    "def cost_function(params):\n",
    "    \"\"\"\n",
    "    Computes the cost function given in the codercise, as a function of the\n",
    "    parameters of circuit_as_function.\n",
    "    Args:\n",
    "    - params (np.ndarray): The parameters we pass to circuit_as_function\n",
    "    Returns:\n",
    "    - np.float: The cost function evaluated in params.\n",
    "    \"\"\"\n",
    "    ################\n",
    "    #YOUR CODE HERE#\n",
    "    ################\n",
    "    result = circuit_as_function(params)\n",
    "\n",
    "    return result ** 3 - result ** 2 / 2 + result # Return the value of the cost function\n"
   ]
  },
  {
   "cell_type": "markdown",
   "metadata": {},
   "source": [
    "## PF.4.5b"
   ]
  },
  {
   "cell_type": "code",
   "execution_count": null,
   "metadata": {},
   "outputs": [],
   "source": [
    "def optimize(cost_function, init_params, steps):\n",
    "\n",
    "    opt = qml.GradientDescentOptimizer(stepsize = 0.4) # Change this as you see fit\n",
    "\n",
    "    params = init_params\n",
    "\n",
    "    for i in range(steps):\n",
    "\n",
    "        params = opt.step(cost_function, params)\n",
    "\n",
    "    return params, cost_function(params)\n",
    "\n",
    "minimum = optimize(cost_function, np.random.random_sample((4,)), steps=100)[1] # An np.tensor of shape () containing the minimum of cost_function.\n"
   ]
  }
 ],
 "metadata": {
  "kernelspec": {
   "display_name": "pennylane",
   "language": "python",
   "name": "python3"
  },
  "language_info": {
   "codemirror_mode": {
    "name": "ipython",
    "version": 3
   },
   "file_extension": ".py",
   "mimetype": "text/x-python",
   "name": "python",
   "nbconvert_exporter": "python",
   "pygments_lexer": "ipython3",
   "version": "3.12.7"
  }
 },
 "nbformat": 4,
 "nbformat_minor": 2
}
