{
 "cells": [
  {
   "cell_type": "code",
   "execution_count": 1,
   "metadata": {},
   "outputs": [],
   "source": [
    "import pennylane as qml\n",
    "from pennylane import numpy as np"
   ]
  },
  {
   "cell_type": "markdown",
   "metadata": {},
   "source": [
    "## PF.3.1"
   ]
  },
  {
   "cell_type": "code",
   "execution_count": 2,
   "metadata": {},
   "outputs": [],
   "source": [
    "dev = qml.device(\"default.qubit\", wires=2, shots=1) # Define a two-qubit device here\n",
    "\n",
    "@qml.qnode(dev)\n",
    "def circuit():\n",
    "    \"\"\"\n",
    "    This quantum function implements the circuit shown above\n",
    "    and should return a sample from all qubits\n",
    "    \"\"\"\n",
    "\n",
    "    qml.H(wires=0)\n",
    "    qml.CNOT(wires=[0,1])\n",
    "\n",
    "    return qml.sample(wires=(0, 1)) # Add your measurement here\n",
    "\n"
   ]
  },
  {
   "cell_type": "markdown",
   "metadata": {},
   "source": [
    "## PF.3.2"
   ]
  },
  {
   "cell_type": "code",
   "execution_count": null,
   "metadata": {},
   "outputs": [],
   "source": [
    "dev = qml.device(\"default.qubit\", wires=2) # Define a two-qubit device here\n",
    "\n",
    "A = np.array([[1, 0], [0, -1]])\n",
    "\n",
    "@qml.qnode(dev)\n",
    "def circuit():\n",
    "    \"\"\"\n",
    "    This quantum function implements a Bell state and\n",
    "    should return the expectation value the observable\n",
    "    corresponding to the matrix A applied to the first qubit\n",
    "    \"\"\"\n",
    "    qml.H(wires=0)\n",
    "    qml.CNOT(wires=[0,1])\n",
    "    return qml.expval(qml.Hermitian(A, wires=0)) # Add your measurement here"
   ]
  },
  {
   "cell_type": "markdown",
   "metadata": {},
   "source": [
    "## PF.3.3"
   ]
  },
  {
   "cell_type": "code",
   "execution_count": null,
   "metadata": {},
   "outputs": [],
   "source": [
    "dev = qml.device(\"default.qubit\", wires=2) # Define a two-qubit device here\n",
    "\n",
    "@qml.qnode(dev)\n",
    "def circuit():\n",
    "    \"\"\"\n",
    "    This quantum function implements a Bell state and\n",
    "    should return the probabilities for the PauliZ \n",
    "    observable on both qubits, using a single measurement\n",
    "    \"\"\"\n",
    "    qml.H(wires=0)\n",
    "    qml.CNOT(wires=[0,1])\n",
    "    return qml.probs(op=qml.Z(wires=0)@qml.Z(wires=1)) # Add your measurement here"
   ]
  }
 ],
 "metadata": {
  "kernelspec": {
   "display_name": "pennylane",
   "language": "python",
   "name": "python3"
  },
  "language_info": {
   "codemirror_mode": {
    "name": "ipython",
    "version": 3
   },
   "file_extension": ".py",
   "mimetype": "text/x-python",
   "name": "python",
   "nbconvert_exporter": "python",
   "pygments_lexer": "ipython3",
   "version": "3.12.7"
  }
 },
 "nbformat": 4,
 "nbformat_minor": 2
}
