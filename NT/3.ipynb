{
 "cells": [
  {
   "cell_type": "code",
   "execution_count": null,
   "metadata": {},
   "outputs": [],
   "source": [
    "import pennylane as qml\n",
    "from pennylane import numpy as np"
   ]
  },
  {
   "cell_type": "markdown",
   "metadata": {},
   "source": [
    "## N.3.1"
   ]
  },
  {
   "cell_type": "markdown",
   "metadata": {},
   "source": [
    "Suppose that we have a compound mixed state space $A\\otimes B$, with the state represented by a density operator $\\rho_{AB}$. Note that the identity operator is an observable that gives no information and that performs no meaningful wavefunction collapse of the quantum system. Hence we can represent a measurement $O$ on the subsystem $A$ as $O\\otimes I$ in terms of the compound state space. Similarly, we can have transformations $U$ that act solely on $A$ be represented as $U \\otimes I$ in terms of the compound state. It would be useful if we can reduce our density operator to be with respect only to $A$, as long as future operations are not concerned with $B$. Indeed, we can do that. We apply the **partial trace operator** to \"trace out\" $B$. What this involves is finding a separable basis, then summing all components of the basis vectors compound state that have the same component in $A$, ranging over $B$ (taking the expectation over $B$/marginalizing $B$), and so obtain a density operator in terms of the basis of $A$. If the compound state was was a separable pure state, our reduced density operator would represent a pure state. If we had a mixed state or an entangled state, our reduced density operator would represent a mixed state.\n",
    "\n",
    "Then, this also informs us about going in the other direction. Suppose we have a noisy preparation and obtain a mixed state. Then the formalism allows us to represent this another way; a mixed state can be represented as an entangled pure state with respect to a compound system which we can only observe a subsystem thereof."
   ]
  },
  {
   "cell_type": "code",
   "execution_count": null,
   "metadata": {},
   "outputs": [],
   "source": [
    "def composite_density_matrix(rho, sigma):\n",
    "    \"\"\"Build composite density matrix from two states.\n",
    "    \n",
    "    Args:\n",
    "        rho: (np.array(array[complex]): The density matrix of the first input state\n",
    "        sigma: (np.array(array[complex]): The density matrix of the second input state\n",
    "        \n",
    "    Returns:\n",
    "        (np.array([array[complex]])): The density matrix for the composite system.\n",
    "    \"\"\"\n",
    "\n",
    "    ################\n",
    "    #YOUR CODE HERE#\n",
    "    ################\n",
    "\n",
    "    # Build the density matrix and return it\n",
    "    \n",
    "    return np.kron(rho, sigma)\n",
    "\n"
   ]
  },
  {
   "cell_type": "markdown",
   "metadata": {},
   "source": [
    "## N.3.2a"
   ]
  },
  {
   "cell_type": "code",
   "execution_count": null,
   "metadata": {},
   "outputs": [],
   "source": [
    "def create_entangled(alpha):\n",
    "\n",
    "    \"\"\" Subcircuit that creates the entangled state\n",
    "    Args:\n",
    "        - alpha (float): angle parameterizing the subcircuit.\n",
    "    \"\"\"\n",
    "    \n",
    "    # Write your circuit here\n",
    "    qml.RY(alpha, wires=0)\n",
    "    qml.CNOT(wires=[0, 1])\n",
    "\n"
   ]
  },
  {
   "cell_type": "markdown",
   "metadata": {},
   "source": [
    "## N.3.2b"
   ]
  },
  {
   "cell_type": "code",
   "execution_count": null,
   "metadata": {},
   "outputs": [],
   "source": [
    "dev = qml.device(\"default.mixed\", wires=2) # Create your device\n",
    "\n",
    "@qml.qnode(dev)\n",
    "def reduced_entangled(alpha):\n",
    "\n",
    "    \"\"\"\n",
    "    Function that prepares an entangled state and calculates the reduced density matrix \n",
    "    on the first wire.\n",
    "    Args:\n",
    "        - alpha (float): Angle parametrizing the entangled state\n",
    "    Returns:\n",
    "        (np.array(complex)): Reduce density matrix on the first wire\n",
    "    \"\"\"\n",
    "    \n",
    "    # Prepare the state using create_entangled\n",
    "    create_entangled(alpha)\n",
    "    \n",
    "    return qml.density_matrix(wires=0) # Return the density matrix on wire = 0\n",
    "\n",
    "alpha = np.pi/3\n",
    "\n",
    "print(\"For alpha = pi/3, the reduced density matrix is {}\".format(reduced_entangled(alpha)))\n"
   ]
  },
  {
   "cell_type": "markdown",
   "metadata": {},
   "source": [
    "## N.3.3"
   ]
  },
  {
   "cell_type": "code",
   "execution_count": null,
   "metadata": {},
   "outputs": [],
   "source": [
    "dev = qml.device('default.mixed', wires = 2)\n",
    "\n",
    "parity_even = 0.5*qml.PauliZ(wires=0) @ qml.PauliZ(wires=1)+ 0.5*qml.Identity(0) @ qml.Identity(1)\n",
    "parity_odd = - 0.5*qml.PauliZ(wires=0) @ qml.PauliZ(wires=1)+ 0.5*qml.Identity(0) @ qml.Identity(1)\n",
    "\n",
    "max_mixed = np.eye(4)/4\n",
    "psi_plus = qml.math.dm_from_state_vector(np.array([1,0,0,1])/np.sqrt(2))\n",
    "\n",
    "@qml.qnode(dev)\n",
    "def parity_check_circuit(state,parity_operator):\n",
    "\n",
    "    ################\n",
    "    #YOUR CODE HERE#\n",
    "    ################\n",
    "\n",
    "    # PREPARE THE STATE\n",
    "\n",
    "    # RETURN THE EXPECTATION VALUE OF THE PARITY OPERATOR\n",
    "    return\n",
    "\n",
    "print(\"Maximal mixed state expected values\")\n",
    "print(f\"Odd Parity: {parity_check_circuit(max_mixed,parity_odd)}\")\n",
    "print(f\"Even Parity: {parity_check_circuit(max_mixed,parity_even)}\")\n",
    "\n",
    "print(\"Maximal entangled state expected values\")\n",
    "print(f\"Odd Parity: {parity_check_circuit(psi_plus,parity_odd)}\")\n",
    "print(f\"Even Parity: {parity_check_circuit(psi_plus,parity_even)}\")\n"
   ]
  }
 ],
 "metadata": {
  "language_info": {
   "name": "python"
  }
 },
 "nbformat": 4,
 "nbformat_minor": 2
}
