{
 "cells": [
  {
   "cell_type": "code",
   "execution_count": null,
   "metadata": {},
   "outputs": [],
   "source": [
    "import pennylane as qml\n",
    "from pennylane import numpy as np"
   ]
  },
  {
   "cell_type": "markdown",
   "metadata": {},
   "source": [
    "Preparation of, and operations on quantum states are imperfect and imprecise. We represent an imprecise preparation, or **mixed state** with a **density operator** on Hilbert space. The density operator is a linear operator that can be described as a summation $\\sum_i p_i \\ket{i}\\bra{i}$ such that $0 \\le p_i$ for each $i$ and $1=\\sum_i p_i$, where $p_i$ represents the probability that the system is actually in state $\\ket{i}$ if we should measure for state $\\ket{i}$ with $\\bra{i}$.\n",
    "\n",
    "Density operators are by definition **Hermitian** (by being a summation of weighted $\\ket{i}\\bra{i}$'s), and the probability requirement is equivalent to them having **unit trace** (summation to unit), and **positive-semidefinite** (non-negative measure).\n",
    "\n",
    "Take a linear operator and compose it with itself, and take its trace. A pure state represented by the operator will have unit trace, but if the operator represents a mixed state, the trace will be less than unit.\n",
    "\n",
    "If the system can be expressed in a finite orthonormal bases, there exists a maximally mixed state that has equal coefficients in each basis element."
   ]
  },
  {
   "cell_type": "markdown",
   "metadata": {},
   "source": [
    "## N.1.1"
   ]
  },
  {
   "cell_type": "code",
   "execution_count": null,
   "metadata": {},
   "outputs": [],
   "source": [
    "def build_density_matrix(state_1, state_2, p_1, p_2):\n",
    "    \"\"\"Build the density matrix for two randomly prepared states.\n",
    "    \n",
    "    Args:\n",
    "        state_1 (array[complex]): A normalized quantum state vector\n",
    "        state_2 (array[complex]): A second normalized quantum state vector\n",
    "        p_1 (float): The probability of preparing state_1\n",
    "        p_2 (float): The probability of preparing state_2\n",
    "        \n",
    "    Returns:\n",
    "        (np.array([array[complex]])): The density matrix for the preparation.\n",
    "    \"\"\"\n",
    " \n",
    "    projector_1 = np.outer(state_1, np.conj(state_1)) # Compute the outer product of state_1 with itself\n",
    "    projector_2 = np.outer(state_2, np.conj(state_2)) # Compute the outer product of state_2 with itself    \n",
    "    \n",
    "    density_matrix = p_1 * projector_1 + p_2 * projector_2 # Build the density matrix\n",
    "    \n",
    "    return density_matrix\n",
    "\n",
    "print(\"state_1 = |+y>, state_2 = |+x>, p_1 = 0.5, p_2 = 0.5\")\n",
    "print(\"density_matrix:\")\n",
    "print(build_density_matrix([1,1j]/np.sqrt(2), [1,1]/np.sqrt(2), 0.5, 0.5))   \n",
    "\n"
   ]
  },
  {
   "cell_type": "markdown",
   "metadata": {},
   "source": [
    "## N.1.2a"
   ]
  },
  {
   "cell_type": "code",
   "execution_count": null,
   "metadata": {},
   "outputs": [],
   "source": [
    "def is_hermitian(matrix):\n",
    "    \"\"\"Check whether a matrix is hermitian.\n",
    "    \n",
    "    Args:\n",
    "        matrix: (array(array[complex]))\n",
    "    Returns:\n",
    "        bool: True if the matrix is Hermitian, False otherwise\n",
    "    \"\"\"\n",
    " \n",
    "    ##################\n",
    "    # YOUR CODE HERE #\n",
    "    ################## \n",
    "    \n",
    "    return np.allclose(matrix, np.conj(matrix).T) # Return the boolean value\n",
    "\n",
    "matrix_1 = np.array([[1,1j],[-1j,1]])\n",
    "matrix_2 = np.array([[1,2],[3,4]])\n",
    "\n",
    "print(\"Is matrix [[1,1j],[-1j,1]] Hermitian?\")\n",
    "print(is_hermitian(matrix_1))\n",
    "print(\"Is matrix [[1,2],[3,4]] Hermitian?\")\n",
    "print(is_hermitian(matrix_2))\n"
   ]
  },
  {
   "cell_type": "markdown",
   "metadata": {},
   "source": [
    "## N.1.2b"
   ]
  },
  {
   "cell_type": "code",
   "execution_count": null,
   "metadata": {},
   "outputs": [],
   "source": [
    "def has_trace_one(matrix):\n",
    "    \"\"\"Check whether a matrix has unit trace.\n",
    "    \n",
    "    Args:\n",
    "        matrix: (array(array[complex]))\n",
    "    Returns:\n",
    "        bool: True if the trace of matrix is 1, False otherwise\n",
    "    \"\"\"\n",
    " \n",
    "    ##################\n",
    "    # YOUR CODE HERE #\n",
    "    ################## \n",
    "    \n",
    "    return np.allclose(np.trace(matrix), 1) # Return the Boolean value\n",
    "\n",
    "matrix_1 = [[1/2,1j],[-1j,1/2]]\n",
    "matrix_2 = [[1,2],[3,4]]\n",
    "    \n",
    "print(\"Does [[1/2,1j],[-1j,1/2]] have unit trace?\")\n",
    "print(has_trace_one(matrix_1))\n",
    "print(\"Does [[1,2],[3,4]] have unit trace?\")\n",
    "print(has_trace_one(matrix_2))\n",
    "\n"
   ]
  },
  {
   "cell_type": "markdown",
   "metadata": {},
   "source": [
    "## N.1.2c"
   ]
  },
  {
   "cell_type": "markdown",
   "metadata": {},
   "source": [
    "A linear operator is positive semidefinite once all its eigenvalues are non-negative."
   ]
  },
  {
   "cell_type": "code",
   "execution_count": null,
   "metadata": {},
   "outputs": [],
   "source": [
    "def is_semi_positive(matrix):\n",
    "    \"\"\"Check whether a matrix is positive semidefinite.\n",
    "    \n",
    "    Args:\n",
    "        matrix: (array(array[complex]))\n",
    "    Returns:\n",
    "        bool: True if the matrix is positive semidefinite, False otherwise\n",
    "    \"\"\"\n",
    " \n",
    "    ##################\n",
    "    # YOUR CODE HERE #\n",
    "    ################## \n",
    "    \n",
    "    eigvals = np.linalg.eigvals(matrix)\n",
    "    return bool(np.allclose(eigvals.imag, 0) and (eigvals.real >= 0).all()) # Return the Boolean value\n",
    "    \n",
    "matrix_1 = [[3/4,1/4],[1/4,1/4]]\n",
    "matrix_2 = [[0,1/4],[1/4,1/4]]\n",
    "\n",
    "print(\"Is matrix [[3/4,1/4],[1/4,1/4]] positive semidefinite?\")\n",
    "print(is_semi_positive(matrix_1))\n",
    "print(\"Is matrix [[0,1/4],[1/4,1/4]] positive semidefinite?\")\n",
    "print(is_semi_positive(matrix_2))\n"
   ]
  },
  {
   "cell_type": "markdown",
   "metadata": {},
   "source": [
    "## N.1.2d"
   ]
  },
  {
   "cell_type": "code",
   "execution_count": null,
   "metadata": {},
   "outputs": [],
   "source": [
    "def is_density_matrix(matrix):\n",
    "    \"\"\"Check whether a matrix is a density matrix.\n",
    "    \n",
    "    Args:\n",
    "        matrix: (array(array[complex]))\n",
    "    Returns:\n",
    "        bool: True if the matrix isa density matrix, False otherwise\n",
    "    \"\"\"\n",
    " \n",
    "    ##################\n",
    "    # YOUR CODE HERE #\n",
    "    ################## \n",
    "    \n",
    "    return is_hermitian(matrix) and has_trace_one(matrix) and is_semi_positive(matrix) # Return the Boolean value\n",
    "\n",
    "matrix_1 = np.array([[3/4,0.25j],[-0.25j,1/4]])\n",
    "matrix_2 = np.array([[0,1/4],[1/4,1/4]])\n",
    "    \n",
    "print(\"Is [[3/4,0.25j],[-0.25j,1/4]] a density matrix?\")\n",
    "print(is_density_matrix(matrix_1))\n",
    "print(\"Is matrix [[0,1/4],[1/4,1/4]] a density matrix?\")\n",
    "print(is_density_matrix(matrix_2))\n"
   ]
  },
  {
   "cell_type": "markdown",
   "metadata": {},
   "source": [
    "## N.1.2e"
   ]
  },
  {
   "cell_type": "code",
   "execution_count": null,
   "metadata": {},
   "outputs": [],
   "source": [
    "def purity(density_matrix):\n",
    "    \"\"\"Calculate the purity of a density operator.\n",
    "    \n",
    "    Args:\n",
    "        density_matrix (array(array[complex])): A density matrix, assumed to satisfy all the defining properties\n",
    "    Returns:\n",
    "        (float): The purity of the density matrix\n",
    "    \"\"\"\n",
    " \n",
    "    ##################\n",
    "    # YOUR CODE HERE #\n",
    "    ################## \n",
    "    \n",
    "    return np.trace(np.linalg.matrix_power(density_matrix, 2)) # Return the purity\n",
    "\n",
    "matrix_1 = np.array([[1/2,1/2],[1/2,1/2]])\n",
    "matrix_2 = np.array([[3/4,1/4],[1/4,1/4]])\n",
    "\n",
    "print(\"The purity of [[1/2,1/2],[1/2,1/2]] is {}\".format(purity(matrix_1)))\n",
    "print(\"The purity of [[3/4,1/4],[1/4,1/4]] is {}\".format(purity(matrix_2)))\n"
   ]
  }
 ],
 "metadata": {
  "kernelspec": {
   "display_name": "pennylane",
   "language": "python",
   "name": "python3"
  },
  "language_info": {
   "name": "python",
   "version": "3.9.21"
  }
 },
 "nbformat": 4,
 "nbformat_minor": 2
}
