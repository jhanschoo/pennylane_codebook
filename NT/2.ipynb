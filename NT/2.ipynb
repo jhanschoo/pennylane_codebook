{
 "cells": [
  {
   "cell_type": "code",
   "execution_count": null,
   "metadata": {},
   "outputs": [],
   "source": [
    "import pennylane as qml\n",
    "from pennylane import numpy as np"
   ]
  },
  {
   "cell_type": "markdown",
   "metadata": {},
   "source": [
    "## N.2.1a"
   ]
  },
  {
   "cell_type": "code",
   "execution_count": null,
   "metadata": {},
   "outputs": [],
   "source": [
    "def apply_gate_mixed(rho,U):\n",
    "    \n",
    "    \"\"\"\n",
    "    Args:\n",
    "        rho: (np.array(array[complex]): The density matrix of the input state\n",
    "        U (np.array(array[complex])): A matrix representing the unitary gate U to be applied.\n",
    "        \n",
    "    Returns:\n",
    "        (np.array([array[complex]])): The density matrix of the output state.\n",
    "    \"\"\"\n",
    "\n",
    "    ################\n",
    "    #YOUR CODE HERE#\n",
    "    ################\n",
    "    \n",
    "    return U @ rho @ np.conj(U).T # Return the density matrix\n",
    "\n",
    "U = qml.matrix(qml.RX(np.pi/3,0))\n",
    "rho = np.array([[3/4,1/4],[1/4,1/4]])\n",
    "\n",
    "print(\"A pi/3 RX rotation applied on [[3/4,1/4],[1/4,1/4]] gives:\")\n",
    "print(apply_gate_mixed(rho,U).round(2))\n"
   ]
  },
  {
   "cell_type": "markdown",
   "metadata": {},
   "source": [
    "## N.2.1b"
   ]
  },
  {
   "cell_type": "code",
   "execution_count": null,
   "metadata": {},
   "outputs": [],
   "source": [
    "dev = qml.device('default.mixed', wires=1) # Define a default.mixed device for 1 qubit\n",
    "\n",
    "@qml.qnode(dev)\n",
    "def apply_gate_circuit(rho,U):\n",
    "\n",
    "    \"\"\"\n",
    "    Args:\n",
    "        rho: (np.array(array[complex]): The density matrix of the input state.\n",
    "        U (np.array(array[complex])): A matrix representing the unitary gate U to be applied.\n",
    "        \n",
    "    Returns:\n",
    "        (np.array([array[complex]])): The density matrix of the output state.\n",
    "    \"\"\"\n",
    "    \n",
    "    # Prepare a state with density operator rho\n",
    "    qml.QubitDensityMatrix(rho, wires=0)\n",
    "    # Apply the unitary U\n",
    "    qml.QubitUnitary(U, wires=0)\n",
    "    \n",
    "    return qml.state() # Return the density operator after applying U\n",
    "\n",
    "U = qml.matrix(qml.RX(np.pi/3,0))\n",
    "rho = np.array([[3/4,1/4],[1/4,1/4]])\n",
    "\n",
    "print(\"A pi/3 RX rotation applied on [[3/4,1/4],[1/4,1/4]] gives:\")\n",
    "print(apply_gate_circuit(rho,U).round(2))\n"
   ]
  },
  {
   "cell_type": "markdown",
   "metadata": {},
   "source": [
    "## N.2.2a"
   ]
  },
  {
   "cell_type": "code",
   "execution_count": null,
   "metadata": {},
   "outputs": [],
   "source": [
    "def eigenprojectors(obs):\n",
    "    \n",
    "    \"\"\"\n",
    "    Args:\n",
    "        obs (np.array([array[complex]])): A Hermitian operator representing a quantum observable.\n",
    "        \n",
    "    Returns:\n",
    "        (np.array(array[array[complex]])): An array containing the eigenprojectors of the observable.\n",
    "        Therefore, it is an array that contains matrices.\n",
    "    \"\"\"\n",
    "\n",
    "    ################\n",
    "    #YOUR CODE HERE#\n",
    "    ################\n",
    "\n",
    "    eigenvectors = # Use numpy's linalg to calculate the eigenvectors of obs\n",
    "    \n",
    "    projectors = # Use list comprehension to build a list of eigenprojectors from the eigenvectors\n",
    "    \n",
    "    return projectors\n"
   ]
  }
 ],
 "metadata": {
  "kernelspec": {
   "display_name": "pennylane",
   "language": "python",
   "name": "python3"
  },
  "language_info": {
   "name": "python",
   "version": "3.12.7"
  }
 },
 "nbformat": 4,
 "nbformat_minor": 2
}
