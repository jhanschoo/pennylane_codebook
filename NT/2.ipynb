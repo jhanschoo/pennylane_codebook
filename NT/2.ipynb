{
 "cells": [
  {
   "cell_type": "code",
   "execution_count": null,
   "metadata": {},
   "outputs": [],
   "source": [
    "import pennylane as qml\n",
    "from pennylane import numpy as np"
   ]
  },
  {
   "cell_type": "markdown",
   "metadata": {},
   "source": [
    "Recall that in the usual representation of a quantum system in a pure state as a single ket, or a linear combination of kets, a gate acting on the state is represented as $U\\ket{\\psi}$, where $U$ is a linear operator and $\\ket{\\psi}$ represents the pure state.\n",
    "\n",
    "In the representation of possibly mixed states as a linear operator, the same operation corresponds to mapping the density operator $\\rho$ to $U\\rho U^{\\dagger}$, so that $\\ket{\\psi}\\bra{\\psi}$ gets mapped to $U\\ket{\\psi}\\bra{\\psi}U^{\\dagger}$.\n",
    "\n",
    "We see that in terms of the representation of the mixture state as $\\sum_i p_i\\ket{i}\\bra{i}$, the probability gets factored out as $U(\\sum_i p_i\\ket{i}\\bra{i})U^{\\dagger}=\\sum_i p_i U\\ket{i}\\bra{i}U^{\\dagger}$, corresponding to the notion that the gate acted in the same manner regardless to which state the system was originally in."
   ]
  },
  {
   "cell_type": "markdown",
   "metadata": {},
   "source": [
    "At the end of the day, we need to measure the quantum system for our formalism to have any utility. Let us review measurement on a pure state. A measurement with respect to an observable is represented as a **Hermitian operator**, so it can be represented as a summation $\\sum_k \\lambda_k \\ket{k}\\bra{k}$ where the $\\ket{k}$ are orthonormal. Measurement tells us one of the eigenvalues of the system, and the immediate post-measurement state of the system is the original state projected to the subspace spanned by the eigenvectors having the measured eigenvalue, then renormalized to unit magnitude.\n",
    "\n",
    "In concrete algebraic terms, we may express the spanned subspace as a sum of component orthonormal basis vectors (renormalized so that the sum is unit); express the pre-measurement state in the same basis, then perform the product. The result is the post-measurement state up to normalization. We perform renormalization up to global phase (which is meaningless) by dividing it with its own magnitude; the magnitude is exactly the root of the probability that the pre-measurement state collapsed to the current one, and is the sum of the squared coefficients that the pre-measurement state has of the basis vectors in the spanned eigenspace.\n",
    "\n",
    "With a mixed state expressed as a weighted sum of states, the probability of our observation is simply the weighted probability with respect to each component (a pure state) of the mixture.\n",
    "\n",
    "Similarly, the post-measurement mixed state is simply the weighted sum of the post-measurement pure states."
   ]
  },
  {
   "cell_type": "markdown",
   "metadata": {},
   "source": [
    "## N.2.1a"
   ]
  },
  {
   "cell_type": "code",
   "execution_count": null,
   "metadata": {},
   "outputs": [],
   "source": [
    "def apply_gate_mixed(rho,U):\n",
    "    \n",
    "    \"\"\"\n",
    "    Args:\n",
    "        rho: (np.array(array[complex]): The density matrix of the input state\n",
    "        U (np.array(array[complex])): A matrix representing the unitary gate U to be applied.\n",
    "        \n",
    "    Returns:\n",
    "        (np.array([array[complex]])): The density matrix of the output state.\n",
    "    \"\"\"\n",
    "\n",
    "    ################\n",
    "    #YOUR CODE HERE#\n",
    "    ################\n",
    "    \n",
    "    return U @ rho @ np.conj(U).T # Return the density matrix\n",
    "\n",
    "U = qml.matrix(qml.RX(np.pi/3,0))\n",
    "rho = np.array([[3/4,1/4],[1/4,1/4]])\n",
    "\n",
    "print(\"A pi/3 RX rotation applied on [[3/4,1/4],[1/4,1/4]] gives:\")\n",
    "print(apply_gate_mixed(rho,U).round(2))\n"
   ]
  },
  {
   "cell_type": "markdown",
   "metadata": {},
   "source": [
    "## N.2.1b"
   ]
  },
  {
   "cell_type": "code",
   "execution_count": null,
   "metadata": {},
   "outputs": [],
   "source": [
    "dev = qml.device('default.mixed', wires=1) # Define a default.mixed device for 1 qubit\n",
    "\n",
    "@qml.qnode(dev)\n",
    "def apply_gate_circuit(rho,U):\n",
    "\n",
    "    \"\"\"\n",
    "    Args:\n",
    "        rho: (np.array(array[complex]): The density matrix of the input state.\n",
    "        U (np.array(array[complex])): A matrix representing the unitary gate U to be applied.\n",
    "        \n",
    "    Returns:\n",
    "        (np.array([array[complex]])): The density matrix of the output state.\n",
    "    \"\"\"\n",
    "    \n",
    "    # Prepare a state with density operator rho\n",
    "    qml.QubitDensityMatrix(rho, wires=0)\n",
    "    # Apply the unitary U\n",
    "    qml.QubitUnitary(U, wires=0)\n",
    "    \n",
    "    return qml.state() # Return the density operator after applying U\n",
    "\n",
    "U = qml.matrix(qml.RX(np.pi/3,0))\n",
    "rho = np.array([[3/4,1/4],[1/4,1/4]])\n",
    "\n",
    "print(\"A pi/3 RX rotation applied on [[3/4,1/4],[1/4,1/4]] gives:\")\n",
    "print(apply_gate_circuit(rho,U).round(2))\n"
   ]
  },
  {
   "cell_type": "markdown",
   "metadata": {},
   "source": [
    "## N.2.2a"
   ]
  },
  {
   "cell_type": "code",
   "execution_count": null,
   "metadata": {},
   "outputs": [],
   "source": [
    "def eigenprojectors(obs):\n",
    "    \n",
    "    \"\"\"\n",
    "    Args:\n",
    "        obs (np.array([array[complex]])): A Hermitian operator representing a quantum observable.\n",
    "        \n",
    "    Returns:\n",
    "        (np.array(array[array[complex]])): An array containing the eigenprojectors of the observable.\n",
    "        Therefore, it is an array that contains matrices.\n",
    "    \"\"\"\n",
    "\n",
    "    ################\n",
    "    #YOUR CODE HERE#\n",
    "    ################\n",
    "\n",
    "    eigenvectors = np.linalg.eigh(obs)[1]\n",
    "    \n",
    "    projectors = np.ndarray([ np.outer(eigenvectors[:,i],np.conj(eigenvectors[:,i])) for i in range(eigenvectors.shape[1]) ])\n",
    "    \n",
    "    return projectors\n"
   ]
  },
  {
   "cell_type": "markdown",
   "metadata": {},
   "source": [
    "# N.2.2b"
   ]
  },
  {
   "cell_type": "code",
   "execution_count": null,
   "metadata": {},
   "outputs": [],
   "source": [
    "def outcome_probs(rho, B):\n",
    "\n",
    "    \"\"\"\n",
    "    Args:\n",
    "        rho (np.array([array[complex]])): The density matrix of the state before measurement\n",
    "        B (np.array([array[complex]])): Matrix representation of the measured observable\n",
    "    Returns:\n",
    "        (np.array(float)): List of measurement probabilities, in no particular order.\n",
    "    \"\"\"\n",
    "    \n",
    "    eigen_projectors = eigenprojectors(B)\n",
    "    \n",
    "    prob_list = np.array([ np.trace(projector @ rho) for projector in eigen_projectors ], dtype=np.float64)\n",
    "    \n",
    "    return prob_list\n",
    "\n",
    "rho = np.array([[3/4,0],[0,1/4]])\n",
    "B = qml.matrix(qml.PauliY(0))\n",
    "\n",
    "print(\"State: [[3/4,0],[0,1/4]], Observable: {}\".format(B))\n",
    "print(\"Measurement probabilities {}\".format(outcome_probs(rho,B).round(2)))\n",
    "\n"
   ]
  },
  {
   "cell_type": "markdown",
   "metadata": {},
   "source": [
    "## N.2.2c"
   ]
  },
  {
   "cell_type": "code",
   "execution_count": null,
   "metadata": {},
   "outputs": [],
   "source": [
    "dev = qml.device('default.mixed', wires = 1)\n",
    "\n",
    "@qml.qnode(dev)\n",
    "def mixed_probs_circuit(rho, obs):\n",
    "    \"\"\"\n",
    "    Prepares a state with density matrix rho and returns measurement\n",
    "    probabilities associated to the observable obs.\n",
    "\n",
    "    Args:\n",
    "        rho (np.array[array[complex]]): The density matrix we need to prepare\n",
    "        obs: (pennylane.operation): A PennyLane hermitian operator \n",
    "\n",
    "    Returns:\n",
    "        np.array(float): The measurement probabilities as required\n",
    "    \"\"\"\n",
    "    \n",
    "    # Prepare the density matrix\n",
    "    qml.QubitDensityMatrix(rho, wires=0)\n",
    "    \n",
    "    return qml.probs(op=obs)\n",
    "\n",
    "rho = np.array([[3/4,0],[0,1/4]])\n",
    "B = qml.PauliY(0)\n",
    "\n",
    "print(\"State: [[3/4,0],[0,1/4]], Observable: {}\".format(qml.matrix(B)))\n",
    "print(\"Measurement probabilities {}\".format(mixed_probs_circuit(rho,B))) \n"
   ]
  },
  {
   "cell_type": "markdown",
   "metadata": {},
   "source": [
    "## N.2.3a"
   ]
  },
  {
   "cell_type": "code",
   "execution_count": null,
   "metadata": {},
   "outputs": [],
   "source": [
    "def mixed_expval(rho, B):\n",
    "\n",
    "    \"\"\"\n",
    "    Returns the expectation value of the observable B on state rho\n",
    "\n",
    "    Args: \n",
    "        rho (np.array(array(float)): A numpy matrix representing a density matrix\n",
    "        B (np.array(array(complex))): A numpy matrix representing an observable\n",
    "\n",
    "    Returns:\n",
    "        float: The expectation value as required\n",
    "    \"\"\"\n",
    "\n",
    "    ##################\n",
    "    # YOUR CODE HERE #\n",
    "    ##################\n",
    "    \n",
    "    return np.trace(rho @ B)\n",
    "\n",
    "rho = np.array([[3/4,0],[0,1/4]])\n",
    "B = qml.matrix(qml.PauliZ(0))\n",
    "\n",
    "print(\"State: {}\".format(rho))\n",
    "print(\"Observable: {}\".format(B))\n",
    "print(\"Expectation value: {}\".format(mixed_expval(rho,B)))\n"
   ]
  },
  {
   "cell_type": "markdown",
   "metadata": {},
   "source": [
    "## N.2.3b"
   ]
  },
  {
   "cell_type": "code",
   "execution_count": null,
   "metadata": {},
   "outputs": [],
   "source": [
    "dev = qml.device('default.mixed', wires = 1)\n",
    "\n",
    "@qml.qnode(dev)\n",
    "def expval_circuit(rho,obs):\n",
    "\n",
    "    \"\"\"\n",
    "    Returns the expectation value of the observable obs on state rho\n",
    "\n",
    "    Args: \n",
    "        rho (np.array(array(float)): A numpy matrix representing a density matrix\n",
    "        B (pennylane.operation): A pennylane observable\n",
    "\n",
    "    Returns:\n",
    "        np.tensor: A numpy tensor with the expectation value as required\n",
    "    \"\"\"\n",
    "\n",
    "    ##################\n",
    "    # YOUR CODE HERE #\n",
    "    ##################\n",
    "    qml.QubitDensityMatrix(rho, wires=0)\n",
    "    return qml.expval(obs)\n",
    "\n",
    "rho = np.array([[3/4,0],[0,1/4]])\n",
    "B = qml.PauliZ(0)\n",
    "\n",
    "print(\"State: {}\".format(rho))\n",
    "print(\"Observable: {}\".format(qml.matrix(B)))\n",
    "print(\"Expectation value: {}\".format(expval_circuit(rho,B)))\n"
   ]
  }
 ],
 "metadata": {
  "kernelspec": {
   "display_name": "pennylane",
   "language": "python",
   "name": "python3"
  },
  "language_info": {
   "name": "python",
   "version": "3.12.7"
  }
 },
 "nbformat": 4,
 "nbformat_minor": 2
}
