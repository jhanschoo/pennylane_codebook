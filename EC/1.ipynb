{
 "cells": [
  {
   "cell_type": "markdown",
   "metadata": {},
   "source": [
    "## E.1.1"
   ]
  },
  {
   "cell_type": "code",
   "execution_count": null,
   "metadata": {},
   "outputs": [],
   "source": [
    "def encode(b):\n",
    "    \"\"\"Returns three copes of Alice's bit b.\n",
    "    \n",
    "    Args:\n",
    "        b (int): Alice's bit she wants to send to Bob. Can be 0 or 1. \n",
    "         \n",
    "    Returns: \n",
    "        list(int): [b, b, b]\n",
    "    \"\"\"\n",
    "    return [b, b, b]\n",
    "\n",
    "def noisy_channel(b, p):\n",
    "    \"\"\"Returns a three-bit codeword message that Bob receives through a noisy channel.\n",
    "    \n",
    "    Args:\n",
    "        b (int): Alice's bit she wants to send to Bob. Can be 0 or 1. \n",
    "        p (float): The probability that a bit is flipped. \n",
    "         \n",
    "    Returns: \n",
    "        list(int): The three-bit codeword that Bob receives. It might be different\n",
    "        than what Alice intended to send!\n",
    "    \"\"\"\n",
    "    alice_sends = encode(b) # Alice sends this to Bob\n",
    "    ##################\n",
    "    # YOUR CODE HERE #\n",
    "    ##################\n",
    "    noise = np.random.choice([0, 1], size=3, p=[1-p, p])\n",
    "    \n",
    "    return [ alice_sends[i] ^ noise[i] for i in range(3) ]\n"
   ]
  },
  {
   "cell_type": "markdown",
   "metadata": {},
   "source": [
    "## E.1.2"
   ]
  },
  {
   "cell_type": "code",
   "execution_count": null,
   "metadata": {},
   "outputs": [],
   "source": [
    "def decode(codeword):\n",
    "    \"\"\"Executes Bob's decoding procedure.\n",
    "\n",
    "    Args:\n",
    "        codeword (list(int)): The message Bob receives (a 3-bit string). \n",
    "\n",
    "    Returns:\n",
    "        (int): A 0 or 1 — Bob's guess at what Alice's bit was.\n",
    "    \"\"\"\n",
    "    ##################\n",
    "    # YOUR CODE HERE #\n",
    "    ##################\n",
    "    if sum(codeword) > 1:\n",
    "        return 1\n",
    "    else:\n",
    "        return 0\n",
    "\n",
    "def success(b, codeword):\n",
    "    \"\"\"Determines if Bob's decoding procedure is successful.\n",
    "\n",
    "    Args:\n",
    "        b (int): Alice's bit she sent to Bob. Can be 0 or 1. \n",
    "        codeword (list(int)): The message Bob receives (a 3-bit string). \n",
    "         \n",
    "    Returns: \n",
    "        (bool): True/False if Bob decodes correctly/incorrectly.\n",
    "    \"\"\"\n",
    "    ##################\n",
    "    # YOUR CODE HERE #\n",
    "    ##################\n",
    "    return b == decode(codeword)\n"
   ]
  },
  {
   "cell_type": "markdown",
   "metadata": {},
   "source": [
    "## E.1.3"
   ]
  },
  {
   "cell_type": "code",
   "execution_count": null,
   "metadata": {},
   "outputs": [],
   "source": [
    "######################################\n",
    "# PRESS SUBMIT TO SEE A MAGICAL PLOT #\n",
    "######################################\n",
    "\n"
   ]
  }
 ],
 "metadata": {
  "kernelspec": {
   "display_name": "pennylane",
   "language": "python",
   "name": "python3"
  },
  "language_info": {
   "name": "python",
   "version": "3.9.21"
  }
 },
 "nbformat": 4,
 "nbformat_minor": 2
}
