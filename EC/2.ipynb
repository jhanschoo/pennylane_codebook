{
 "cells": [
  {
   "cell_type": "markdown",
   "metadata": {},
   "source": [
    "## E.2.1"
   ]
  },
  {
   "cell_type": "code",
   "execution_count": null,
   "metadata": {},
   "outputs": [],
   "source": [
    "dev = qml.device(\"default.mixed\", wires=3)\n",
    "\n",
    "@qml.qnode(dev)\n",
    "def bitflip_code_expval(p):\n",
    "    \"\"\"A circuit that uses two auxiliary qubits to encode the message of the first qubit, puts them through a simple noisy channel with a chance of a bit-flip error occuring, then decodes it and measures the expectation value of the original message.\n",
    "    \n",
    "    Args:\n",
    "        p (float): Probability of one bit-flip error occuring in the noisy channel for each wire.\n",
    "\n",
    "    Returns: \n",
    "        (float): Expectation value of the message qubit.\n",
    "    \"\"\"\n",
    "    # Using two auxiliary qubits on wires 1 and 2, encode the message on wire 0 into a logical qubit\n",
    "    ##################\n",
    "    # YOUR CODE HERE #\n",
    "    ##################\n",
    "    qml.CNOT(wires=[0, 1])\n",
    "    qml.CNOT(wires=[0, 2])\n",
    "    \n",
    "    # Put all wires through a noisy channel, where each wire has a probability p that a bit-flip error will occur\n",
    "    qml.BitFlip(p, wires=0)\n",
    "    qml.BitFlip(p, wires=1)\n",
    "    qml.BitFlip(p, wires=2)\n",
    "    \n",
    "    # Decode the message after the noisy channel\n",
    "    ##################\n",
    "    # YOUR CODE HERE #\n",
    "    ##################\n",
    "    qml.CNOT(wires=[0, 1])\n",
    "    qml.CNOT(wires=[0, 2])\n",
    "    qml.Toffoli(wires=[1, 2, 0])\n",
    "    \n",
    "    # Measure the expectation value of the message\n",
    "    return qml.expval(qml.PauliZ([0]))\n"
   ]
  },
  {
   "cell_type": "markdown",
   "metadata": {},
   "source": [
    "## E.2.2"
   ]
  },
  {
   "cell_type": "code",
   "execution_count": null,
   "metadata": {},
   "outputs": [],
   "source": [
    "dev = qml.device(\"default.mixed\", wires=3)\n",
    "\n",
    "@qml.qnode(dev)\n",
    "def phaseflip_code_expval(p):\n",
    "    \"\"\"A circuit that uses two auxiliary qubits to encode the message of the first qubit, puts them through a simple noisy channel with a chance of a bit-flip error occurring, then decodes it and measures the expectation value of the original message.\n",
    "    \n",
    "    Args:\n",
    "        p (float): Probability of one bit-flip error occurring in the noisy channel for each wire.\n",
    "\n",
    "    Returns: \n",
    "        (float): Expectation value of the message qubit.\n",
    "    \"\"\"\n",
    "    # Encode the message on wire 0 into a logical qubit, and transform it into the Hadamard basis\n",
    "    ##################\n",
    "    # YOUR CODE HERE #\n",
    "    ##################\n",
    "    qml.CNOT(wires=[0, 1])\n",
    "    qml.CNOT(wires=[0, 2])\n",
    "    for i in range(3):\n",
    "        qml.Hadamard(wires=i)\n",
    "    \n",
    "    # Transform the logical qubit into the Hadamard basis, put all wires through a noisy channel where each wire has a probability p that a phase-flip error will occur, then transform the result back into the computational basis.\n",
    "    qml.PhaseFlip(p, wires=0)\n",
    "    qml.PhaseFlip(p, wires=1)\n",
    "    qml.PhaseFlip(p, wires=2)\n",
    "    \n",
    "    # Decode the message after the noisy channel and transform it back into the computational basis\n",
    "    ##################\n",
    "    # YOUR CODE HERE #\n",
    "    ##################\n",
    "    for i in range(3):\n",
    "        qml.Hadamard(wires=i)\n",
    "    qml.CNOT(wires=[0, 1])\n",
    "    qml.CNOT(wires=[0, 2])\n",
    "    qml.Toffoli(wires=[1, 2, 0])\n",
    "    \n",
    "    # Measure the expectation value of the message\n",
    "    return qml.expval(qml.PauliZ([0]))\n"
   ]
  },
  {
   "cell_type": "markdown",
   "metadata": {},
   "source": [
    "## E.2.3"
   ]
  },
  {
   "cell_type": "code",
   "execution_count": null,
   "metadata": {},
   "outputs": [],
   "source": [
    "def largest_p():\n",
    "    # Range of bit-flip error probability\n",
    "    probability_range = np.arange(0.0, 0.5, 0.01)\n",
    "    # Initialize the array of function values\n",
    "    expvals = []\n",
    "    # Calculate function values for the circuit and append them to the list\n",
    "    for prob in probability_range:\n",
    "        expvals.append(bitflip_code_expval(prob))\n",
    "\n",
    "    # Find out what the largest p is for which the expectation value of the message stays above 0.9\n",
    "    ##################\n",
    "    # YOUR CODE HERE #\n",
    "    ##################\n",
    "    i_0_9_expval = 0\n",
    "    for i, expval in enumerate(expvals):\n",
    "        if expval > 0.9:\n",
    "            i_0_9_expval = i\n",
    "    result = probability_range[i_0_9_expval]\n",
    "    return result\n",
    "\n"
   ]
  },
  {
   "cell_type": "markdown",
   "metadata": {},
   "source": [
    "## E.2.4"
   ]
  },
  {
   "cell_type": "code",
   "execution_count": null,
   "metadata": {},
   "outputs": [],
   "source": [
    "n = 3\n",
    "dev = qml.device(\"default.mixed\", wires=3)\n",
    "\n",
    "@qml.qnode(dev)\n",
    "def multi_bitflip_code_expval(p, n):\n",
    "    \"\"\"A circuit that uses two auxiliary qubits to encode the message of the first qubit, puts them through a noisy channel with three opportunities for a bit-flip error occuring on each of the wires, then decodes it and measures the expectation value of the original message.\n",
    "    \n",
    "    Args:\n",
    "        p (float): Probability of one bit-flip error occuring in the noisy channel for each wire.\n",
    "\n",
    "    Returns: \n",
    "        (float): Expectation value of the message qubit.\n",
    "    \"\"\"\n",
    "    # Using two auxiliary qubits on wires 1 and 2, encode the message on wire 0 into a logical qubit\n",
    "    qml.CNOT(wires=[0,1])\n",
    "    qml.CNOT(wires=[0,2])\n",
    "    \n",
    "    # Put all wires through a noisy channel, where each wire has a probability p that a bit-flip error will occur\n",
    "    # This probability occurs three times in a row\n",
    "    ##################\n",
    "    # YOUR CODE HERE #\n",
    "    ##################\n",
    "    for _ in range(n):\n",
    "        qml.BitFlip(p, wires=0)\n",
    "        qml.BitFlip(p, wires=1)\n",
    "        qml.BitFlip(p, wires=2)\n",
    "    \n",
    "    # Decode the message after the noisy channel\n",
    "    qml.CNOT(wires=[0,1])\n",
    "    qml.CNOT(wires=[0,2])\n",
    "    qml.Toffoli(wires=[1,2,0])\n",
    "    \n",
    "    # Measure the expectation value of the message\n",
    "    return qml.expval(qml.PauliZ([0]))\n",
    "\n"
   ]
  }
 ],
 "metadata": {
  "kernelspec": {
   "display_name": "pennylane",
   "language": "python",
   "name": "python3"
  },
  "language_info": {
   "name": "python",
   "version": "3.9.21"
  }
 },
 "nbformat": 4,
 "nbformat_minor": 2
}
