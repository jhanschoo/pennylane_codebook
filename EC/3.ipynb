{
 "cells": [
  {
   "cell_type": "markdown",
   "metadata": {},
   "source": [
    "## E.3.1"
   ]
  },
  {
   "cell_type": "code",
   "execution_count": null,
   "metadata": {},
   "outputs": [],
   "source": [
    "# Create a Z error on qubit 4\n",
    "z_error_4 = error(error_type='Z', wires=[4])\n",
    "\n",
    "# Create a YX error on qubits 8 and 0\n",
    "yx_error_80 = error(error_type=\"YX\", wires=[8, 0])\n",
    "\n",
    "# Create a XXZZYY error on qubits 1, 2, 3, 4, 5, and 0.\n",
    "xxzzyy_error_123450 = error(error_type=\"XXZZYY\", wires=[1, 2, 3, 4, 5, 0])\n"
   ]
  },
  {
   "cell_type": "markdown",
   "metadata": {},
   "source": [
    "## E.3.2"
   ]
  },
  {
   "cell_type": "code",
   "execution_count": null,
   "metadata": {},
   "outputs": [],
   "source": [
    "dev = qml.device(\"default.qubit\", wires=9)\n",
    "\n",
    "@qml.qnode(dev)\n",
    "def shor(state, error_type, wires):\n",
    "    \"\"\"A quantum circuit that implements Shor's 9-qubit code\n",
    "    \n",
    "    Args:\n",
    "        state (tensor): a numpy array representing a 1-qubit state: alpha |0> + beta |1>\n",
    "                        This is used to initialize the 0th wire with qml.StatePrep\n",
    "        error_type (str): for example, XX, YY, XZ, YZ.\n",
    "        wires (list(int)): the wires the error acts on.\n",
    "    \n",
    "    Returns:\n",
    "        (tuple(tensor, tensor)): the separate probability distributions over the 0th wire (|psi>)\n",
    "        and all 8 ancillary qubits in that order.\n",
    "    \"\"\"\n",
    "\n",
    "    ##################\n",
    "    # YOUR CODE HERE #\n",
    "    ##################\n",
    "    bs = 3\n",
    "    # phase-entanglement code\n",
    "    qml.CNOT(wires=[0, 1 * bs])\n",
    "    qml.CNOT(wires=[0, 2 * bs])\n",
    "    # bit-flip-entanglement code\n",
    "    for bi in range(3):\n",
    "        qml.Hadamard(wires=bi * bs)\n",
    "        qml.CNOT(wires=[bi * bs, bi * bs + 1])\n",
    "        qml.CNOT(wires=[bi * bs, bi * bs + 2])\n",
    "    \n",
    "    # apply the error\n",
    "    for err in error(error_type=error_type, wires=wires):\n",
    "        err\n",
    "\n",
    "    ##################\n",
    "    # YOUR CODE HERE #\n",
    "    ##################\n",
    "    for bi in range(3):\n",
    "        qml.CNOT(wires=[bi * bs, bi * bs + 1])\n",
    "        qml.CNOT(wires=[bi * bs, bi * bs + 2])\n",
    "        qml.Toffoli(wires=[bi * bs + 1, bi * bs + 2, bi * bs])\n",
    "        qml.Hadamard(wires=bi * bs)\n",
    "    qml.CNOT(wires=[0, 1 * bs])\n",
    "    qml.CNOT(wires=[0, 2 * bs])\n",
    "    qml.Toffoli(wires=[1 * bs, 2 * bs, 0])\n",
    "\n",
    "    return qml.probs(wires=0), qml.probs(wires=range(1, 9))\n"
   ]
  },
  {
   "cell_type": "markdown",
   "metadata": {},
   "source": [
    "## E.3.3"
   ]
  },
  {
   "cell_type": "code",
   "execution_count": null,
   "metadata": {},
   "outputs": [],
   "source": [
    "def decoded(state, error_type, wires):\n",
    "    \"\"\"Tells us whether the state was decoded by Shor's code\n",
    "    \n",
    "    Args:\n",
    "        state (tensor): a numpy array representing a 1-qubit state: alpha |0> + beta |1>\n",
    "        error_type (str): for example, XX, YY, XZ, YZ.\n",
    "        wires (list(int)): the wires the error acts on.\n",
    "    \n",
    "    Returns:\n",
    "        (bool): True if state is decoded successfully, False if not. \n",
    "    \"\"\"\n",
    "    ##################\n",
    "    # YOUR CODE HERE #\n",
    "    ##################\n",
    "    prob0 = shor(state, error_type, wires)[0]\n",
    "\n",
    "    return np.allclose(state * np.conj(state).T, prob0)\n",
    "\n",
    "state = random_state()\n",
    "\n",
    "single_qubit_errors = [[\"X\", [i]] for i in range(9)]\n",
    "single_qubit_errors += [[\"Y\", [i]] for i in range(9)]\n",
    "single_qubit_errors += [[\"Z\", [i]] for i in range(9)]\n",
    "\n",
    "decoded_list = []\n",
    "\n",
    "for err in single_qubit_errors:\n",
    "    decoded_list.append(decoded(state, *err))\n",
    "\n",
    "print(decoded_list)\n"
   ]
  },
  {
   "cell_type": "markdown",
   "metadata": {},
   "source": [
    "## E.3.4"
   ]
  },
  {
   "cell_type": "code",
   "execution_count": null,
   "metadata": {},
   "outputs": [],
   "source": [
    "def find_the_one(syndrome):\n",
    "    \"\"\"Finds the entry in the error syndrome that is equal to 1.\n",
    "\n",
    "    Args:\n",
    "        syndrome (tensor): The second output of the shor function — qml.probs(wires=range(1, 9))\n",
    "\n",
    "    Returns:\n",
    "        (int): the index of the syndrome vector that is equal to 1. For example, \n",
    "        if syndrome = [0, 0, 1, 0], then this function would return 2.\n",
    "    \"\"\"\n",
    "    ##################\n",
    "    # YOUR CODE HERE #\n",
    "    ##################\n",
    "    return syndrome.nonzero()[0]\n"
   ]
  },
  {
   "cell_type": "markdown",
   "metadata": {},
   "source": [
    "## E.3.5"
   ]
  },
  {
   "cell_type": "code",
   "execution_count": null,
   "metadata": {},
   "outputs": [],
   "source": [
    "single_qubit_errors = [[\"X\", [i]] for i in range(9)]\n",
    "single_qubit_errors += [[\"Y\", [i]] for i in range(9)]\n",
    "single_qubit_errors += [[\"Z\", [i]] for i in range(9)]\n",
    "\n",
    "all_syndromes = []\n",
    "unique_syndromes = []\n",
    "degenerate_syndromes = {}\n",
    "\n",
    "state = random_state()\n",
    "\n",
    "for err in single_qubit_errors:\n",
    "    ind = find_the_one(shor(state, *err)[1])\n",
    "\n",
    "    if ind in unique_syndromes: \n",
    "        # find other error that gave the same syndrome\n",
    "        other_ind = np.where(np.array(all_syndromes) == ind)[0].item()\n",
    "        unique_syndromes.remove(ind) # remove it from the unique syndromes\n",
    "        degenerate_syndromes[ind] = [single_qubit_errors[other_ind], err]\n",
    "    \n",
    "    elif ind in degenerate_syndromes.keys(): \n",
    "        degenerate_syndromes[ind].append(err)\n",
    "\n",
    "    else:\n",
    "        unique_syndromes.append(ind)\n",
    "\n",
    "    all_syndromes.append(ind)\n",
    "\n",
    "################\n",
    "# PRESS SUBMIT #\n",
    "################\n",
    "\n",
    "print(degenerate_syndromes)\n",
    "\n",
    "# {36: [['Z', [0]], ['Z', [1]], ['Z', [2]]], 32: [['Z', [3]], ['Z', [4]], ['Z', [5]]], 4: [['Z', [6]], ['Z', [7]], ['Z', [8]]]}"
   ]
  },
  {
   "cell_type": "markdown",
   "metadata": {},
   "source": [
    "## E.3.6"
   ]
  },
  {
   "cell_type": "code",
   "execution_count": null,
   "metadata": {},
   "outputs": [],
   "source": [
    "state = random_state()\n",
    "\n",
    "xxzz_error_0458 = [\"XXZZ\", [0, 4, 5, 8]]\n",
    "xxyyzz_error_371820 = [\"XXYYZZ\", [3, 7, 1, 8, 2, 0]]\n",
    "xyzxyzxyz_error_012345678 = [\"XYZXYZXYZ\", [0, 1, 2, 3, 4, 5, 6, 7, 8]]\n",
    "\n",
    "errors = [xxzz_error_0458, xxyyzz_error_371820, xyzxyzxyz_error_012345678]\n",
    "\n",
    "decoded_list = []\n",
    "\n",
    "for err in errors:\n",
    "    decoded_list.append(decoded(state, *err))\n",
    "\n",
    "print(decoded_list)\n"
   ]
  }
 ],
 "metadata": {
  "kernelspec": {
   "display_name": "pennylane",
   "language": "python",
   "name": "python3"
  },
  "language_info": {
   "name": "python",
   "version": "3.12.7"
  }
 },
 "nbformat": 4,
 "nbformat_minor": 2
}
