{
 "cells": [
  {
   "cell_type": "markdown",
   "metadata": {},
   "source": [
    "## HS.3.1a"
   ]
  },
  {
   "cell_type": "code",
   "execution_count": null,
   "metadata": {},
   "outputs": [],
   "source": [
    "def reflection_matrix(main_wires, aux_wires):\n",
    "    \"\"\"\n",
    "    Builds the reflection matrix needed for qubitization.\n",
    "\n",
    "    Args:\n",
    "    - main_wires (list(int)): The wires that make up the main register.\n",
    "    - aux_wires (list(int)): The wires that make up the auxiliary register.\n",
    "    \"\"\"\n",
    "    \n",
    "    ####################\n",
    "    ###YOUR CODE HERE###\n",
    "    ####################\n",
    "    \n",
    "    # na = len(aux_wires)\n",
    "    # nm = len(main_wires)\n",
    "    # nsa, nsm = 2**na, 2**nm\n",
    "    # aux_pos = np.zeros((nsa, nsa))\n",
    "    # aux_pos[0][0] = 2\n",
    "    # pos = np.kron(aux_pos, np.eye(nsm))\n",
    "    # neg = np.eye(nsa*nsm)\n",
    "\n",
    "    # return pos - neg\n",
    "\n",
    "    matrix = qml.matrix(2 * qml.Projector(state,aux_wires) @ qml.Identity(main_wires)  - qml.Identity(aux_wires + main_wires))\n",
    "\n",
    "    return matrix\n",
    "\n"
   ]
  },
  {
   "cell_type": "markdown",
   "metadata": {},
   "source": [
    "## HS.3.1b"
   ]
  },
  {
   "cell_type": "code",
   "execution_count": null,
   "metadata": {},
   "outputs": [],
   "source": [
    "dev = qml.device(\"default.qubit\")\n",
    "\n",
    "@qml.qnode(dev)\n",
    "def my_qubitization(main_wires, aux_wires, state, hamiltonian):\n",
    "    \"\"\"\n",
    "    Using the reflection matrix in the previous exercise and the built-in \n",
    "    PrepSelPrep, this function implements the Qubitization routine to a \n",
    "    Hamiltonian. The initial state in the main register is also specified.\n",
    "\n",
    "    Args:\n",
    "    - main_wires (list(int)): The main register wires in the PrepSelPrep routine.\n",
    "    - aux_wires (list(int)): The auxiliary register wires in the PrepSelPrep routine.\n",
    "    - state (list(float)): The initial state in the main register.\n",
    "    - hamiltonian (pennylane.operator): The Hamiltonian operator that we want to encode.\n",
    "\n",
    "    Returns\n",
    "    - the output quantum state\n",
    "    \"\"\"\n",
    "\n",
    "\n",
    "    ####################\n",
    "    ###YOUR CODE HERE###\n",
    "    ####################\n",
    "    qml.StatePrep(state, wires=main_wires)\n",
    "    qml.QubitUnitary(reflection_matrix(main_wires, aux_wires), wires=(aux_wires + main_wires))\n",
    "    qml.PrepSelPrep(hamiltonian, aux_wires)\n",
    "\n",
    "    return qml.state()\n",
    "\n"
   ]
  },
  {
   "cell_type": "markdown",
   "metadata": {},
   "source": [
    "## HS.3.2a"
   ]
  },
  {
   "cell_type": "code",
   "execution_count": null,
   "metadata": {},
   "outputs": [],
   "source": [
    "H = qml.Hamiltonian([0.5, 0.125, 0.25], [qml.Z(0) @ qml.Z(1), qml.Z(0), qml.Z(1)])# Create the Hamiltonian here\n",
    "\n",
    "control_wires = [2, 3]\n",
    "estimation_wires = [4, 5, 6, 7, 8 ,9]\n",
    "\n",
    "dev = qml.device(\"default.qubit\")\n",
    "\n",
    "@qml.qnode(dev)\n",
    "def prep_sel_prep_qpe(state):\n",
    "    \"\"\"\n",
    "    Applies QPE to the PrepSelPrep encoding for the Hamiltonian H with some initial ground state\n",
    "\n",
    "    Args:\n",
    "    - state (list(float)): The initial state ground state candidate\n",
    "    Returns:\n",
    "    - np.ndarray(float): The output probabilities\n",
    "    \"\"\"\n",
    "\n",
    "    ####################\n",
    "    ###YOUR CODE HERE###\n",
    "    ####################\n",
    "    qml.StatePrep(np.array(state), wires=[0, 1])\n",
    "    PSP = qml.PrepSelPrep(H, control=control_wires)\n",
    "    qml.QuantumPhaseEstimation(PSP, estimation_wires=estimation_wires)\n",
    "\n",
    "    return qml.probs(wires=estimation_wires)\n",
    "\n",
    "# We know the matrix is diagonal, so the set of eigenstates is the computational basis\n",
    "results = [prep_sel_prep_qpe(state) for state in np.eye(4)]\n",
    "lambda_ = sum([abs(coeff) for coeff in H.terms()[0]])\n",
    "eigenvalues = [lambda_ * np.cos(2 * np.pi * np.argmax(result) / 2 ** (len(estimation_wires))) for result in results]\n",
    "\n",
    "# Print the eigenvalues\n",
    "print(\"E = \", eigenvalues)\n",
    "\n"
   ]
  },
  {
   "cell_type": "markdown",
   "metadata": {},
   "source": [
    "## HS.3.2b"
   ]
  },
  {
   "cell_type": "code",
   "execution_count": null,
   "metadata": {},
   "outputs": [],
   "source": [
    "H = qml.Hamiltonian([0.5, 0.125, 0.25], [qml.Z(0) @ qml.Z(1), qml.Z(0), qml.Z(1)])# Create the Hamiltonian here\n",
    "\n",
    "control_wires = [2, 3]\n",
    "estimation_wires = [4, 5, 6, 7, 8 ,9]\n",
    "\n",
    "dev = qml.device(\"default.qubit\")\n",
    "\n",
    "@qml.qnode(dev)\n",
    "def prep_sel_prep_qpe(state):\n",
    "    \"\"\"\n",
    "    Applies QPE to the Qubitization for the Hamiltonian H with some initial ground state\n",
    "\n",
    "    Args:\n",
    "    - state (list(float)): The initial state ground state candidate\n",
    "    Returns:\n",
    "    - np.ndarray(float): The output probabilities\n",
    "    \"\"\"\n",
    "\n",
    "    ####################\n",
    "    ###YOUR CODE HERE###\n",
    "    ####################\n",
    "    qml.StatePrep(np.array(state), wires=[0, 1])\n",
    "    Q = qml.Qubitization(H, control=control_wires)\n",
    "    qml.QuantumPhaseEstimation(Q, estimation_wires=estimation_wires)\n",
    "\n",
    "    return qml.probs(wires=estimation_wires)\n",
    "\n",
    "# We know the matrix is diagonal, so the set of eigenstates is the computational basis\n",
    "results = [prep_sel_prep_qpe(state) for state in np.eye(4)]\n",
    "lambda_ = sum([abs(coeff) for coeff in H.terms()[0]])\n",
    "eigenvalues = [lambda_ * np.cos(2 * np.pi * np.argmax(result) / 2 ** (len(estimation_wires))) for result in results]\n",
    "\n",
    "# Print the eigenvalues\n",
    "print(\"E = \", eigenvalues)\n"
   ]
  }
 ],
 "metadata": {
  "kernelspec": {
   "display_name": "pennylane",
   "language": "python",
   "name": "python3"
  },
  "language_info": {
   "name": "python",
   "version": "3.12.7"
  }
 },
 "nbformat": 4,
 "nbformat_minor": 2
}
