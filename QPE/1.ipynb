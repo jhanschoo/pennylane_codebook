{
 "cells": [
  {
   "cell_type": "code",
   "execution_count": 1,
   "metadata": {},
   "outputs": [],
   "source": [
    "import pennylane as qml\n",
    "from pennylane import numpy as np"
   ]
  },
  {
   "cell_type": "markdown",
   "metadata": {},
   "source": [
    "## P.1.1"
   ]
  },
  {
   "cell_type": "markdown",
   "metadata": {},
   "source": [
    "Concept: eigenvalues of a unitary matrix have magnitude 1\n",
    "\n",
    "Concept: eigenvectors of a unitary matrix are pairwise orthonormal\n",
    "\n",
    "Concept: phase kickback, in the case where target wires are eigenvectors of a controlled unitary, and the control wires are in a Hadamard superposition.\n",
    "\n",
    "Concept: after passing the control wire through Hadamard again, measuring the control wire will have a probability of being in $\\ket{1}$ depending on the eigenvalue of the eigenvector.\n",
    "\n",
    "Concept: `qml.ControlledQubitUnitary`, c.f. `qml.ctrl` and `qml.QubitUnitary`."
   ]
  },
  {
   "cell_type": "code",
   "execution_count": null,
   "metadata": {},
   "outputs": [],
   "source": [
    "dev = qml.device(\"default.qubit\", wires=2)\n",
    "\n",
    "@qml.qnode(dev)\n",
    "def guess_the_unitary(unitary):\n",
    "    \"\"\"Given a unitary that performs a Z or a -Z operation\n",
    "    on a qubit, guess which one it is.\n",
    "    \n",
    "    Args: \n",
    "        U (array[complex]): A unitary matrix, guaranteed to be either Z or -Z.\n",
    "    \n",
    "    Returns:\n",
    "        array [int]:  Probabilities on  on the first qubit\n",
    "        using qml.probs()\n",
    "    \"\"\"\n",
    "    ##################\n",
    "    # YOUR CODE HERE #\n",
    "    ##################\n",
    "    qml.Hadamard(wires=0)\n",
    "    qml.ControlledQubitUnitary(unitary, control_wires=0, wires=1)\n",
    "    qml.Hadamard(wires=0)\n",
    "\n",
    "# Z gate \n",
    "U = qml.PauliZ.compute_matrix() \n",
    "\n",
    "# -Z gate\n",
    "# U = (-1)*qml.PauliZ.compute_matrix()\n",
    "\n",
    "print(guess_the_unitary(U))\n"
   ]
  },
  {
   "cell_type": "markdown",
   "metadata": {},
   "source": [
    "## P.1.2"
   ]
  },
  {
   "cell_type": "code",
   "execution_count": null,
   "metadata": {},
   "outputs": [],
   "source": [
    "dev = qml.device(\"default.qubit\", wires=2)\n",
    "        \n",
    "@qml.qnode(dev)\n",
    "def phase_kickback_X(eigenvector):\n",
    "    \"\"\" Given an eigenvector of X, \n",
    "    apply the phase kickback circuit to observe \n",
    "    the probabilities on the control wire\n",
    "    \n",
    "    Args: \n",
    "        eigenvector(String): A string \"plus\" or \"minus\" depicting \n",
    "        the eigenvector of X\n",
    "    \n",
    "    Returns:\n",
    "        array[int]: Measurement outcome on the first qubit using qml.probs()\n",
    "    \"\"\"\n",
    "    # Prepare |ψ>\n",
    "    ##################\n",
    "    # YOUR CODE HERE #\n",
    "    ##################\n",
    "    if eigenvector == \"minus\":\n",
    "        qml.PauliX(wires=0)\n",
    "    qml.Hadamard(wires=1)\n",
    "    \n",
    "    \n",
    "    # Phase kickback\n",
    "    ##################\n",
    "    # YOUR CODE HERE #\n",
    "    ##################\n",
    "    qml.Hadamard(wires=0)\n",
    "    qml.CNOT(wires=[0, 1])\n",
    "    qml.Hadamard(wires=0)\n",
    " \n",
    "    return qml.probs(wires=[0])   \n",
    "\n",
    "print(phase_kickback_X(\"plus\"))\n",
    "print(phase_kickback_X(\"minus\"))\n",
    "\n",
    "# MODIFY EIGENVALUES BELOW \n",
    "eigenvalue_of_X_plus = 1\n",
    "eigenvalue_of_X_minus = -1\n"
   ]
  }
 ],
 "metadata": {
  "kernelspec": {
   "display_name": "pennylane",
   "language": "python",
   "name": "python3"
  },
  "language_info": {
   "codemirror_mode": {
    "name": "ipython",
    "version": 3
   },
   "file_extension": ".py",
   "mimetype": "text/x-python",
   "name": "python",
   "nbconvert_exporter": "python",
   "pygments_lexer": "ipython3",
   "version": "3.12.7"
  }
 },
 "nbformat": 4,
 "nbformat_minor": 2
}
