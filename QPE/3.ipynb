{
 "cells": [
  {
   "cell_type": "code",
   "execution_count": 1,
   "metadata": {},
   "outputs": [],
   "source": [
    "import pennylane as qml\n",
    "from pennylane import numpy as np"
   ]
  },
  {
   "cell_type": "markdown",
   "metadata": {},
   "source": [
    "## P.3.1"
   ]
  },
  {
   "cell_type": "code",
   "execution_count": null,
   "metadata": {},
   "outputs": [],
   "source": [
    "dev = qml.device(\"default.qubit\", wires=10)\n",
    "\n",
    "def fractional_binary_to_decimal(binary_fraction, wires):\n",
    "    return float(binary_fraction/ 2 ** len(wires))\n",
    "\n",
    "def phase_window(probs, estimation_wires):\n",
    "    \"\"\" Given an array of probabilities, return the phase window of the \n",
    "    unitary's eigenvalue\n",
    "    \n",
    "    Args: \n",
    "        probs (array[float]): Probabilities on the estimation wires.\n",
    "        estimation_wires (list[int]): List of estimation wires\n",
    "    \n",
    "    Returns:\n",
    "        (float, float): the lower and upper bound of the phase\n",
    "    \"\"\"\n",
    "\n",
    "    ##################\n",
    "    # YOUR CODE HERE #\n",
    "    ##################\n",
    "    n = len(estimation_wires)\n",
    "    am1 = np.argmax(probs)\n",
    "    m = probs[am1]\n",
    "    probs[am1] = 0\n",
    "    am2 = np.argmax(probs)\n",
    "    probs[am1] = m\n",
    "    bound_1 = fractional_binary_to_decimal(am1, estimation_wires) # MOST LIKELY OUTCOME\n",
    "    bound_2 = fractional_binary_to_decimal(am2, estimation_wires) # SECOND MOST LIKELY OUTCOME\n",
    "    return (bound_1, bound_2)\n",
    "\n",
    "\n",
    "# Test your solution\n",
    "\n",
    "# You can increase the number of estimation wires to a maximum of range(0, 9)\n",
    "estimation_wires = range(0, 3)\n",
    "\n",
    "# The target is set to the last qubit\n",
    "target_wires = [9]\n",
    "\n",
    "# Define the unitary\n",
    "U = np.array([[1, 0], [0, np.exp((2*np.pi*1j/7))]])\n",
    "\n",
    "probs = qpe(U, estimation_wires, target_wires)\n",
    "\n",
    "print(phase_window(probs, estimation_wires))\n",
    "\n",
    "# MODIFY TO TRUE AFTER TESTING YOUR SOLUTION\n",
    "done = True\n"
   ]
  },
  {
   "cell_type": "markdown",
   "metadata": {},
   "source": [
    "## P.3.2"
   ]
  },
  {
   "cell_type": "code",
   "execution_count": null,
   "metadata": {},
   "outputs": [],
   "source": [
    "dev = qml.device(\"default.qubit\", wires=10)\n",
    "\n",
    "def estimates_array(unitary):\n",
    "    \"\"\" Given a unitary, return a list of its phase windows\n",
    "    \n",
    "    Args: \n",
    "        unitary (array[complex]): A unitary matrix.\n",
    "    \n",
    "    Returns:\n",
    "        [(float, float)]: a list of phase windows for 2 to 9 \n",
    "        estimation wires\n",
    "    \"\"\"\n",
    "\n",
    "    estimates = []\n",
    "    target_wires = [9]\n",
    "\n",
    "    ##################\n",
    "    # YOUR CODE HERE #\n",
    "    ################## \n",
    "    for i in range(1, 9):\n",
    "        estimation_wires = range(i)\n",
    "        probs = qpe(unitary, estimation_wires, target_wires)\n",
    "        pw_unordered = phase_window(probs, estimation_wires)\n",
    "        pw = (min(pw_unordered), max(pw_unordered))\n",
    "        estimates.append(pw)\n",
    "\n",
    "    return estimates\n",
    "\n",
    "# Define the unitary\n",
    "U = np.array([[1, 0], [0, np.exp((2*np.pi*1j/7))]])\n",
    "\n",
    "estimates_array(U)\n",
    "\n",
    "###################\n",
    "# SUBMIT FOR PLOT #\n",
    "###################\n"
   ]
  }
 ],
 "metadata": {
  "kernelspec": {
   "display_name": "pennylane",
   "language": "python",
   "name": "python3"
  },
  "language_info": {
   "codemirror_mode": {
    "name": "ipython",
    "version": 3
   },
   "file_extension": ".py",
   "mimetype": "text/x-python",
   "name": "python",
   "nbconvert_exporter": "python",
   "pygments_lexer": "ipython3",
   "version": "3.12.7"
  }
 },
 "nbformat": 4,
 "nbformat_minor": 2
}
