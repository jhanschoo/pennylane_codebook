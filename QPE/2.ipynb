{
 "cells": [
  {
   "cell_type": "code",
   "execution_count": 1,
   "metadata": {},
   "outputs": [],
   "source": [
    "import pennylane as qml\n",
    "from pennylane import numpy as np"
   ]
  },
  {
   "cell_type": "markdown",
   "metadata": {},
   "source": [
    "## P.2.1"
   ]
  },
  {
   "cell_type": "markdown",
   "metadata": {},
   "source": [
    "Concept: using multiple control wires simultaneously to do simultaneous' measurement.\n",
    "\n",
    "Concept: suppose the unitary on the eigenvector in last section's phase estimation circuit resulted in a pure state in the control wire; the control wire being $\\ket{0}$ or $\\ket{1}$ at the end told us which eigenvalue that eigenvector corresponded to.\n",
    "\n",
    "Concept: to generalize to multiple control wires, the Hadamard on one control wire is generalized to the adjoint QFT on multiple control wires. In this setup, we are able to talk about the control wire being set to $\\ket{x}$ where $x$ is a bit pattern in the number of control wires. Furthermore, we apply some power of the unitary instead on each estimation wire to extract the corresponding position in the bit pattern."
   ]
  },
  {
   "cell_type": "code",
   "execution_count": null,
   "metadata": {},
   "outputs": [],
   "source": [
    "def U_power_2k(unitary, k):\n",
    "    \"\"\" Computes U at a power of 2k (U^2^k)\n",
    "    \n",
    "    Args: \n",
    "        unitary (array[complex]): A unitary matrix\n",
    "    \n",
    "    Returns: \n",
    "        array[complex]: the unitary raised to the power of 2^k\n",
    "    \"\"\"\n",
    "    ##################\n",
    "    # YOUR CODE HERE #\n",
    "    ##################  \n",
    "    return np.linalg.matrix_power(unitary, 2**k)\n",
    "\n",
    "# Try out a higher power of U\n",
    "U = qml.T.compute_matrix()\n",
    "print(U)\n",
    "\n",
    "U_power_2k(U, 2)\n"
   ]
  },
  {
   "cell_type": "markdown",
   "metadata": {},
   "source": [
    "## P.2.2\n"
   ]
  },
  {
   "cell_type": "code",
   "execution_count": null,
   "metadata": {},
   "outputs": [],
   "source": [
    "estimation_wires = [0, 1, 2]\n",
    "target_wires = [3]\n",
    "\n",
    "def apply_controlled_powers_of_U(unitary):\n",
    "    \"\"\"A quantum function that applies the sequence of powers of U^2^k to\n",
    "    the estimation wires.\n",
    "    \n",
    "    Args: \n",
    "        unitary (array [complex]): A unitary matrix\n",
    "    \"\"\"\n",
    "\n",
    "    ##################\n",
    "    # YOUR CODE HERE #\n",
    "    ##################\n",
    "    for k in estimation_wires:\n",
    "        qml.ControlledQubitUnitary(U_power_2k(unitary, len(estimation_wires) - k - 1), control_wires=k, wires=target_wires)"
   ]
  },
  {
   "cell_type": "markdown",
   "metadata": {},
   "source": [
    "## P.2.3\n"
   ]
  },
  {
   "cell_type": "code",
   "execution_count": null,
   "metadata": {},
   "outputs": [],
   "source": [
    "dev = qml.device(\"default.qubit\", wires=4)\n",
    "\n",
    "estimation_wires = [0, 1, 2]\n",
    "target_wires = [3]\n",
    "\n",
    "def prepare_eigenvector():\n",
    "    qml.PauliX(wires=target_wires)\n",
    "\n",
    "@qml.qnode(dev)\n",
    "def qpe(unitary):\n",
    "    \"\"\" Estimate the phase for a given unitary.\n",
    "    \n",
    "    Args:\n",
    "        unitary (array[complex]): A unitary matrix.\n",
    "        \n",
    "    Returns:\n",
    "        array[float]: Measurement outcome probabilities on the estimation wires.\n",
    "    \"\"\"\n",
    "    ##################\n",
    "    # YOUR CODE HERE #\n",
    "    ################## \n",
    "    for wire in estimation_wires:\n",
    "        qml.Hadamard(wires=wire)\n",
    "    prepare_eigenvector()\n",
    "    apply_controlled_powers_of_U(unitary)\n",
    "    qml.adjoint(qml.QFT)(wires=estimation_wires)\n",
    "    return qml.probs(wires=estimation_wires)\n",
    "\n",
    "U = qml.T.compute_matrix()\n",
    "print(qpe(U))\n"
   ]
  },
  {
   "cell_type": "markdown",
   "metadata": {},
   "source": [
    "## P.2.4"
   ]
  },
  {
   "cell_type": "code",
   "execution_count": null,
   "metadata": {},
   "outputs": [],
   "source": [
    "estimation_wires = [0, 1, 2]\n",
    "target_wires = [3]\n",
    "\n",
    "def estimate_phase(probs):\n",
    "    \"\"\"Estimate the value of a phase given measurement outcome probabilities\n",
    "    of the QPE routine.\n",
    "    \n",
    "    Args: \n",
    "        probs (array[float]): Probabilities on the estimation wires.\n",
    "    \n",
    "    Returns:\n",
    "        float: the estimated phase   \n",
    "    \"\"\"\n",
    "    ##################\n",
    "    # YOUR CODE HERE #\n",
    "    ##################\n",
    "    return np.argmax(probs) / 2 ** len(estimation_wires)\n",
    "\n",
    "U = qml.T.compute_matrix()\n",
    "\n",
    "probs = qpe(U)\n",
    "\n",
    "\n",
    "estimated_phase = estimate_phase(probs)\n",
    "print(estimated_phase)\n"
   ]
  },
  {
   "cell_type": "markdown",
   "metadata": {},
   "source": [
    "## P.2.5"
   ]
  },
  {
   "cell_type": "code",
   "execution_count": null,
   "metadata": {},
   "outputs": [],
   "source": [
    "dev = qml.device(\"default.qubit\", wires=4)\n",
    "\n",
    "estimation_wires = [0, 1, 2]\n",
    "target_wires = [3]\n",
    "\n",
    "def prepare_eigenvector():\n",
    "    qml.PauliX(wires=target_wires)\n",
    "\n",
    "@qml.qnode(dev)\n",
    "def qpe(unitary):\n",
    "    \"\"\"Estimate the phase for a given unitary.\n",
    "    \n",
    "    Args:\n",
    "        unitary (array[complex]): A unitary matrix.\n",
    "        \n",
    "    Returns:\n",
    "        array[float]: Probabilities on the estimation wires.\n",
    "    \"\"\"\n",
    "    \n",
    "    prepare_eigenvector()\n",
    "    \n",
    "    ##################\n",
    "    # YOUR CODE HERE #\n",
    "    ##################\n",
    "    qml.QuantumPhaseEstimation(unitary, target_wires=target_wires, estimation_wires=estimation_wires)\n",
    "    return qml.probs(wires=estimation_wires)\n",
    "\n",
    "\n",
    "U = qml.T.compute_matrix()\n",
    "probs = qpe(U)\n",
    "print(estimate_phase(probs))\n"
   ]
  }
 ],
 "metadata": {
  "kernelspec": {
   "display_name": "pennylane",
   "language": "python",
   "name": "python3"
  },
  "language_info": {
   "codemirror_mode": {
    "name": "ipython",
    "version": 3
   },
   "file_extension": ".py",
   "mimetype": "text/x-python",
   "name": "python",
   "nbconvert_exporter": "python",
   "pygments_lexer": "ipython3",
   "version": "3.12.7"
  }
 },
 "nbformat": 4,
 "nbformat_minor": 2
}
