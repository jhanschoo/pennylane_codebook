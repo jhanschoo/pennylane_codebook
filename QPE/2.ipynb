{
 "cells": [
  {
   "cell_type": "code",
   "execution_count": 1,
   "metadata": {},
   "outputs": [],
   "source": [
    "import pennylane as qml\n",
    "from pennylane import numpy as np"
   ]
  },
  {
   "cell_type": "markdown",
   "metadata": {},
   "source": [
    "## P.2.1"
   ]
  },
  {
   "cell_type": "markdown",
   "metadata": {},
   "source": [
    "Concept: using multiple control wires simultaneously to do simultaneous' measurement.\n",
    "\n",
    "Concept: suppose the unitary on the eigenvector in last section's phase estimation circuit resulted in a pure state in the control wire; the control wire being $\\ket{0}$ or $\\ket{1}$ at the end told us which eigenvalue that eigenvector corresponded to.\n",
    "\n",
    "Concept: to generalize to multiple control wires, the Hadamard on one control wire is generalized to the adjoint QFT on multiple control wires. In this setup, we are able to talk about the control wire being set to $\\ket{x}$ where $x$ is a bit pattern in the number of control wires."
   ]
  },
  {
   "cell_type": "code",
   "execution_count": null,
   "metadata": {},
   "outputs": [],
   "source": [
    "def U_power_2k(unitary, k):\n",
    "    \"\"\" Computes U at a power of 2k (U^2^k)\n",
    "    \n",
    "    Args: \n",
    "        unitary (array[complex]): A unitary matrix\n",
    "    \n",
    "    Returns: \n",
    "        array[complex]: the unitary raised to the power of 2^k\n",
    "    \"\"\"\n",
    "    ##################\n",
    "    # YOUR CODE HERE #\n",
    "    ##################  \n",
    "    return np.linalg.matrix_power(unitary, 2**k)\n",
    "\n",
    "# Try out a higher power of U\n",
    "U = qml.T.compute_matrix()\n",
    "print(U)\n",
    "\n",
    "U_power_2k(U, 2)\n"
   ]
  },
  {
   "cell_type": "markdown",
   "metadata": {},
   "source": [
    "## P.2.2\n"
   ]
  },
  {
   "cell_type": "code",
   "execution_count": null,
   "metadata": {},
   "outputs": [],
   "source": [
    "estimation_wires = [0, 1, 2]\n",
    "target_wires = [3]\n",
    "\n",
    "def apply_controlled_powers_of_U(unitary):\n",
    "    \"\"\"A quantum function that applies the sequence of powers of U^2^k to\n",
    "    the estimation wires.\n",
    "    \n",
    "    Args: \n",
    "        unitary (array [complex]): A unitary matrix\n",
    "    \"\"\"\n",
    "\n",
    "    ##################\n",
    "    # YOUR CODE HERE #\n",
    "    ##################\n",
    "    t = len(estimation_wires)\n",
    "    for k in range(t):\n",
    "        qml.ControlledQubitUnitary(U_power_2k(unitary, t - k - 1), control_wires=estimation_wires[k], wires=target_wires)\n"
   ]
  }
 ],
 "metadata": {
  "kernelspec": {
   "display_name": "pennylane",
   "language": "python",
   "name": "python3"
  },
  "language_info": {
   "codemirror_mode": {
    "name": "ipython",
    "version": 3
   },
   "file_extension": ".py",
   "mimetype": "text/x-python",
   "name": "python",
   "nbconvert_exporter": "python",
   "pygments_lexer": "ipython3",
   "version": "3.12.7"
  }
 },
 "nbformat": 4,
 "nbformat_minor": 2
}
