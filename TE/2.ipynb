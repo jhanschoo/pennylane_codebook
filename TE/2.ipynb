{
 "cells": [
  {
   "cell_type": "code",
   "execution_count": null,
   "metadata": {},
   "outputs": [],
   "source": [
    "import pennylane as qml\n",
    "from pennylane import numpy as np"
   ]
  },
  {
   "cell_type": "markdown",
   "metadata": {},
   "source": [
    "## H.2.1"
   ]
  },
  {
   "cell_type": "code",
   "execution_count": null,
   "metadata": {},
   "outputs": [],
   "source": [
    "def unitary_check(operator):\n",
    "    \"\"\"Checks if a complex-valued matrix is unitary.\n",
    "    \n",
    "    Args:\n",
    "        operator (array[complex]): A square complex-valued array.\n",
    "        \n",
    "    Returns: \n",
    "        bool: Whether the matrix is unitary or not.\n",
    "    \"\"\"\n",
    "    ##################\n",
    "    # YOUR CODE HERE #\n",
    "    ##################\n",
    "    return np.allclose(np.identity(operator.shape[0]), np.conjugate(np.transpose(operator)) @ operator) # MODIFY THIS\n"
   ]
  },
  {
   "cell_type": "markdown",
   "metadata": {},
   "source": [
    "## H.2.2"
   ]
  },
  {
   "cell_type": "code",
   "execution_count": null,
   "metadata": {},
   "outputs": [],
   "source": [
    "n_bits = 1\n",
    "dev = qml.device(\"default.qubit\", wires=n_bits)\n",
    "\n",
    "@qml.qnode(dev)\n",
    "def unitary_circuit(operator):\n",
    "    \"\"\"Applies a matrix to the state if it is unitary and correctly sized.\n",
    "    \n",
    "    Args:\n",
    "        operator (array[complex]): A square complex-valued array.\n",
    "\n",
    "    Returns:\n",
    "        array[complex]: The state of the quantum system, after applying the\n",
    "        operator, if valid.\n",
    "    \"\"\"\n",
    "    ##################\n",
    "    # YOUR CODE HERE #\n",
    "    ##################\n",
    "    if unitary_check(operator) and operator.shape[0] == 2:\n",
    "        qml.QubitUnitary(operator, wires=0)\n",
    "\n",
    "    return qml.state()\n"
   ]
  }
 ],
 "metadata": {
  "kernelspec": {
   "display_name": "pennylane",
   "language": "python",
   "name": "python3"
  },
  "language_info": {
   "name": "python",
   "version": "3.12.7"
  }
 },
 "nbformat": 4,
 "nbformat_minor": 2
}
