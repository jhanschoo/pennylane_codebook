{
 "cells": [
  {
   "cell_type": "code",
   "execution_count": null,
   "metadata": {},
   "outputs": [],
   "source": [
    "import pennylane as qml\n",
    "from pennylane import numpy as np"
   ]
  },
  {
   "cell_type": "markdown",
   "metadata": {},
   "source": [
    "We shall consider the problem of simulating a closed quantum system (time-independent Hamiltonian). The Hamiltonian is a complete description of how the system evolves over time, being the linear operator that tells you the instantaneous change in a system given a state vector.\n",
    "\n",
    "A state vector is a vector of unit length.\n",
    "\n",
    "A change in a quantum state is represented as a unitary operator."
   ]
  },
  {
   "cell_type": "markdown",
   "metadata": {},
   "source": [
    "## H.2.1"
   ]
  },
  {
   "cell_type": "code",
   "execution_count": null,
   "metadata": {},
   "outputs": [],
   "source": [
    "def unitary_check(operator):\n",
    "    \"\"\"Checks if a complex-valued matrix is unitary.\n",
    "    \n",
    "    Args:\n",
    "        operator (array[complex]): A square complex-valued array.\n",
    "        \n",
    "    Returns: \n",
    "        bool: Whether the matrix is unitary or not.\n",
    "    \"\"\"\n",
    "    ##################\n",
    "    # YOUR CODE HERE #\n",
    "    ##################\n",
    "    return np.allclose(np.identity(operator.shape[0]), np.conj(operator).T @ operator) # MODIFY THIS\n"
   ]
  },
  {
   "cell_type": "markdown",
   "metadata": {},
   "source": [
    "## H.2.2"
   ]
  },
  {
   "cell_type": "code",
   "execution_count": null,
   "metadata": {},
   "outputs": [],
   "source": [
    "n_bits = 1\n",
    "dev = qml.device(\"default.qubit\", wires=n_bits)\n",
    "\n",
    "@qml.qnode(dev)\n",
    "def unitary_circuit(operator):\n",
    "    \"\"\"Applies a matrix to the state if it is unitary and correctly sized.\n",
    "    \n",
    "    Args:\n",
    "        operator (array[complex]): A square complex-valued array.\n",
    "\n",
    "    Returns:\n",
    "        array[complex]: The state of the quantum system, after applying the\n",
    "        operator, if valid.\n",
    "    \"\"\"\n",
    "    ##################\n",
    "    # YOUR CODE HERE #\n",
    "    ##################\n",
    "    if unitary_check(operator) and operator.shape[0] == 2:\n",
    "        qml.QubitUnitary(operator, wires=0)\n",
    "\n",
    "    return qml.state()\n"
   ]
  }
 ],
 "metadata": {
  "kernelspec": {
   "display_name": "pennylane",
   "language": "python",
   "name": "python3"
  },
  "language_info": {
   "name": "python",
   "version": "3.12.7"
  }
 },
 "nbformat": 4,
 "nbformat_minor": 2
}
