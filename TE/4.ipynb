{
 "cells": [
  {
   "cell_type": "code",
   "execution_count": null,
   "metadata": {},
   "outputs": [],
   "source": [
    "import pennylane as qml\n",
    "from pennylane import numpy as np"
   ]
  },
  {
   "cell_type": "markdown",
   "metadata": {},
   "source": [
    "## H.4.1a"
   ]
  },
  {
   "cell_type": "markdown",
   "metadata": {},
   "source": [
    "Concept: recall how to determine the eigenvalues and eigenspaces of a tensor product of linear operators from knowing the eigenvalues and eigenspaces of the component linear operators."
   ]
  },
  {
   "cell_type": "code",
   "execution_count": null,
   "metadata": {},
   "outputs": [],
   "source": [
    "n_bits = 2\n",
    "dev = qml.device(\"default.qubit\", wires=n_bits)\n",
    "\n",
    "@qml.qnode(dev)\n",
    "def zz_circuit(alpha, time, init):\n",
    "    \"\"\"Circuit for evolving two electrons with a ZZ interaction.\n",
    "    \n",
    "    Args:\n",
    "        alpha (float): The strength of the interaction.\n",
    "        time (float): The time we evolve the electron wavefunction for.\n",
    "        init (numpy.array(int)): An initial state specified by two bits [x, y]. Prepare the\n",
    "            system in this state prior to applying the time evolution circuit.\n",
    "\n",
    "    Returns: \n",
    "        array[float]: Probabilities for observing different outcomes.\n",
    "    \"\"\"\n",
    "\n",
    "    ##################\n",
    "    # YOUR CODE HERE #\n",
    "    ##################\n",
    "    qml.BasisState(init, wires=(0, 1))\n",
    "    qml.CNOT(wires=(0, 1))\n",
    "    qml.RZ(2 * alpha * time, wires=1)\n",
    "    qml.CNOT(wires=(0, 1))\n",
    "    \n",
    "    return qml.probs(wires=range(n_bits))\n"
   ]
  },
  {
   "cell_type": "markdown",
   "metadata": {},
   "source": [
    "## H.4.1b"
   ]
  },
  {
   "cell_type": "code",
   "execution_count": null,
   "metadata": {},
   "outputs": [],
   "source": [
    "n_bits = 2\n",
    "dev = qml.device(\"default.qubit\", wires=n_bits)\n",
    "\n",
    "@qml.qnode(dev)\n",
    "def ising_circuit(alpha, time, init):\n",
    "    \"\"\"Circuit for evolving two electrons with a ZZ interaction\n",
    "    using an Ising gate\n",
    "    \n",
    "    Args:\n",
    "        alpha (float): The strength of the interaction.\n",
    "        time (float): The time we evolve the electron wavefunction for.\n",
    "        init (numpy.array(int)): An initial state specified by two bits [x, y]. Prepare the\n",
    "            system in this state prior to applying the time evolution circuit.\n",
    "\n",
    "    Returns: \n",
    "        np.tensor: Output state.\n",
    "    \"\"\"\n",
    "    ##################\n",
    "    # YOUR CODE HERE #\n",
    "    ##################\n",
    "    qml.BasisState(init, wires=(0, 1))\n",
    "    qml.IsingZZ(2 * alpha * time, wires=(0, 1))\n",
    "    return qml.state()\n"
   ]
  },
  {
   "cell_type": "markdown",
   "metadata": {},
   "source": [
    "## H.4.1c"
   ]
  },
  {
   "cell_type": "code",
   "execution_count": null,
   "metadata": {},
   "outputs": [],
   "source": [
    "n_bits = 2\n",
    "dev = qml.device(\"default.qubit\", wires=n_bits)\n",
    "\n",
    "@qml.qnode(dev)\n",
    "def ZZ_evolve(alpha, time, init):\n",
    "    \"\"\"Circuit for evolving two electrons with a ZZ interaction\n",
    "    using qml.evolve\n",
    "    \n",
    "    Args:\n",
    "        alpha (float): The strength of the interaction.\n",
    "        time (float): The time we evolve the electron wave function for.\n",
    "        init (numpy.array(int)): An initial state specified by two bits [x, y]. Prepare the\n",
    "            system in this state prior to applying the time evolution circuit.\n",
    "\n",
    "    Returns: \n",
    "        np.tensor: Output state.\n",
    "    \"\"\"\n",
    "    ##################\n",
    "    # YOUR CODE HERE #\n",
    "    ##################\n",
    "    qml.BasisState(init, wires=(0, 1))\n",
    "    qml.evolve(alpha * qml.Z(0) @ qml.Z(1), time)\n",
    "    return qml.state()\n"
   ]
  },
  {
   "cell_type": "markdown",
   "metadata": {},
   "source": [
    "## H.4.2a"
   ]
  },
  {
   "cell_type": "code",
   "execution_count": null,
   "metadata": {},
   "outputs": [],
   "source": [
    "n_bits = 5\n",
    "dev = qml.device(\"default.qubit\", wires=n_bits)\n",
    "    \n",
    "##################\n",
    "# YOUR CODE HERE #\n",
    "##################\n",
    "coeffs = [1, 1, 1, 1] # MODIFY THIS\n",
    "obs = [qml.Z(0) @ qml.Z(1), qml.Z(1) @ qml.Z(2), qml.Z(1) @ qml.Z(3), qml.Z(3) @ qml.Z(4)] # MODIFY THIS\n",
    "H = qml.dot(coeffs, obs)\n",
    "\n",
    "@qml.qnode(dev)\n",
    "def energy(init):\n",
    "    \"\"\"Circuit for measuring expectation value of Hamiltonian in a given state.\n",
    "    \n",
    "    Args:\n",
    "        init (numpy.array(int)): An initial computational basis state, specified by five bits.\n",
    "\n",
    "    Returns: \n",
    "        float: Expectation value of the Hamiltonian H.\n",
    "    \"\"\"\n",
    "    qml.BasisState(init, wires=range(n_bits))\n",
    "    return qml.expval(H)\n"
   ]
  },
  {
   "cell_type": "markdown",
   "metadata": {},
   "source": [
    "## H.4.2b"
   ]
  },
  {
   "cell_type": "code",
   "execution_count": null,
   "metadata": {},
   "outputs": [],
   "source": [
    "my_guess1 = np.array([0,1,0,0,1]) # MODIFY THIS\n",
    "my_guess2 = np.array([1,0,1,1,0]) # MODIFY THIS\n",
    "\n",
    "print(\"The expected energy for\", my_guess1, \"is\", energy(my_guess1), \".\")\n",
    "print(\"The expected energy for\", my_guess2, \"is\", energy(my_guess2), \".\")\n"
   ]
  }
 ],
 "metadata": {
  "kernelspec": {
   "display_name": "pennylane",
   "language": "python",
   "name": "python3"
  },
  "language_info": {
   "name": "python",
   "version": "3.12.7"
  }
 },
 "nbformat": 4,
 "nbformat_minor": 2
}
