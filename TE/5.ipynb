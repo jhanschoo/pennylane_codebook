{
 "cells": [
  {
   "cell_type": "code",
   "execution_count": null,
   "metadata": {},
   "outputs": [],
   "source": [
    "import pennylane as qml\n",
    "from pennylane import numpy as np"
   ]
  },
  {
   "cell_type": "markdown",
   "metadata": {},
   "source": [
    "## H.5.1"
   ]
  },
  {
   "cell_type": "code",
   "execution_count": null,
   "metadata": {},
   "outputs": [],
   "source": [
    "n_bits=2\n",
    "dev = qml.device(\"default.qubit\", wires=range(n_bits))\n",
    "\n",
    "@qml.qnode(dev)\n",
    "def two_distant_spins(B, time):\n",
    "    \"\"\"Circuit for evolving the state of two distant electrons in a magnetic field.\n",
    "    \n",
    "    Args:\n",
    "        B (float): The strength of the field, assumed to point in the z direction.\n",
    "        time (float): The time we evolve the electron wavefunction for.\n",
    "\n",
    "    Returns: \n",
    "        array[complex]: The quantum state after evolution.\n",
    "    \"\"\"\n",
    "    e = 1.6e-19\n",
    "    m_e = 9.1e-31\n",
    "    alpha = B*e/(2*m_e)\n",
    "    ##################\n",
    "    # YOUR CODE HERE #\n",
    "    ##################\n",
    "    qml.RZ(-2 * alpha * time, wires=0)\n",
    "    qml.RZ(-2 * alpha * time, wires=1)\n",
    "    return qml.state()\n"
   ]
  },
  {
   "cell_type": "markdown",
   "metadata": {},
   "source": [
    "## H.5.2"
   ]
  },
  {
   "cell_type": "code",
   "execution_count": null,
   "metadata": {},
   "outputs": [],
   "source": [
    "n_bits=2\n",
    "dev = qml.device(\"default.qubit\", wires=range(n_bits))\n",
    "\n",
    "@qml.qnode(dev)\n",
    "def two_close_spins_X(alpha, beta, time, n):\n",
    "    \"\"\"Circuit for evolving the state of two electrons with an X coupling.\n",
    "    \n",
    "    Args:\n",
    "        beta (float): The strength of the field, assumed to point in the z direction.\n",
    "        alpha (float): The strength of the coupling between electrons.\n",
    "        time (float): The time we evolve the electron wavefunction for.\n",
    "        n (int): The number of steps in our Trotterization.\n",
    "\n",
    "    Returns: \n",
    "        array[complex]: The quantum state after evolution.\n",
    "    \"\"\"\n",
    "\n",
    "    ##################\n",
    "    # YOUR CODE HERE #\n",
    "    ##################\n",
    "    for _ in range(n):\n",
    "        qml.IsingXX(-2 * beta * time / n, wires=(0, 1))\n",
    "        qml.RZ(-2 * alpha * time / n, wires=1)\n",
    "        qml.RZ(-2 * alpha * time / n, wires=0)\n",
    "    return qml.state()\n"
   ]
  },
  {
   "cell_type": "markdown",
   "metadata": {},
   "source": [
    "## H.5.3"
   ]
  },
  {
   "cell_type": "code",
   "execution_count": null,
   "metadata": {},
   "outputs": [],
   "source": [
    "n_bits=2\n",
    "dev = qml.device(\"default.qubit\", wires=range(n_bits))\n",
    "\n",
    "def ham_close_spins(alpha, J):\n",
    "    \"\"\"Creates the Hamiltonian for two close spins.\n",
    "\n",
    "    Args:\n",
    "        B (float): The strength of the field, assumed to point in the z direction.\n",
    "        J (list[float]): A vector of couplings [J_X, J_Y, J_Z].\n",
    "\n",
    "    Returns:\n",
    "        qml.Hamiltonian: The Hamiltonian of the system.\n",
    "    \"\"\"\n",
    "\n",
    "    ##################\n",
    "    # YOUR CODE HERE #\n",
    "    ##################\n",
    "    coeffs = [-alpha, -alpha] + J # MODIFY THIS\n",
    "    obs = [qml.Z(0), qml.Z(1), qml.X(0) @ qml.X(1), qml.Y(0) @ qml.Y(1), qml.Z(0) @ qml.Z(1)] # MODIFY THIS\n",
    "    return qml.dot(coeffs, obs) # Return the Hamiltonian using qml.dot\n"
   ]
  },
  {
   "cell_type": "markdown",
   "metadata": {},
   "source": [
    "## H.5.4"
   ]
  },
  {
   "cell_type": "code",
   "execution_count": null,
   "metadata": {},
   "outputs": [],
   "source": [
    "n_bits = 2\n",
    "dev =qml.device(\"default.qubit\", wires = n_bits)\n",
    "\n",
    "@qml.qnode(dev)\n",
    "def two_close_spins(alpha, J, time, n):\n",
    "    \"\"\"Circuit for evolving state of two nearby electrons with an arbitrary coupling.\n",
    "    \n",
    "    Args:\n",
    "        alpha(float): The strength of the field, assumed to point in the z direction.\n",
    "        J (array[float]): The coupling strengths J = [J_X, J_Y, J_Z] between electrons.\n",
    "        time (float): The time we evolve the electron wavefunction for.\n",
    "        n (int): The number of steps in our Trotterization.\n",
    "\n",
    "    Returns: \n",
    "        array[complex]: The quantum state after evolution.\n",
    "    \"\"\"\n",
    "    ##################\n",
    "    # YOUR CODE HERE #\n",
    "    ##################\n",
    "    H = ham_close_spins(alpha, J)\n",
    "    qml.TrotterProduct(-H, time, n)\n",
    "    \n",
    "    return qml.state()\n",
    "\n"
   ]
  }
 ],
 "metadata": {
  "kernelspec": {
   "display_name": "pennylane",
   "language": "python",
   "name": "python3"
  },
  "language_info": {
   "name": "python",
   "version": "3.12.7"
  }
 },
 "nbformat": 4,
 "nbformat_minor": 2
}
