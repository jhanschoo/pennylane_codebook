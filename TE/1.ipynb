{
 "cells": [
  {
   "cell_type": "code",
   "execution_count": null,
   "metadata": {},
   "outputs": [],
   "source": [
    "import pennylane as qml\n",
    "from pennylane import numpy as np"
   ]
  },
  {
   "cell_type": "markdown",
   "metadata": {},
   "source": [
    "## H.1.1"
   ]
  },
  {
   "cell_type": "code",
   "execution_count": null,
   "metadata": {},
   "outputs": [],
   "source": [
    "input = [1, 1, 0] # MODIFY EXAMPLE\n",
    "output = secret_box(input)\n",
    "print(\"The result of applying the secret box to \", input, \"is \", output)\n",
    "# We will secretly apply the function and return the result!\n",
    "\n",
    "def deterministic_box(bits):\n",
    "    \"\"\"Guess the secret deterministic rule.\n",
    "    \n",
    "    Args:\n",
    "        bits (list[int]): A list of bits representing an initial condition.\n",
    "         \n",
    "    Returns: \n",
    "        list[int]: The output bits measured after deterministic evolution.\n",
    "    \"\"\"\n",
    "    ##################\n",
    "    # YOUR CODE HERE #\n",
    "    ##################\n",
    "    return bits[1:] + [bits[0]] # MODIFY THIS\n"
   ]
  },
  {
   "cell_type": "markdown",
   "metadata": {},
   "source": [
    "## H.1.2\n"
   ]
  },
  {
   "cell_type": "code",
   "execution_count": null,
   "metadata": {},
   "outputs": [],
   "source": [
    "p = [0, 0]\n",
    "trials = 1000  # INCREASE TRIALS TO IMPROVE APPROXIMATION\n",
    "for input in (0, 1):\n",
    "    for _ in range(trials):\n",
    "        p[input] += secret_box(input)\n",
    "    p[input] /= trials\n",
    "    print(\"On input\", input, \"the approximate probability distribution is\", p[input])\n",
    "# We will secretly apply the function and return the result!\n",
    "\n",
    "def random_box(bit):\n",
    "    \"\"\"Guess the secret random rule.\n",
    "    \n",
    "    Args:\n",
    "        bit (int): A bit representing the initial condition.\n",
    "         \n",
    "    Returns: \n",
    "        int: The output bit measured after random evolution.\n",
    "    \"\"\"\n",
    "    ##################\n",
    "    # YOUR CODE HERE #\n",
    "    ##################\n",
    "    return int(np.random.choice((0, 1), p=(.5, .5))) # MODIFY THIS\n"
   ]
  },
  {
   "cell_type": "markdown",
   "metadata": {},
   "source": [
    "## H.1.3"
   ]
  },
  {
   "cell_type": "code",
   "execution_count": null,
   "metadata": {},
   "outputs": [],
   "source": [
    "dev = qml.device(\"default.qubit\", wires=1)\n",
    "\n",
    "for reps in range(5):\n",
    "    for input in (0, 1):\n",
    "        output = quantum_box(input, reps)\n",
    "        print(\"The probability distribution after applying the secret box to \", input)\n",
    "        print(\"a total of \", reps, \"time(s) is \", output)\n",
    "# We will secretly apply the function and return the result!\n",
    "\n",
    "@qml.qnode(dev)\n",
    "def quantum_box(bit, reps):\n",
    "    \"\"\"Implements the secret quantum rule on a single (qu)bit.\n",
    "    \n",
    "    Args:\n",
    "        bit (int): A bit representing an initial condition.\n",
    "        reps (int): Number of times gate is repeated.\n",
    "\n",
    "    Returns:\n",
    "        list[float]: The output probability distribution.\n",
    "    \"\"\"\n",
    "    if bit == 1:\n",
    "        qml.PauliX(wires=0)\n",
    "    for _ in range(reps):\n",
    "        ##################\n",
    "        # YOUR CODE HERE #\n",
    "        ##################\n",
    "        qml.Hadamard(wires=0)\n",
    "    return qml.probs(wires=0)\n",
    "\n"
   ]
  }
 ],
 "metadata": {
  "kernelspec": {
   "display_name": "pennylane",
   "language": "python",
   "name": "python3"
  },
  "language_info": {
   "name": "python",
   "version": "3.9.21"
  }
 },
 "nbformat": 4,
 "nbformat_minor": 2
}
