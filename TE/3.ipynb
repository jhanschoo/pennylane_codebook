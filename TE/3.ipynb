{
 "cells": [
  {
   "cell_type": "code",
   "execution_count": null,
   "metadata": {},
   "outputs": [],
   "source": [
    "import pennylane as qml\n",
    "from pennylane import numpy as np"
   ]
  },
  {
   "cell_type": "markdown",
   "metadata": {},
   "source": [
    "Concept: In a classical magnetic field system involving an electron in a uniform magnetic field, we define the notion of **energy** as $E=-em_e^{-1}\\vec{B}\\cdot\\vec{S}$, where $e$ is the electron charge, $m_e$ is the mass of the electron, $\\vec{B}$ denotes the strength and direction of the magnetic field, and $\\vec{S}$ is the spin vector (direction in normal of spin, magnitude denoting intrinsic angular momentum).\n",
    "\n",
    "Hereon, assume that $\\vec{B}$ is aligned to the z-axis. Quantum mechanics has an analogous concept, the **Hamiltonian**, which is a Hermitian linear operator representing the instantaneous change of the system.\n",
    "\n",
    "In the classical equation above, $E=-em_e^{-1}B S_z$ is real-valued. Let us further restrict the space of this system to $|\\vec{S}| = 1$. Then to each $E\\in [-em_e^{-1},em_e^{-1}]$ and $B$ there exists a spin vector z-component $S_z\\in[-1,1]$ that gives that $E$. While it is not obvious in this setup, the idea is that $E$ is invariant over time-evolution of one instance of a system. Then $E$ is maximized in systems where $\\vec{B}$ and $\\vec{S}$ point in opposite directions, and minimized when they point in the same direction.\n",
    "\n",
    "In the quantum-mechanical analogue of the classical system, the spin vector indeed has constant magnitude (across all instances of the system). Furthermore, due to the observed phenomenon of quantization, when we make a measurement of any system, the energy of the system is either $+1$ or $-1$, corresponding to when the spin vector is aligned to the magnetic field vector, or opposite it.\n",
    "\n",
    "We represent this in the language of linear algebra as follows. Encode this energy as the eigevalues (not necessarily all distinct) of a linear operator; the linear operator in this particular system is then the Pauli $Z$ operator. Because \n",
    "\n",
    "Whereas in this case the eigenvalues are distinct, in general they need not be distinct; we call this phenomenon **degeneracy**. Of course, each eigenvalue corresponds to a distinct eigenstate, and there is a unique map from eigenvalues to eigenvectors up to a scalar factor. In quantum mechanics, it only makes sense to consider eigenvectors\n",
    "\n",
    "Recall that the state of a system in quantum mechanics is a unit vector in Hilbert space. Thus immediately during measurement of this system, the state collapses to one of the eigenstates up to a global phase (which is irrelevant).\n",
    "\n",
    "Left alone, the state of the system evolves parametrized by time $t$ and the Hamiltonian $\\hat{H}$ of the system as $U(t)=\\exp(-it\\hat{H}/\\hbar)$; we call $U(t)$ the time-evolution operator wrt $t$. Given an eigenbasis for the system defined by the Hamiltonian, this evolution preserves the magnitude of the state in the components in the eigenbasis, though not necessarily the phase. Since the magnitude is preserved, the probabilities of measuring the energy to be any one of the values of the system it is allowed to take on remains fixed.\n",
    "\n",
    "In the context of the electron in the magnetic field, the Hamiltonian is defined as $\\hat{H}=-\\alpha Z$, where $\\alpha=eB/(2m_e)$, noting that $e$, $B$ and $m_e$ are constants of convention. Then when we measure with respect to the observable $\\langle Z\\rangle$, the expectation of measuring it in either state is constant, because $\\hat{H}$ is a scalar factor of $Z$, and we have stated that the $\\hat{H}$ for this system was chosen so that the probabilities of measuring the energy to be any one of the values of the system it is allowed to take on remains fixed.\n",
    "\n",
    "But we can also measure the system with respect to other observables like $\\langle Y\\rangle$ or $\\langle Z \\rangle$, or some other direction. These observables likewise have eigenvalues $+1$ and $-1$ corresponding to whether the spin vector is pointed in their direction or not. But these observables define different eigenspaces from the Hamiltonian, and in fact the probability of measuring $+1$ versus $-1$ for these observables indeed change over time. It can be worked out that we can model the evolution as follows:\n",
    "\n",
    "Define a spin vector as a unit vector in 3-D space. The direction of the vector is defined componentwise in the x, y, and z axes by the expectation of the observables $\\langle X\\rangle$, $\\langle Y\\rangle$, and $\\langle Z\\rangle$ of the current state. Then the spin vector about the background magnetic field vector over time, with the speed of the rotation proportional to the strength of the magnetic field.\n",
    "\n",
    "Let us now work backwards to rederive properties of the Hamiltonian and time-evolution operator family from representing states as a unit vector in Hilbert space. Then the time-evolution operators are unitary, and so its eigenvalues must have unit magnitude. Moreover, the spin vector being orthogonal to the z-axis is represented as a uniform superposition of the eigenstates of the time-evolution operators up to a relative phase. Then the relative phase is identified with the orientation of the spin vector projected to the plane normal to the z-axis. So the eigenvalues of the time-evolution operators denote how the absolute phases of the eigenstate coefficients vary over time to produce that relative phase.\n",
    "\n",
    "We therefore see that the eigenvalues all lie on the unit circle having the form $U(t)=\\exp(-it\\lambda_j/\\hbar)$, where the $\\lambda_j$ is real. We then exploit the mathematical formalism of the matrix exponential to arrange the $\\lambda_j$'s as the eigenvalues of some matrix having the same corresponding eigenstates. This uniquely defines a Hermitian matrix. (Note that multiple normal matrices may correspond to this arrangement of eigenvalues and eigenspaces, hence the Hermitian requirement.)"
   ]
  },
  {
   "cell_type": "markdown",
   "metadata": {},
   "source": [
    "## H.3.1a"
   ]
  },
  {
   "cell_type": "code",
   "execution_count": null,
   "metadata": {},
   "outputs": [],
   "source": [
    "dev = qml.device(\"default.qubit\", wires=1)\n",
    "\n",
    "@qml.qnode(dev)\n",
    "def evolve_rotation(B, time):\n",
    "    \"\"\"Simulates an electron (initial state |0>) in a magnetic field, using a \n",
    "    Z rotation.\n",
    "    \n",
    "    Args:\n",
    "        B (float): The strength of the field, assumed to point in the z direction.\n",
    "        time (float): The time we evolve the electron state for.\n",
    "\n",
    "    Returns:\n",
    "        array[complex]: The state of the system after evolution.\n",
    "    \"\"\"\n",
    "    e = 1.6e-19\n",
    "    m_e = 9.1e-31\n",
    "    alpha = B*e/(2*m_e)\n",
    "    ##################\n",
    "    # YOUR CODE HERE #\n",
    "    ##################\n",
    "    qml.RZ(-2 * alpha * time, wires=0)\n",
    "    return qml.state()\n"
   ]
  },
  {
   "cell_type": "markdown",
   "metadata": {},
   "source": [
    "## H.3.1b"
   ]
  },
  {
   "cell_type": "code",
   "execution_count": null,
   "metadata": {},
   "outputs": [],
   "source": [
    "dev = qml.device(\"default.qubit\", wires=1)\n",
    "\n",
    "@qml.qnode(dev)\n",
    "def evolve_magnetic(B, time):\n",
    "    \"\"\"Simulates an electron (initial state |0>) in a magnetic field, using qml.evolve\n",
    "    \n",
    "    Args:\n",
    "        B (float): The strength of the field, assumed to point in the z direction.\n",
    "        time (float): The time we evolve the electron state for.\n",
    "\n",
    "    Returns:\n",
    "        array[complex]: The state of the system after evolution.\n",
    "    \"\"\"\n",
    "    e = 1.6e-19\n",
    "    m_e = 9.1e-31\n",
    "    alpha = B*e/(2*m_e)\n",
    "    ##################\n",
    "    # YOUR CODE HERE #\n",
    "    ##################\n",
    "    qml.evolve(-alpha * qml.PauliZ(wires=0), time)\n",
    "\n",
    "    return qml.state()\n",
    "\n",
    "B, t = 0.1, 0.6\n",
    "if np.allclose(evolve_rotation(B, t), evolve_magnetic(B, t)):\n",
    "    print(\"The two circuits give the same answer!\")"
   ]
  },
  {
   "cell_type": "markdown",
   "metadata": {},
   "source": [
    "## H.3.1c (missing)"
   ]
  },
  {
   "cell_type": "markdown",
   "metadata": {},
   "source": [
    "## H.3.1d"
   ]
  },
  {
   "cell_type": "code",
   "execution_count": null,
   "metadata": {},
   "outputs": [],
   "source": [
    "##################\n",
    "# HIT SUBMIT FOR #\n",
    "# PLOTTING MAGIC #\n",
    "################## \n"
   ]
  },
  {
   "cell_type": "markdown",
   "metadata": {},
   "source": [
    "## H.3.1e"
   ]
  },
  {
   "cell_type": "code",
   "execution_count": null,
   "metadata": {},
   "outputs": [],
   "source": [
    "dev = qml.device(\"default.qubit\", wires=1)\n",
    "\n",
    "def evolve_plus_state(B, time):\n",
    "    \"\"\"Simulates an electron (initial state |+>) in a magnetic field.\n",
    "    \n",
    "    Args:\n",
    "        B (float): The strength of the field, assumed to point in the z direction.\n",
    "        time (float): The time we evolve the electron state for.\n",
    "    \"\"\"\n",
    "    e = 1.6e-19\n",
    "    m_e = 9.1e-31\n",
    "    alpha = B*e/(2*m_e)\n",
    "    ##################\n",
    "    # YOUR CODE HERE #\n",
    "    ##################\n",
    "    qml.Hadamard(wires=0)\n",
    "    qml.evolve(qml.PauliZ(wires=0), -alpha * time)\n",
    "\n",
    "@qml.qnode(dev)\n",
    "def mag_z_plus_X(B, time):\n",
    "    \"\"\"Simulates an electron (initial state |+>) in a magnetic field and returns <X>.\n",
    "    \n",
    "    Args:\n",
    "        B (float): The strength of the field, assumed to point in the z direction.\n",
    "        time (float): The time we evolve the electron state for.\n",
    "\n",
    "    Returns:\n",
    "        float: Expectation value for the Pauli X operator.\n",
    "    \"\"\"\n",
    "    evolve_plus_state(B, time)\n",
    "    return qml.expval(qml.PauliX(0))\n",
    "\n",
    "@qml.qnode(dev)\n",
    "def mag_z_plus_Y(B, time):\n",
    "    \"\"\"Simulates an electron (initial state |+>) in a magnetic field and returns <Y>.\n",
    "    \n",
    "    Args:\n",
    "        B (float): The strength of the field, assumed to point in the z direction.\n",
    "        time (float): The time we evolve the electron state for.\n",
    "\n",
    "    Returns:\n",
    "        float: Expectation value for the Pauli X operator.\n",
    "    \"\"\"\n",
    "    evolve_plus_state(B, time)\n",
    "    return qml.expval(qml.PauliY(0))\n",
    "\n",
    "##################\n",
    "# HIT SUBMIT FOR #\n",
    "# PLOTTING MAGIC #\n",
    "##################\n"
   ]
  }
 ],
 "metadata": {
  "kernelspec": {
   "display_name": "pennylane",
   "language": "python",
   "name": "python3"
  },
  "language_info": {
   "name": "python",
   "version": "3.12.7"
  }
 },
 "nbformat": 4,
 "nbformat_minor": 2
}
