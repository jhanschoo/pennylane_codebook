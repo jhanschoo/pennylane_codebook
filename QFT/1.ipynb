{
 "cells": [
  {
   "cell_type": "code",
   "execution_count": 1,
   "metadata": {},
   "outputs": [],
   "source": [
    "import pennylane as qml\n",
    "from pennylane import numpy as np"
   ]
  },
  {
   "cell_type": "markdown",
   "metadata": {},
   "source": [
    "## F.1.1"
   ]
  },
  {
   "cell_type": "markdown",
   "metadata": {},
   "source": [
    "Concept: motivating example, polynomial multiplication. Let $p$ be a complex polynomial of degree at most $m$ and let $q$ be a complex polynomial of degree at most $n$. Then $pq$ is a polynomial of degree at most $m+n$. A list $m+1$ coefficients uniquely defines a polynomial of degree at most $m$.\n",
    "\n",
    "Concept: The Lagrange interpolating polynomial has that all complex polynomials of degree up to $m$ are uniquely defined by the value they take on at $m+1$ distinct complex points. Thus $p$ is defined by its value at $m+1$ points, $q$ is defined by its value at $n+1$ points, and $pq$ is defined by its value at $m+n+1$ points.\n",
    "\n",
    "Concept: If we evaluate $p$ and $q$ at $m+n+1$ points, then multiply the given values, this uniquely defines $pq$.\n",
    "\n",
    "Concept: Evaluating the coefficient representation of a polynomial $p$ of degree $m$ at $m+1$ points to obtain a vector of $m+1$ values of $p$ at those points can be viewed as left-multiplying a vector $c$ of the $m+1$ coefficients of $p$ with an $(m+1)\\times(m+1)$ Vandermonde matrix $V$ of those points, as $Vc$. With $i,j$ 0-indexing the roes and columns of the matrix respectively, $V_{i,j}=x_i^j$, where $x_i$ is the $i$-th point that we have chosen to evaluate the polynomial.\n",
    "\n",
    "Concept: we see that the Vandermonde matrices are parametrized up to row permutations of the matrix by a finite set of points. Furthermore, the Vandermonde matrices as invertible (as we have defined them, the $x_i$'s are all distinct.).\n",
    "\n",
    "Concept: the inverse Vandermonde matrix left-multiplies a vector of the value representation of a polynomial to convert it to the coefficient representation.\n",
    "\n",
    "Concept: We may choose to evaluate at the $m+1$ roots of unity. When we do so, we call the function defined by the left-multiplication the **discrete Fourier transform**, or DFT.\n",
    "\n",
    "Concept: Once we restrict the space of indeterminates to the unit circle (and the roots of unity lie on the unit circle), we may view the polynomial in the following way; the $i$-th term describes the rotation of a vector defined by the coefficient $i$ times in a period $[0,2\\pi)$. Expressed in polar coordinates, the magnitude is the amplitude, and the degree corresponds to the phase shift from $e^0$. That is, this is a trigonometric polynomial.\n",
    "\n",
    "Concept: Then, the DFT converts trigonometric polynomials to their value at equidistant points in the period, and its inverse converts them back. It is easy to see that the DFT is unitary except for a scaling factor of $n+1$.\n",
    "\n",
    "Concept: going back to the Vandermonde matrix for DFT, one observes in fact that the matrix is symmetric, where $x_j^i=x_i^j$. \n",
    "\n",
    "Concept: The **fast Fourier transform**, or FFT, performs the DFT in an efficient manner. Consider the evaluation of a polynomial $p$ of degree at most $2^t-1$. We want to get the value of $p$ at the multiples of the $2^t$-th roots of unity. Instead of computing a matrix multiplication with a $2^t$-by-$2^t$ matrix, we do the following. $p$ = $p_e+p_o$, where we have split the polynomial into even and odd parts. Writing $p_e(X^2)=p_e'(X)$ and $Xp_o(X^2)=p_o'(X)$, we have that both $p_e'$ and $p_o'$ have degree at most $2^{t-1}-1$. Moreover, to perform DFT/FFT on them would be to be to evaluate them at the multiples of the $2^(t-1)$-th roots of unity, which is exactly at points $x_j$ for $p$, for $j$ even. Then because of symmetry, one may then multiply by the $2^t$-th root of symmetry to recover $p_o$ from $p_o'$, or to recover evaluation on an odd multiple of the $2^t$-th root of unity. Taking multiplication to be constant, this runs in $O(t2^t)$ time."
   ]
  },
  {
   "cell_type": "code",
   "execution_count": null,
   "metadata": {},
   "outputs": [],
   "source": [
    "def coefficients_to_values(coefficients):\n",
    "    \"\"\"Returns the value representation of a polynomial\n",
    "    \n",
    "    Args:\n",
    "        coefficients (array[complex]): a 1-D array of complex \n",
    "            coefficients of a polynomial with \n",
    "            index i representing the i-th degree coefficient\n",
    "\n",
    "    Returns: \n",
    "        array[complex]: the value representation of the \n",
    "            polynomial \n",
    "    \"\"\"\n",
    "    ##################\n",
    "    # YOUR CODE HERE #\n",
    "    ################## \n",
    "    values = np.fft.fft(coefficients)\n",
    "    return values\n",
    "\n",
    "A = [4, 3, 2, 1]\n",
    "print(coefficients_to_values(A))\n"
   ]
  },
  {
   "cell_type": "markdown",
   "metadata": {},
   "source": [
    "## F.1.2"
   ]
  },
  {
   "cell_type": "code",
   "execution_count": null,
   "metadata": {},
   "outputs": [],
   "source": [
    "def values_to_coefficients(values):\n",
    "    \"\"\"Returns the coefficient representation of a polynomial\n",
    "    \n",
    "    Args:\n",
    "        values (array[complex]): a 1-D complex array with \n",
    "            the value representation of a polynomial \n",
    "\n",
    "    Returns: \n",
    "        array[complex]: a 1-D complex array of coefficients\n",
    "    \"\"\"\n",
    "    \n",
    "    ##################\n",
    "    # YOUR CODE HERE #\n",
    "    ################## \n",
    "    coefficients = np.fft.ifft(values)\n",
    "    return coefficients\n",
    "\n",
    "\n",
    "A = [10.+0.j,  2.-2.j,  2.+0.j,  2.+2.j]\n",
    "print(values_to_coefficients(A))"
   ]
  },
  {
   "cell_type": "markdown",
   "metadata": {},
   "source": [
    "## F.1.3"
   ]
  },
  {
   "cell_type": "code",
   "execution_count": 4,
   "metadata": {},
   "outputs": [],
   "source": [
    "def nearest_power_of_2(x):\n",
    "    \"\"\"Given an integer, return the nearest power of 2. \n",
    "    \n",
    "    Args:\n",
    "        x (int): a positive integer\n",
    "\n",
    "    Returns: \n",
    "        int: the nearest power of 2 of x\n",
    "    \"\"\"\n",
    "    ##################\n",
    "    # YOUR CODE HERE #\n",
    "    ##################\n",
    "    return int(2 ** np.ceil(np.log2(x)))\n",
    "\n",
    "    pass"
   ]
  },
  {
   "cell_type": "markdown",
   "metadata": {},
   "source": [
    "## F.1.4"
   ]
  },
  {
   "cell_type": "code",
   "execution_count": null,
   "metadata": {},
   "outputs": [],
   "source": [
    "def fft_multiplication(poly_a, poly_b):\n",
    "    \"\"\"Returns the result of multiplying two polynomials\n",
    "    \n",
    "    Args:\n",
    "        poly_a (array[complex]): 1-D array of coefficients \n",
    "        poly_b (array[complex]): 1-D array of coefficients \n",
    "\n",
    "    Returns: \n",
    "        array[complex]: complex coefficients of the product\n",
    "            of the polynomials\n",
    "    \"\"\"\n",
    "    ##################\n",
    "    # YOUR CODE HERE #\n",
    "    ################## \n",
    "\n",
    "    # Calculate the number of values required\n",
    "    num_vals = len(poly_a) + len(poly_b) - 1\n",
    "\n",
    "    # Figure out the nearest power of 2\n",
    "    num_vals = nearest_power_of_2(num_vals)\n",
    "\n",
    "    # Pad zeros to the polynomial\n",
    "    poly_a = np.pad(poly_a, (0, num_vals - len(poly_a)))\n",
    "    poly_b = np.pad(poly_b, (0, num_vals - len(poly_b)))\n",
    "    print(poly_a.shape)\n",
    "\n",
    "    # Convert the polynomials to value representation\n",
    "    values_a = coefficients_to_values(poly_a)\n",
    "    values_b = coefficients_to_values(poly_b)\n",
    "\n",
    "    # Multiply\n",
    "    values = values_a * values_b\n",
    "\n",
    "    # Convert back to coefficient representation\n",
    "    coefficients = values_to_coefficients(values)\n",
    "    return coefficients\n"
   ]
  }
 ],
 "metadata": {
  "kernelspec": {
   "display_name": "pennylane",
   "language": "python",
   "name": "python3"
  },
  "language_info": {
   "codemirror_mode": {
    "name": "ipython",
    "version": 3
   },
   "file_extension": ".py",
   "mimetype": "text/x-python",
   "name": "python",
   "nbconvert_exporter": "python",
   "pygments_lexer": "ipython3",
   "version": "3.12.7"
  }
 },
 "nbformat": 4,
 "nbformat_minor": 2
}
