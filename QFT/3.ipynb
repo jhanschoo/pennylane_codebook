{
 "cells": [
  {
   "cell_type": "code",
   "execution_count": 1,
   "metadata": {},
   "outputs": [],
   "source": [
    "import pennylane as qml\n",
    "from pennylane import numpy as np"
   ]
  },
  {
   "cell_type": "markdown",
   "metadata": {},
   "source": [
    "## F.3.1\n"
   ]
  },
  {
   "cell_type": "markdown",
   "metadata": {},
   "source": [
    "Concept: the QFT can be seen as a generalization of the Hadamard operator and a sibling of the Hadamard transform that puts a system of qubits in the computational bases; the Hadamard matrix is the QFT matrix except that $\\omega=-1$ instead of being parametrized by the size of the matrix."
   ]
  },
  {
   "cell_type": "code",
   "execution_count": null,
   "metadata": {},
   "outputs": [],
   "source": [
    "num_wires = 3\n",
    "dev = qml.device(\"default.qubit\", wires=num_wires)\n",
    "\n",
    "@qml.qnode(dev)\n",
    "def three_qubit_QFT(basis_id):\n",
    "    \"\"\"A circuit that computes the QFT on three qubits.\n",
    "    \n",
    "    Args:\n",
    "        basis_id (int): An integer value identifying the basis state to construct.\n",
    "        \n",
    "    Returns:\n",
    "        array[complex]: The state of the qubits after the QFT operation.\n",
    "    \"\"\"\n",
    "    # Prepare the basis state |basis_id>\n",
    "    bits = [int(x) for x in np.binary_repr(basis_id, width=num_wires)]\n",
    "    qml.BasisState(bits, wires=[0, 1, 2])\n",
    "    \n",
    "    ##################\n",
    "    # YOUR CODE HERE #\n",
    "    ##################\n",
    "    qml.Hadamard(wires=0)\n",
    "    qml.ctrl(qml.S, control=1)(wires=0)\n",
    "    qml.ctrl(qml.T, control=2)(wires=0)\n",
    "    qml.Hadamard(wires=1)\n",
    "    qml.ctrl(qml.S, control=2)(wires=1)\n",
    "    qml.Hadamard(wires=2)\n",
    "    qml.SWAP(wires=[0, 2])\n",
    "\n",
    "    return qml.state()\n"
   ]
  },
  {
   "cell_type": "markdown",
   "metadata": {},
   "source": [
    "## F.3.2\n"
   ]
  },
  {
   "cell_type": "code",
   "execution_count": null,
   "metadata": {},
   "outputs": [],
   "source": [
    "dev = qml.device('default.qubit', wires=4)\n",
    "\n",
    "            \n",
    "def swap_bits(n_qubits):\n",
    "    \"\"\"A circuit that reverses the order of qubits, i.e.,\n",
    "    performs a SWAP such that [q1, q2, ..., qn] -> [qn, ... q2, q1].\n",
    "    \n",
    "    Args:\n",
    "        n_qubits (int): An integer value identifying the number of qubits.\n",
    "    \"\"\"\n",
    "    ##################\n",
    "    # YOUR CODE HERE #\n",
    "    ##################\n",
    "    for i in range(n_qubits // 2):\n",
    "        qml.SWAP(wires=[i, n_qubits - i - 1])\n",
    "\n",
    "@qml.qnode(dev) \n",
    "def qft_node(basis_id, n_qubits):\n",
    "    # Prepare the basis state |basis_id>\n",
    "    bits = [int(x) for x in np.binary_repr(basis_id, width=n_qubits)]\n",
    "    qml.BasisState(bits, wires=range(n_qubits))\n",
    "    # qft_rotations(n_qubits)\n",
    "    swap_bits(n_qubits)\n",
    "    return qml.state()\n"
   ]
  },
  {
   "cell_type": "markdown",
   "metadata": {},
   "source": [
    "## F.3.3"
   ]
  },
  {
   "cell_type": "code",
   "execution_count": null,
   "metadata": {},
   "outputs": [],
   "source": [
    "dev = qml.device('default.qubit', wires=4)\n",
    "\n",
    "def qft_rotations(n_qubits):\n",
    "    \"\"\"A circuit performs the QFT rotations on the specified qubits.\n",
    "    \n",
    "    Args:\n",
    "        n_qubits (int): An integer value identifying the number of qubits.\n",
    "    \"\"\"\n",
    "\n",
    "    ##################\n",
    "    # YOUR CODE HERE #\n",
    "    ################## \n",
    "    for i in range(n_qubits):\n",
    "        qml.Hadamard(wires=i)\n",
    "        for j in range(i+1, n_qubits):\n",
    "            qml.ControlledPhaseShift(np.pi / 2 ** (j - i), wires=[j, i])\n",
    "\n",
    "@qml.qnode(dev) \n",
    "def qft_node(basis_id, n_qubits):\n",
    "    # Prepare the basis state |basis_id>\n",
    "    bits = [int(x) for x in np.binary_repr(basis_id, width=n_qubits)]\n",
    "    qml.BasisState(bits, wires=range(n_qubits))\n",
    "    qft_rotations(n_qubits)\n",
    "    swap_bits(n_qubits)\n",
    "    return qml.state()\n"
   ]
  },
  {
   "cell_type": "markdown",
   "metadata": {},
   "source": [
    "## F.3.4"
   ]
  },
  {
   "cell_type": "code",
   "execution_count": null,
   "metadata": {},
   "outputs": [],
   "source": [
    "dev = qml.device('default.qubit', wires=4)\n",
    "\n",
    "def qft_recursive_rotations(n_qubits, wire=0):\n",
    "    \"\"\"A circuit that performs the QFT rotations on the specified qubits\n",
    "        recursively.\n",
    "        \n",
    "    Args:\n",
    "        n_qubits (int): An integer value identifying the number of qubits.\n",
    "        wire (int): An integer identifying the wire \n",
    "                    (or the qubit) to apply rotations on.\n",
    "    \"\"\"\n",
    "\n",
    "    ##################\n",
    "    # YOUR CODE HERE #\n",
    "    ################## \n",
    "    if wire == n_qubits:\n",
    "        return\n",
    "    qml.Hadamard(wires=wire)\n",
    "    for i in range(1, n_qubits - wire):\n",
    "        qml.ControlledPhaseShift(np.pi / 2 ** i, wires=[wire + i, wire])\n",
    "    qft_recursive_rotations(n_qubits, wire + 1)\n",
    "\n",
    "@qml.qnode(dev) \n",
    "def qft_node(basis_id, n_qubits):\n",
    "    # Prepare the basis state |basis_id>\n",
    "    bits = [int(x) for x in np.binary_repr(basis_id, width=n_qubits)]\n",
    "    qml.BasisState(bits, wires=range(n_qubits))\n",
    "    qft_recursive_rotations(n_qubits)\n",
    "    swap_bits(n_qubits)\n",
    "    return qml.state()"
   ]
  },
  {
   "cell_type": "markdown",
   "metadata": {},
   "source": [
    "## F.3.5"
   ]
  },
  {
   "cell_type": "code",
   "execution_count": null,
   "metadata": {},
   "outputs": [],
   "source": [
    "dev = qml.device('default.qubit', wires=4)\n",
    "\n",
    "@qml.qnode(dev)\n",
    "def pennylane_qft(basis_id, n_qubits):\n",
    "    \"\"\"A that circuit performs the QFT using PennyLane's QFT template.\n",
    "    \n",
    "    Args:\n",
    "        basis_id (int): An integer value identifying \n",
    "            the basis state to construct.\n",
    "        n_qubits (int): An integer identifying the \n",
    "            number of qubits.\n",
    "            \n",
    "    Returns:\n",
    "        array[complex]: The state after applying the QFT to the qubits.\n",
    "    \"\"\"\n",
    "    # Prepare the basis state |basis_id>\n",
    "    bits = [int(x) for x in np.binary_repr(basis_id, width=n_qubits)]\n",
    "    qml.BasisState(bits, wires=range(n_qubits))\n",
    "\n",
    "    ##################\n",
    "    # YOUR CODE HERE #\n",
    "    ################## \n",
    "    qml.QFT(wires=range(n_qubits))\n",
    "\n",
    "    return qml.state()"
   ]
  }
 ],
 "metadata": {
  "kernelspec": {
   "display_name": "pennylane",
   "language": "python",
   "name": "python3"
  },
  "language_info": {
   "codemirror_mode": {
    "name": "ipython",
    "version": 3
   },
   "file_extension": ".py",
   "mimetype": "text/x-python",
   "name": "python",
   "nbconvert_exporter": "python",
   "pygments_lexer": "ipython3",
   "version": "3.12.7"
  }
 },
 "nbformat": 4,
 "nbformat_minor": 2
}
